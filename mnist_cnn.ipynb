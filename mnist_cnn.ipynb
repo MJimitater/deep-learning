{
 "cells": [
  {
   "cell_type": "markdown",
   "metadata": {},
   "source": [
    "# MNIST with CNN\n",
    "\n",
    "## MNIST data set download/import"
   ]
  },
  {
   "cell_type": "code",
   "execution_count": 1,
   "metadata": {
    "tags": []
   },
   "outputs": [
    {
     "output_type": "stream",
     "name": "stdout",
     "text": "cuda:0\n"
    }
   ],
   "source": [
    "import torch\n",
    "import torchvision\n",
    "import torchvision.transforms as transforms\n",
    "import numpy as np\n",
    "\n",
    "\n",
    "#Select NVIDIA if available, otherwise cpu:\n",
    "#device = torch.device(\"cuda:0\" if torch.cuda.is_available() else \"cpu\")\n",
    "\n",
    "device = torch.device(\"cuda:0\")\n",
    "#device = torch.device(\"cpu\")\n",
    "\n",
    "print(device)"
   ]
  },
  {
   "cell_type": "code",
   "execution_count": 2,
   "metadata": {},
   "outputs": [],
   "source": [
    "#Common image transformations:\n",
    "transform = transforms.Compose(\n",
    "    #convert PIL image to tensor array:\n",
    "    [transforms.ToTensor(),\n",
    "    #each of the three pixel maps is centered to have mean 0.5 and std 0.5:\n",
    "     transforms.Normalize((0.5,), (0.5,))])\n",
    "\n",
    "#Download MNIST data:\n",
    "#root: where data to be stored, if not exists already\n",
    "#train=True: data is used for training (otherwise test set is created)\n",
    "#download=True: downloads data, if not exists in root already\n",
    "#transform: applies transformations to image\n",
    "trainset = torchvision.datasets.MNIST(root='./data', train=True, download=True, transform=transform)\n",
    "\n",
    "#Dataloader makes dataset an iterable object\n",
    "#batch_size: how many samples per batch to load\n",
    "#shuffle: have data reshuffled at every epoch\n",
    "#num_workers: how many subprocesses to use for data loading (0 means data is loaded into main process)\n",
    "trainloader = torch.utils.data.DataLoader(trainset, batch_size=4, shuffle=True, num_workers=2)\n",
    "\n",
    "#Load test data set:\n",
    "testset = torchvision.datasets.MNIST(root='./data', train=False,\n",
    "                                       download=True, transform=transform)\n",
    "#Dataloader for test set:\n",
    "testloader = torch.utils.data.DataLoader(testset, batch_size=4,\n",
    "                                         shuffle=True, num_workers=2)\n",
    "\n",
    "#Set classes:\n",
    "#class_label[0]=0, ..., class_label[9]=9:\n",
    "classes = (0,1,2,3,4,5,6,7,8,9)"
   ]
  },
  {
   "cell_type": "markdown",
   "metadata": {},
   "source": [
    "Exploring training set and test set:"
   ]
  },
  {
   "cell_type": "code",
   "execution_count": 3,
   "metadata": {
    "tags": []
   },
   "outputs": [
    {
     "output_type": "stream",
     "name": "stdout",
     "text": "Training set: torch.Size([60000, 28, 28])\nClasses: ['0 - zero', '1 - one', '2 - two', '3 - three', '4 - four', '5 - five', '6 - six', '7 - seven', '8 - eight', '9 - nine']\nTest set: torch.Size([10000, 28, 28])\nClass 0 has 5923 training images and 980 test images\nClass 1 has 6742 training images and 1135 test images\nClass 2 has 5958 training images and 1032 test images\nClass 3 has 6131 training images and 1010 test images\nClass 4 has 5842 training images and 982 test images\nClass 5 has 5421 training images and 892 test images\nClass 6 has 5918 training images and 958 test images\nClass 7 has 6265 training images and 1028 test images\nClass 8 has 5851 training images and 974 test images\nClass 9 has 5949 training images and 1009 test images\n"
    }
   ],
   "source": [
    "print(\"Training set:\", trainloader.dataset.data.shape)\n",
    "print(\"Classes:\", trainset.classes)\n",
    "print(\"Test set:\", testloader.dataset.data.shape)\n",
    "\n",
    "for i in np.unique(np.asarray(trainloader.dataset.targets)):\n",
    "    print(\"Class {0} has {1} training images and {2} test images\".format(i, (trainloader.dataset.targets == i).sum(), (testloader.dataset.targets == i).sum()))"
   ]
  },
  {
   "cell_type": "markdown",
   "metadata": {},
   "source": [
    "## Sample example image batch"
   ]
  },
  {
   "cell_type": "code",
   "execution_count": 4,
   "metadata": {
    "tags": []
   },
   "outputs": [
    {
     "output_type": "display_data",
     "data": {
      "text/plain": "<Figure size 432x288 with 1 Axes>",
      "image/svg+xml": "<?xml version=\"1.0\" encoding=\"utf-8\" standalone=\"no\"?>\n<!DOCTYPE svg PUBLIC \"-//W3C//DTD SVG 1.1//EN\"\n  \"http://www.w3.org/Graphics/SVG/1.1/DTD/svg11.dtd\">\n<!-- Created with matplotlib (https://matplotlib.org/) -->\n<svg height=\"121.321606pt\" version=\"1.1\" viewBox=\"0 0 374.352357 121.321606\" width=\"374.352357pt\" xmlns=\"http://www.w3.org/2000/svg\" xmlns:xlink=\"http://www.w3.org/1999/xlink\">\n <defs>\n  <style type=\"text/css\">\n*{stroke-linecap:butt;stroke-linejoin:round;}\n  </style>\n </defs>\n <g id=\"figure_1\">\n  <g id=\"patch_1\">\n   <path d=\"M -0 121.321606 \nL 374.352357 121.321606 \nL 374.352357 0 \nL -0 0 \nz\n\" style=\"fill:none;\"/>\n  </g>\n  <g id=\"axes_1\">\n   <g id=\"patch_2\">\n    <path d=\"M 26.925 97.443481 \nL 361.725 97.443481 \nL 361.725 9.627088 \nL 26.925 9.627088 \nz\n\" style=\"fill:#ffffff;\"/>\n   </g>\n   <g clip-path=\"url(#pe408350c93)\">\n    <image height=\"88\" id=\"image73a14967db\" transform=\"scale(1 -1)translate(0 -88)\" width=\"335\" x=\"26.925\" xlink:href=\"data:image/png;base64,\niVBORw0KGgoAAAANSUhEUgAAAU8AAABYCAYAAAB1aXVlAAAABHNCSVQICAgIfAhkiAAAIABJREFUeJztnVtz2+aZx/8kARIgeD6KpESKkmVHVhKrTdI462Q7k2lne7E3/UT9NNvLvdqZ3YttZ7u7nrZuXNtqKkuydbAons8kQIIAD3vhed6AMmVLdtYELfxmOk5p2YZeAQ+e4/+x/eY3v5nAwsLCwuJK2Od9ARYWFhaLiGU8LSwsLN4Cy3haWFhYvAXcrA9HoxHG4/H7vpaFxuFwwG6ffheNx2OMRqM5XdFiYrfbYbfbYbPZ2GeTyQSj0QiTiZWevwrWPfnjYLfb4XA4Xvn8FeM5Go2Qy+VwdnZmHfIl4Xkeq6urSCQSUw99s9nE0dERer3eHK9usYjH48hms3C5XOyzwWCA4+NjVCqVOV7ZYiFJEtbW1hAKhdhnk8kEhUIBp6en0HV9jle3ODgcDqysrGB5efkVAzrTeJ6enuLBgwfWAV8SURThcrmwtLQ0ZTwbjQYeP36MWq02x6tbLLa2tpBMJqeMp6qqODg4wO7u7hyvbLGIRqMIBoNTxnM8HqNYLOLBgwfo9/tzvLrFged5TCYTJJPJNxtP4KUB1TTNMp6XhOO4mV76eDyGpmnQNG0OV7WYDIfDV8LzyWSC4XBoneMV0HV9ZpqDnm3rLC8HpYxmYRWMLCwsLN4Cy3haWFhYvAUzw3YLCwsLM2Gz2eB2u+FyueByuRAIBCAIAprNJgqFwlzSEJbxtLCwMD08z2N5eRlLS0uIx+O4d+8ekskk7t+/j9/+9rdz6cSwjKeFhYXpsdvt8Hg8iEQiSKVS+Pjjj7G2toZSqQRBEOZyTZbxtLCwMC3UoO7xeHDz5k189tlniEQiCIVC4HkegiDA6/XC5/NhMBhgMBi8t2uzjKeFhYVp4TiO5Tjv3r2LX//613A4HOB5HjabjXmjqqqi1WpB07T3NolmGU8LCwvTwvM8RFGEJEkIBoOIRqOYTCbQNA3D4ZB5pg6HAzabDTabzTKeFhYW1xuHw4GNjQ385Cc/QTQaxerqKux2O0ajERua6PV6aDabaDQa6Pf771X/wDKeFhYWpsThcODWrVv453/+ZwSDQayursLhcGA0GkHXdWiaBkVR0Gg0UK/XAcAynleF5sntdjucTic4jsNwOMRgMLDUoSwsFhSbzQan0wmPxwOPxwOe56d+fzKZYDKZYDwez0Vxa2GNp81mY9JllPNwu93IZrMIh8Oo1WrY399Ht9ud96VaWFi8JW63G+FwmDXFm4mFHc8k42m328FxHJxOJyRJQjqdxubmJtLptOkO28LC4vKQ5+n1euH1el/xPOeNqT1Pm80GjuPg8/kgiiIzmADgcrkgCALzOEVRhNvtRiqVgt/vhyRJ4DiOhfSWkK7Fu0L3ElWAHQ4HGxd0OByQJAlut3vqz1B+bjweYzAYQFVVlkoitahutwtVVQFg6vcsXmKUeTQTpjWepILt9/uxvb2NdDoNh8MBp9MJh8OBQCCAaDQKl8uFWCyGSCSC4XCIer2OXq8HVVUhSRJ4nsd4PMZwOJz3t2SxwFB6yG63IxAIIJPJwOPxIBqNIpVKwe12Y2NjA9lslr3gJ5MJ+v0+Go0GBoMByuUycrkcM6bj8RidTgc7OzsoFAqsiky/Z+XrzY1pjSfdrE6nE7FYDOl0GhzHQRAEcByHSCSCZDIJURSRSqWQSCTQ6/Wwt7eHcrnMDKfD4cBkMnmv/V9m5m3e4ta5vYR6Cl0uF4LBIPx+P1KpFNbX1+H1erG9vY2tra0p4ynLMsrlMnq9HnK5HHiex2AwYKtuGo0Gjo+PWdO30WBSQeQ6Y1avEzCZ8aSwnOM4rKysIJFIIBwO486dO1hbW2OTBQ6HA16vF8FgkIVQwMtphFAoBIfDgV6vh6+++gqrq6uo1+solUqstaHf77MK3Yd4c/I8D5/PB0EQIEkSIpHIVNXy/F6b16HrOiqVCprNJkajEVRVxXA4hKqq6HQ6zFP6kFa2GL1Mj8cDSZIgCAISiQT8fj9CoRBu3LgBr9eLUCiEeDwOURQRCAQAgDVxj0YjKIqCdruNXq8Hh8OBRCLB9jFNJhNEo1FwHIePP/4Yqqqi2+1C13UoioJutwtN01Cr1dBsNlll+UOHztLj8SAUCkEQBBZxmglTGU+73Q6e5+F2u/Hpp5/i3r17CIVC2N7exsrKCgCwKQIyspQXpeRyMplEPB5HKBSCz+dDu93G06dP8d1336Hb7eLs7Azlcpnloj5E4ykIAtLpNILBINLpNLa3t+H3+7G8vIxMJgOOu/yPXZZl/PnPf8be3h76/T7q9Tr6/T4qlQqOj4/R7/eZJ/WhQBEPz/NIpVJIpVIIBoP48ssvsba2Bp/Ph3Q6DbfbDY7jwHEca5Oz2WwYjUbsXFqtFiqVChRFgd/vx82bN8FxHLvvbDYbvv76a9hsNnQ6HRSLRfT7fZTLZZydnaHb7eLRo0dQFIWlnj50A0rnFAgEsLy8DI/Hw3LMZsJ0xpPjOOY5xeNxtofF7/dfWPyhz202G9t9Q3/e7XajXq8zj7TRaLAQ6UPbEkrdBy6Xi3nm4XAYS0tLCAaDWFlZQSaTuVLVstvt4vT0FI1Ggy2y6/V60DRtqjhizNMt+guJ0kNU6TWeYyqVgtfrRSwWYxEPfb/j8Ri6rkPXdfR6PfT7fciyjG63C0VRWPcHOQD0b3m9XrhcLoiiyPKkwMvFd/SzdLlcsNvt16J3meM4NpJJxTgavwR+KLTpuj7XWoapjKckSYhGo/D5fFhbW8OtW7cgSRI8Hs8rX0uHN5lMmJdghApJfr8fPM8jHA6j2+3iwYMH2NnZgaIoODs7Q7vdfl/f3v8rPM8zIxmPx/H1119jZWUF4XAYmUwGoigiGAxeKWQHAKfTifX1dXg8HhZOapqGSqWCzc1NKIqCQqGAfD4PVVVRKpXQarUWzoBSBONwOJDNZvHJJ5/A6/VifX0dq6urkCQJmUwGkUgELpeLee+apkFVVei6jlKphGq1CkVRcHR0hHq9znKeg8EAkiTB5/NNeVCSJOHGjRuIxWLgeR6SJLGWO8rjO51OBAIBtNtt7O3toVKpfNAhPP0sKEVnfNkAL1/eBwcHqFarOD4+fq9KSkZMZzyTySRCoRDW19dx69YtOJ3OmQ/8cDhknhCF+0YEQUAsFgMAJJNJfPrpp1AUBQ6HA4PBAI1GA61W64MwnjabDTzPI5lMYn19Hel0Gr/4xS+wsbEBp9MJQRBm7kO/DGQ8s9ksy9NNJhPUajWcnJxAlmXs7u7i+++/R7vdxmAwYGe6SAbUOJ22traGX/7yl4hEIrhx4wYbC6Q8qPFh1jQNnU4H/X4fe3t7ePr0KRqNBh4+fIjT01NomgZZlqHr+lSrHREKhfDNN99gfX0dS0tLuHPnDjweD8ut6roOURQRCoVQLBbRaDTQaDQ+6Jw9Pc9kPM+fmaIoODg4wNHRkWU86WakEMXr9UIURfA8z/JDFGZTm4csy2g2m+zPC4IwZRgo6Q+A/Toej1kYNhwOWY4KWKwH3YjT6WQDAuFwGPF4HJFIBF6vF263Gw6Hg+WEyVuh1q3Lhjx0RpQLtNvtcLvd8Pv94DiO/bvkIXk8HjYea/ZcKH1vdO2CICAcDiMYDLLvhfqJCaPR6vV6qNVqUBQF1WoV1WqVvZSp+NPv9y88B6fTiWaziXq9Do7jUK1WMRwO2blyHAePx4NwOMza7wRBgK7rrPBkZma9rK9yzcaUHEHpEVJWmtcZzN140luG4zgkEgncuXOH5ZfOHxyFiL1eD6enp9jf34fdbsc333yDL7744o0JZY7jkM1mMRwOkc/ncXx8jGKxyH4YZr8Rz2Oz2RCPx7G6uopgMIhvv/0WP/3pT+HxeJBMJsHz/JS3SU3amqahWCwyMYU3/Rv09vd6vchms/D5fJAkCalUCsPhEMFgELdu3UKz2YQkSfD7/Wi32zg8PDS1Z08eu8PhQCqVwr179xCPx3H79m1sbW2xF/l5z4dybqPRCAcHB/jd737HWo5yuRxUVUWtVkOv13tjv2av18Pu7i5yuRx8Ph++//57eDwe3L17F7/85S8hSRLi8Tj8fj/i8Tj29vYgyzIrLs3L67oMFH4bW7eAl4MD7/pSJQdgnqmLuRtPY36DlFOi0SgCgcArb63BYIBKpYJWq4W9vT38+c9/hsPhwNraGj777LM3Gk+Hw4FYLMZ69SgfSl7YIhrPYDCItbU1RKNRbG9v46uvvrowrzkcDtHv99Hv95HP55HL5d74PZOB4TgO0WiUtesIgsAKIJQeaTQaKJVKUBQF5XIZ+Xze9MaT2t/C4TC2t7eRzWaRTqdfO95Lu7x1XUc+n8ef/vQnVCoVlEolVCqVKz3Qmqbh9PQUwMtU0+HhIVNHJ4cgEAjA6/WybpJcLge73Y5qtWp640npDgBTaZ93MZ7GCOpaG0+e59nDGA6HWchE45hGjIfm8XhY47yxEv86qJ2JkvL0v8FgwNIBiwJ1Jng8HjZh5Xa7p86BzsvYkF0sFtHr9fDixQtmPF9XIadcIM/z0HWdtZBQw7jx33M4HMxDGg6HLNw1W3HDmCZKJpMIBAJYXV1FLBZDKBSCJElvzA/T90+rIIzf67tAaRae5+FyuVge1ij0O2+j8TqMWy7pmaauBLrP2u02ms0me5nPY/Plj8HcjackSVhbW0MoFMLW1ha2trZeazzJ5c9kMqyglM1mL9UDZrfb4fP54Ha7oaoqEokEEokES/gvyggn5R6dTifS6TS++OIL1qxNZ0b5MBoM0DQNf/vb3/Ddd9+h3W7j4OAAZ2dnzIO6yBOg/KbL5cKtW7eQzWbh8XjgcrlYTpUMjcvlwo0bNyCKIg4ODvDkyROWwzNTWoR6M8PhML755htsbW0hkUiw/Tgul+u17Vz04qJURiwWg81mQ6PReKdJNo7j4Ha7WVU+GAwiGAxOeW4kAmzWSIm2XCaTSYTDYXz22WdIJBJTufanT59iZ2cHsizj9PQU5XJ53pf9VszdePI8j0AgwLxOkp+6CLphfD4fUqkUC78vSkyf/9xYYCEhh8FgcOUWnnliDDe9Xi/rhzX2HZKHQoUbVVVRr9fx4sULtNttnJycIJ/Pv7GwY7fbWZHC4/Gg0+lAVVVWpLPb7eycyfMcjUZoNBoQRZEV/HRdf59H9FroWgVBQCqVwq1btxAOhxGLxV577xmhFwYNdVCB812vi7xOp9PJREeI85GEGY2ncctlIpHAzZs3sbq6yq6bvM1isQie51Euly984ZyPoszG3I2nIAis+Zga2d/0tT6fD16vlwmkXnTTzjKo5LnSpj0K2c34w7kISZKQSCRYYYimqehBo7FATdNQrVZxdHSEXq+H4XCI7e1tyLLMDEiv10OpVGJtX+chw2ez2VAul/E///M/yOVybHKJpj9EUWSGdjKZIBKJYGVlBd1uF61WC8Vi0RQGlAweja5Go1Ekk0mWU5yFcRqI/r9xIMCoLfsu0HCI3++H2+2eWajSdd3U9yyNVm9vbyMcDiOZTCIYDLKzGo1G2NjYwGg0QqvVAvDy+6IWt8FgALfbjUQiwfq0jedOX1ur1VAoFFj4P5fvdS7/qgGPx4P19XXcuHEDqVRqqjXpoq8dj8dTUweX9RopjFVVFYqiQFEU9Hq9hZva8Pv92NzcRDgcxs2bN5mqD714hsMhms0mFEXB3t4efv/736Pb7eLevXv4p3/6J2iaBkEQ4HK5WCP364znYDCApmk4OjrCv/zLv8DlcuEf//Ef4fV6WXhGOb9gMAifzwdVVXH79m04nU7WMG4G4wmARR6BQADpdBofffQRy+3OYlb6iIqM4/H4rXtoz+NyuRCNRhGJROD3+1+5r8fjMVRVhSzLTJ/BbLhcLnz88cf41a9+BbfbjWg0OjWJNplMEAqFcPv2bTSbTdYR0mq1sL+/j8FgAJ/Ph42NDSSTSVbgBcA8bgr3nz17hna7Pbf7au7G0263My1OGkG76CZ0OBwsNL0Ms4ww5YxojI5aTsz4Fr8ImkShXk4qLBAk4EGjgdRzaLPZEAqFMBwOEQqFEAgEoGkau4GN/YvnpzqAl5XhZrMJm83G1ryebxcxhrMUdtI4rBkwqnXRAIEx3WEMLyeTyVS12Hhv0lmR0aWikdvtZvcUeVuzjBwVnIxQaoR6SymcNY5/UuRktrCd7hee56cEPURRhMvlmlI2s9vt7GUbCoWYZ0qjmE6nE263Gx6Ph93X5LXS89vv96EoCgaDwfXt87wMF3mib+L8nxmNRqhUKigUCsjlciiVSmg0GkwBx+wYb1AaW53lLcmyjJ2dHbx48QK9Xo/lkqkY4nK5cPPmTTidTuRyOTbuR9sIx+Mx80yNZygIAiKRCERRxNbWFhNgoeLeeDxmwr7FYhGHh4fY399HpVIxjddps9ng9XpZWEiGk3Jxw+EQh4eHePLkCXRdRyaTwfLyMkRRRCwWg9frBQBWMMpkMvj5z38ORVGwsbGBXC4HWZZxfHzMmufL5TITO6a85vLyMpaWllh13W63I51O4+7du4hGo8hms3A6nZhMJmxOnqIJ6tU1k/H0+XwIBAKsY8Htdk8pIZ3vygBeRpKffvopPB4PisUiAOD09BTpdBrhcBh+v5/dW8PhEIVCAbVaDc+fP0elUkG73YamaXPzwBfCeF62GPQmyHgeHBwgn89PNYqb6Ua8iFnG87yBA16KeTx58gRPnjxhD6LX652ay7516xaWl5fx/Plz7O3todfrQZZlAC/Pyev1vlKICwQCuHnzJuuMoFl6aqUhVfRms4l8Ps/+bpr9NgPUcZFIJJiUHPDSeFI4/OjRI/z2t79Fr9fD119/jS+//JJNH3m9XmYAASCTybBhgXq9jkajgVqthv/6r//CwcEBKpUKOp0OBoMB+/k5nU6srq7izp07LP/KcRwymQy++eYbRCIRVjQaj8dQFAXNZhPNZhOyLLPzNMs9a7PZ4Pf7kU6nEY1GEQ6HmeLUrBoGpTm8Xi8+/fRT3Lx5Ey9evECj0YDL5UI6nUYkEkEgEGDGk3pqnz9/jqOjI2Y8gfk9uwthPI2G8qpG83xjbq/XQ6vVQqfTMd3b+3UYixKk9kP9sefPg1Y+kMdCaQpjeoJ0UEkNPZlMotPpwOFwYDgcIhAIIBQKTeXdSKkqEAiwAYPzvZ4UVlJ4NRgMTNdWQ2GhceySimyKoqDT6aDT6UCWZaYFq6oqwuEw63IgiTRj2xKdp6ZprHpvs9lQr9dZQY2q/IlEAtFolKU3OI5jHRNU+KO0SKvVQrlcRrVaZaOeZgrbqU0tEAiwl8xF6bfzI9Q0Ik0jqNQ5cl7Dk/LM5HWbIdW2EMbz/IGf/+xNUDuOLMs4PDzEX/7yFzSbTVbtWwTI2+E4DktLS/jiiy+QyWTY/LMRMgSdTod95vF4sLKywtqMqPF9dXUVv/71r9FqtVCtVnFycgJN05iOpdFzcDqd8Pv9rD3M4/G8IhVGfaO6rkNV1SnhaTNAazTS6TRisRgrZnS7Xezu7qJSqWB/fx/VapVpmR4dHTH1o2g0img0iq2tLTb5Q0MDwEsh30gkgrt372JrawvdbheFQgH9fp9V+EkBKxqNMoNKnQqSJAF4mXppt9uQZRn//d//ze7Zw8ND052pzWbD8vIyvvrqK7bhgV4or3tOjeObsVgMP//5z3Hnzh0Eg0GkUimWR6Zcab/fR6fTgaIopkizLYTxfFeoNanX66FYLOLZs2eQZZmFqYvA+THWjY0N3LhxY+bXkufZ7/dZwUIURTSbTWiaxoolpJsYi8UwmUxQLBaxv78PVVWRzWaxvr7+imF+00vLWHDRNM100yM2m421KIVCIebl0ZqMXC7HxkrJgD179gyCIODk5AThcBirq6vMezzfVE/hNsn/qaqKdruN4XAIj8eDQCDAfo7GBYXADwWryWQCVVVZqL6zs4Pf/e53TGnebGdqt9sRiUSwubmJUCjEPPTLQAW5QCCATz75BMPhcErBigww5eT7/T5UVbWMp5F3rcaeV0cy9uLV63XkcjkW/lDS3Qw/gKtgTD9QSEwFh4vQdf0VdR+j12I8d/IoqfuBbt5Z12G8HkoL9Ho95PN5nJ2dMX1PMzNLhcsoZEHQmZPnQ0WLVquFQCCAYrE49TMwytsZ0y00umictjFew2AwYMaxUCjg5OQE7Xab6YGaeYSY0hcXnZ+iKKjX6ywlFAgEpgwsnT/9Xeel/8zI3I3nj3FA5/8OMpx0w+3s7ODf//3fUa/X8fTpU5RKJTYyuCgYp4ZUVUWj0WChs8/nu7CoRu1KJHemquqF44c+nw/r6+uYTCasbeQi6OGnaSLas/P73/8eOzs77LNFgXKR1Pp1/jx1XWdyc+VymS1tI0/T+PVGdXgK8f1+P5LJJGvFmXXfV6tV7O3tsdUxDx8+hCzLqNVqaLfbpt4VRZNWVCgi6EWby+Xwhz/8AZ1OB59//jn+4R/+4RXjScaX/r/xVzMyd+Np5McwpMaeOAoda7Ua9vf3UavV2DSNWfJFV8HoeVI+kXroLoI8T7vdzlpxjOtHjB4ojcpe9lqoONTr9dBut9FoNJDL5fDs2TNWrFoUjGmR80UwACyUptD5dS8GEqsRRZG13ZCYzeua21utFvL5POr1Og4ODrCzs7MwZ/gmz1OWZVZRz2azMws+P8agwfvEFMbzfBh4Eb1ej3lPlI+aTCYs0T4cDtnstaqqaLVaGAwGePz4MUqlErrd7lybat8FMlaTyQStVgvHx8fQdR2rq6uvhEAX/flyuYydnR0EAgGkUimEw2HW9nTee3oTrVYLp6en6PV6ODo6wtHREdrtNo6Pj1kng1m9pFlQnnI4HMLn8zEj+jaFGYp6JpMJqtUqnj59inw+j9PTUxweHl44TkyaoLIso1QqLdT5kSj0ZDKBz+djn9M9JYoiE8xWFAWPHz+G2+1GKpVCJBJZKKNJzN14Gg3nm2i1WtjZ2UGtVmMezmg0QiqVwtLSElRVxfHxMer1+lSVs9frsQrdIt2QRoziGpVKBY8ePUI+n4fdbkc2m32jKMVoNMLh4SH+8z//E4FAANvb22w3USqVunA08SLK5TLu37+PWq2Gx48f4/Hjx1BVlS2HM7Ns2iwEQUAymYQkSXj27BlEUUSv13urJWPj8Zh53tQkT/nU80UiI5TLpl8XJa00mUzQ6XSQy+XQ6/UQjUanWgptNhvbS9bpdFCv1/Ef//EfkCQJ3377LSuuLZI4D2AC43kVqJGZfgCFQoFV5ygsLRQKqFar6Ha7yOfzCxP2XAZ6wdBeHFEUoarqKy8eKlIY5eJoUqVarULXdTQaDYTDYYxGo0t5ruehwkmlUmFCwIvysM+CRgZ1XWf53ncJI+nFQZ0eHzL0Yu/1emw89Twcx0GSJIxGI1SrVTQaDfayJYfG7AWi8yyE8ZzVGE9qQBTC53I5NuVBM6+L/DC/C9TOtLS0BLvdzkQ5KJcmCAKazSaePHkCl8vFmpIvC7U10UqIQqGwsB494XQ6EQ6Hmbg0hfCdTufa3kdXodPp4OzsDKqqYnNzkwmm0HNLa1uCwSAqlQpkWcZgMEChUMDx8TFrmTOKiJidhTCes95GiqKwPGY+n2dfY9wquIi5zR8DjuMQCoWwtLQETdOYwnm9XmfCHk+fPmXJ/VkFkjdBgwdm2CXzY+ByuRCJRDAej1kPKLWDybJ8be+ly0Bh++npKSuo0fNH95Xb7cby8jIGgwH+/ve/sx7rQqHAWpdI6GZRmLvxpOT668QOZnmexj7ORX9w3xbjWRn/m9ZzBAIB1Ov1qe2hdFa09A7AW+WaqG1mEV9SpK7vdrunQkY6J6MY8et6aC1eQr2+iqIwj5I2gFIoTtX48XgMSZIQDAYBvLxXL7tDjIqmZnne535n0CZMkqTa2Nh45WsWKQ/yPjB61rNuOEmSsLW1xQQmdnZ22KimsZXL+N/vcg2LxGg0QqFQwKNHj5BMJnH79u2p37fZbBBFEdFoFOPxGO12m+WMLWYzmUzQaDSYjixFhKSbSkaUIp2PP/4YoigycROjsPRFkJOlKMprVzm/T+ZuPGkjpt1ux8rKiikOZRF4nQGl/sJQKIRiscjakM57qtfRINDE2dHREStAAtPRjdPpZILOV8kFX2e63S6bjmo2m2w0WBAE1glCY5fpdBrxeByDwQBHR0coFAqXeoGTXsI8ZeiMzN146rqOdrsNjuPQbrfR7/fZaNvr2jquM7SGgKZ7KMdEYh+k8DOZTBAIBBCPx6HrOps2uo5GkyBPh1qQ6CE03mckgKJp2sxpI4uLGY1GaLfbKBaL8Hq9TBfWiDGEJ+Fkr9f72hTJaDRCp9NBpVJhGg3zZu7GU5ZlHBwcQJIkxONx1vLi9/uZ8KzFNPV6HY8ePWKNx5988gkCgQCi0SiCwSDbQx4IBLCxsYG7d++iWCzi4OAAu7u71756TKLPxjYZI4FAADdu3EAwGMTx8bFlPK+Arut4/vw57t+/j3g8zjYeAD+8oCh8dzqdyGQySCQScDgcTFHqor/35OQE3333HStKzZu5G09d19FqtdDv99FqtVgi3+12zywUWTcy2OI6nudRr9fR6XTAcRwbraR1JeR5Li0twWazoVQqWecHMNk88jyNnrhRm3I0Gs3US7W4GFrsVigUYLfb2aSVsWGeCkgALr1x1Oh5mmXYZe7Gczwesyo75aJoFvv8nLUgCIjFYqwVZ9buHQuL10GVYVmW0Ww28ezZM8TjcXi9XqRSKSZonEql4PF4kMlkkMlkmIj2RYvyLF4yHA5RKpXA8zxbTQKAbTK46iQbQUMMXq+XRQ7z2ppJzN14ksiFpmk4OzvDX//6V0QiEUiShNXV1amvlSQJ2WwWsVgM+/v7rJXELG8iM2G9TGZDk1a0FuPBgweQZRmZTAbffvstRFFEMBiEJElQFAXHx8coFototVp4+vSpZTzfgK7rODw8RC6Xw8rKCqLRKFqtFtLp9IU7t4CHQs3xAAAJRElEQVQ3b4gw7oN/27HZH5u5G0/gh7YZ0jN0Op0zBTyoEAKAyfTzPM/6v64jRnWj8+GnZUBnQ60xg8EArVYLlUoFPp+PRUBGaTSfz8e2O142xLzOGNWn2u02ms0mGo0G29RKGqbnR18vkxqhav3bDHX8f2AK40nQ4nuO46bmgemtRPOxPM8jmUzio48+Qq1WQz6fR7lcvnbGYjKZoN1u48WLF1AUBcFgkO3NsXgzFO3oug6bzYZqtcqW6omiCI7jsLKygs8//xylUgmnp6fI5/OsYm/xemRZxu7uLmq1GhqNBrxeL9viGo1Gr6SncF5J3gznbxrjSYdDxQ+j4IWxSidJEkRRRDKZxObmJqrVKusVvY7Gs9VqMeOZzWbnfUkLxWAwwNnZGer1OpxOJyqVCoLBIGux4TgO6XQagiDg9PQUf/zjH6dk6q7b/XZVFEXB999/D0EQ0O12EY1GsbS0hPF4jFAo9FbGk1S7zBBpmsZ4Aj/kPykHOhwOZ0ryU/I4FAphNBqx9aTXEdItdTgcbO8Ox3Fs8yCFSIuw1uB9Q2pAdrud7VsybhmldhpJktgecivHfnmMxeBut4tqtQoA8Pv9iEaj7B6le5N+pQ2lNpuNiX5T4/2sFNW8MJXxlGUZ+XwesiyjWCyiVqtBFEW20gD4wQtNpVK4d+8e6vU68vk8Hj16NM9Lnwvj8RhnZ2dMVo7kwPx+P+tT5DgObrcbkiTB5XIxQ2qGsGfeUH6O1Pa73S46nQ5T56fd4k6nE/1+n3ml5PnMu2BhdmhljKZpODo6gqZpcLvd+Oijj7C/vw9BEODz+eB2u8HzPCsohUIhpFIpcByHg4MDPH78GNVqFQcHB5Bl2TTz7aYynv1+H7VajY14dTod1mt3fkohFArB6XSi0WggEoksnJDqjwG1d7Xbbfh8PqTTabZbPZlMMpFZo8iF0QM1w9t7npDnSWN/1DhvFKih9bd+v595oDabDYqizPnqzY9RwLtUKjFR6EajgXa7DbfbjVgshkAgwFStRFHEeDzG0tISHA4H8vk8Hjx4wJykWfq188JUxpMqxzSyWSwW2ZIzj8cz9bV2u52p3xi3PVLYdV0wCivous5CT7rBaAqJND6dTidTsblO5/QmVFVFqVSCKIpwOByIxWIAfqjwOp1OLC8vY3NzE41Gg3mrVgh/OYwiNIqioFqtQhAEaJqGdrsNp9OJZrMJl8uFZrOJXq8HjuOwt7eHUqmETqdjOmFzUxlPcsdtNhsb8YrFYvD5fIhEIlNfSztmRqMRwuEwEokEZFlGvV6/Vr14VLyg1cKyLE+NHUajUXz55ZdQFAVnZ2e4f/8+AFw4mnhdqdfruH//Pvb29vCzn/0M0WgUgUAAHo8HkiTB7/fjF7/4BW7fvo29vT3867/+K168eAFVVaEoiinCSLNDL3oyhuQAUUTEcRx7UZGH32q10Gw2oes6FEUxjdcJmMx4UgVzOByyES8A7I1jrL6TiK/T6WQrY0ej0bXUX6SbkraFGvd7U9g5GAyY5zlrw+F1R1VVFAoFdLtdZDIZKIrCzo5EV1ZWVhAMBjEYDODz+SAIgpX3vCI0pPAhODimtDR0wI1GA6Ioot/vs6rorKoxz/Ns/8x1NQrGVg4qgpAXb1XY3wylijRNw+npKf72t78hFAohk8lgeXmZVYG9Xi+i0Sg2NjbA8zxyuRwURTGFyo/F+8WUxpNEaAuFAhwOB1snzHHcK4UjEnLwer3X1vMEXp5Zv99Hp9OBLMtTrV7X9UyuglFXljQoA4EAPv/8czbZRjuOMpkMfvaznyGdTuMvf/kLTk9PLeN5DTHlU0WhO00TkBdlbFGgEJ9+z0y5kHkxHA6hqipbg0A5TWO6w9JJnY2xMizLMmq1GlNGp64Pav0SBAGBQAC6rsPr9b7TjneLxcW0xpOWbrndbnS7XZb3JB2/brfLhIB3d3dxcnLyweRS3gZd11krh6ZpqFQqSCQSEASBNctHo1F89NFHaDQaeP78+bU9qzfRarVwdHQEQRDQ7/dxdHSEWCyGX/3qV/D5fBBFETdu3MDS0hKazSYODg7QaDTYgj3LgF4PTG08FUWBJEnMeJJnNRwOUSwWcXR0hHa7jb///e84OTmZatG5bgyHQ+TzeRSLRUwmE1QqFXQ6HYzHY9bGFYlEsLm5iVqthlqthkKhcG3P63W0220mi3hycgJRFJHNZrG5uYnNzU2IooiNjQ220mN3dxfVahXj8RitVss602uCKY0n8ENYrmka6vU6CoXClPEslUqoVqvodDpQFOWDWH/7rlC/p1Hk1/ggOxwOuFwuuFyuK80VXzeMSlUkQkH6n7VaDTzPs1aa637PXWdMazyJZrOJf/u3f8PDhw9ZLpSq8d1uF7quo1QqWTfxJaA57V6vZ8mrXRJ6EdVqNfzv//4vms0mwuEwbt26BY/Hg2KxiGaziXa7PVNG0eLDxfTGU5ZlPHjwYGaBw7pRLw+12lie59UgD7TT6WB3dxfNZhMrKysQRRGRSASNRoMNJlz33VDXDdMbT8IylJdH0zSUy2W8ePECwWCQjRjWajUUi8VrN4X1YzAajdDtduFyucDzPJ49e4ZKpYLT01O0223LeF5DFsZ4WlyedruNP/3pT8jn81hZWcGdO3cgCAIePnyIP/zhD+h0OqywZHE5NE1DLpdDuVzG8+fPsbOzA57nWS50NBpNCYpYfPhYxvMDZDAYoFQqsZUHy8vLEEURlUoFhUKBhZkWl4eKRkSxWJzj1ViYAct4foDouo5arYbBYMBUplwuF9NDpI4FCwuLt8cynh8g/X4fuVwOdrsdz58/x8OHD2G329Hv99Hv961JGAuLH4GZxpOkoiwuB43nnYfOcR5naez5VFWVfU5VdzNC46PnOyvoc+uevDwXjeDSPWlFHpeDVoXM4hXj6XA4kE6nYbPZLL3HS+J0OrG0tPTKzRoMBrG9vW2pjl8Sm82GeDz+ym5vQRCwsbEBv99vecyXxOPxIBgMTn1mt9uRTCbxxRdfWJ0Bl8ThcGBlZWWmWpvtN7/5zSt3o6WOfXWoHcgIiZlYD/zlIZ1W44uIJn6sQYjLQxHG+YfeeravzqxnG7ggbL/oiy2uBumPWrwbFLZbvDvWs/3jYT3ZFhYWFm+BZTwtLCws3gLLeFpYWFi8Bf8H/1AfDob4eIYAAAAASUVORK5CYII=\" y=\"-9.443481\"/>\n   </g>\n   <g id=\"matplotlib.axis_1\">\n    <g id=\"xtick_1\">\n     <g id=\"line2d_1\">\n      <defs>\n       <path d=\"M 0 0 \nL 0 3.5 \n\" id=\"mcfe5acdfd2\" style=\"stroke:#000000;stroke-width:0.8;\"/>\n      </defs>\n      <g>\n       <use style=\"stroke:#000000;stroke-width:0.8;\" x=\"28.297131\" xlink:href=\"#mcfe5acdfd2\" y=\"97.443481\"/>\n      </g>\n     </g>\n     <g id=\"text_1\">\n      <!-- 0 -->\n      <defs>\n       <path d=\"M 31.78125 66.40625 \nQ 24.171875 66.40625 20.328125 58.90625 \nQ 16.5 51.421875 16.5 36.375 \nQ 16.5 21.390625 20.328125 13.890625 \nQ 24.171875 6.390625 31.78125 6.390625 \nQ 39.453125 6.390625 43.28125 13.890625 \nQ 47.125 21.390625 47.125 36.375 \nQ 47.125 51.421875 43.28125 58.90625 \nQ 39.453125 66.40625 31.78125 66.40625 \nz\nM 31.78125 74.21875 \nQ 44.046875 74.21875 50.515625 64.515625 \nQ 56.984375 54.828125 56.984375 36.375 \nQ 56.984375 17.96875 50.515625 8.265625 \nQ 44.046875 -1.421875 31.78125 -1.421875 \nQ 19.53125 -1.421875 13.0625 8.265625 \nQ 6.59375 17.96875 6.59375 36.375 \nQ 6.59375 54.828125 13.0625 64.515625 \nQ 19.53125 74.21875 31.78125 74.21875 \nz\n\" id=\"DejaVuSans-48\"/>\n      </defs>\n      <g transform=\"translate(25.115881 112.041919)scale(0.1 -0.1)\">\n       <use xlink:href=\"#DejaVuSans-48\"/>\n      </g>\n     </g>\n    </g>\n    <g id=\"xtick_2\">\n     <g id=\"line2d_2\">\n      <g>\n       <use style=\"stroke:#000000;stroke-width:0.8;\" x=\"83.182377\" xlink:href=\"#mcfe5acdfd2\" y=\"97.443481\"/>\n      </g>\n     </g>\n     <g id=\"text_2\">\n      <!-- 20 -->\n      <defs>\n       <path d=\"M 19.1875 8.296875 \nL 53.609375 8.296875 \nL 53.609375 0 \nL 7.328125 0 \nL 7.328125 8.296875 \nQ 12.9375 14.109375 22.625 23.890625 \nQ 32.328125 33.6875 34.8125 36.53125 \nQ 39.546875 41.84375 41.421875 45.53125 \nQ 43.3125 49.21875 43.3125 52.78125 \nQ 43.3125 58.59375 39.234375 62.25 \nQ 35.15625 65.921875 28.609375 65.921875 \nQ 23.96875 65.921875 18.8125 64.3125 \nQ 13.671875 62.703125 7.8125 59.421875 \nL 7.8125 69.390625 \nQ 13.765625 71.78125 18.9375 73 \nQ 24.125 74.21875 28.421875 74.21875 \nQ 39.75 74.21875 46.484375 68.546875 \nQ 53.21875 62.890625 53.21875 53.421875 \nQ 53.21875 48.921875 51.53125 44.890625 \nQ 49.859375 40.875 45.40625 35.40625 \nQ 44.1875 33.984375 37.640625 27.21875 \nQ 31.109375 20.453125 19.1875 8.296875 \nz\n\" id=\"DejaVuSans-50\"/>\n      </defs>\n      <g transform=\"translate(76.819877 112.041919)scale(0.1 -0.1)\">\n       <use xlink:href=\"#DejaVuSans-50\"/>\n       <use x=\"63.623047\" xlink:href=\"#DejaVuSans-48\"/>\n      </g>\n     </g>\n    </g>\n    <g id=\"xtick_3\">\n     <g id=\"line2d_3\">\n      <g>\n       <use style=\"stroke:#000000;stroke-width:0.8;\" x=\"138.067623\" xlink:href=\"#mcfe5acdfd2\" y=\"97.443481\"/>\n      </g>\n     </g>\n     <g id=\"text_3\">\n      <!-- 40 -->\n      <defs>\n       <path d=\"M 37.796875 64.3125 \nL 12.890625 25.390625 \nL 37.796875 25.390625 \nz\nM 35.203125 72.90625 \nL 47.609375 72.90625 \nL 47.609375 25.390625 \nL 58.015625 25.390625 \nL 58.015625 17.1875 \nL 47.609375 17.1875 \nL 47.609375 0 \nL 37.796875 0 \nL 37.796875 17.1875 \nL 4.890625 17.1875 \nL 4.890625 26.703125 \nz\n\" id=\"DejaVuSans-52\"/>\n      </defs>\n      <g transform=\"translate(131.705123 112.041919)scale(0.1 -0.1)\">\n       <use xlink:href=\"#DejaVuSans-52\"/>\n       <use x=\"63.623047\" xlink:href=\"#DejaVuSans-48\"/>\n      </g>\n     </g>\n    </g>\n    <g id=\"xtick_4\">\n     <g id=\"line2d_4\">\n      <g>\n       <use style=\"stroke:#000000;stroke-width:0.8;\" x=\"192.952869\" xlink:href=\"#mcfe5acdfd2\" y=\"97.443481\"/>\n      </g>\n     </g>\n     <g id=\"text_4\">\n      <!-- 60 -->\n      <defs>\n       <path d=\"M 33.015625 40.375 \nQ 26.375 40.375 22.484375 35.828125 \nQ 18.609375 31.296875 18.609375 23.390625 \nQ 18.609375 15.53125 22.484375 10.953125 \nQ 26.375 6.390625 33.015625 6.390625 \nQ 39.65625 6.390625 43.53125 10.953125 \nQ 47.40625 15.53125 47.40625 23.390625 \nQ 47.40625 31.296875 43.53125 35.828125 \nQ 39.65625 40.375 33.015625 40.375 \nz\nM 52.59375 71.296875 \nL 52.59375 62.3125 \nQ 48.875 64.0625 45.09375 64.984375 \nQ 41.3125 65.921875 37.59375 65.921875 \nQ 27.828125 65.921875 22.671875 59.328125 \nQ 17.53125 52.734375 16.796875 39.40625 \nQ 19.671875 43.65625 24.015625 45.921875 \nQ 28.375 48.1875 33.59375 48.1875 \nQ 44.578125 48.1875 50.953125 41.515625 \nQ 57.328125 34.859375 57.328125 23.390625 \nQ 57.328125 12.15625 50.6875 5.359375 \nQ 44.046875 -1.421875 33.015625 -1.421875 \nQ 20.359375 -1.421875 13.671875 8.265625 \nQ 6.984375 17.96875 6.984375 36.375 \nQ 6.984375 53.65625 15.1875 63.9375 \nQ 23.390625 74.21875 37.203125 74.21875 \nQ 40.921875 74.21875 44.703125 73.484375 \nQ 48.484375 72.75 52.59375 71.296875 \nz\n\" id=\"DejaVuSans-54\"/>\n      </defs>\n      <g transform=\"translate(186.590369 112.041919)scale(0.1 -0.1)\">\n       <use xlink:href=\"#DejaVuSans-54\"/>\n       <use x=\"63.623047\" xlink:href=\"#DejaVuSans-48\"/>\n      </g>\n     </g>\n    </g>\n    <g id=\"xtick_5\">\n     <g id=\"line2d_5\">\n      <g>\n       <use style=\"stroke:#000000;stroke-width:0.8;\" x=\"247.838115\" xlink:href=\"#mcfe5acdfd2\" y=\"97.443481\"/>\n      </g>\n     </g>\n     <g id=\"text_5\">\n      <!-- 80 -->\n      <defs>\n       <path d=\"M 31.78125 34.625 \nQ 24.75 34.625 20.71875 30.859375 \nQ 16.703125 27.09375 16.703125 20.515625 \nQ 16.703125 13.921875 20.71875 10.15625 \nQ 24.75 6.390625 31.78125 6.390625 \nQ 38.8125 6.390625 42.859375 10.171875 \nQ 46.921875 13.96875 46.921875 20.515625 \nQ 46.921875 27.09375 42.890625 30.859375 \nQ 38.875 34.625 31.78125 34.625 \nz\nM 21.921875 38.8125 \nQ 15.578125 40.375 12.03125 44.71875 \nQ 8.5 49.078125 8.5 55.328125 \nQ 8.5 64.0625 14.71875 69.140625 \nQ 20.953125 74.21875 31.78125 74.21875 \nQ 42.671875 74.21875 48.875 69.140625 \nQ 55.078125 64.0625 55.078125 55.328125 \nQ 55.078125 49.078125 51.53125 44.71875 \nQ 48 40.375 41.703125 38.8125 \nQ 48.828125 37.15625 52.796875 32.3125 \nQ 56.78125 27.484375 56.78125 20.515625 \nQ 56.78125 9.90625 50.3125 4.234375 \nQ 43.84375 -1.421875 31.78125 -1.421875 \nQ 19.734375 -1.421875 13.25 4.234375 \nQ 6.78125 9.90625 6.78125 20.515625 \nQ 6.78125 27.484375 10.78125 32.3125 \nQ 14.796875 37.15625 21.921875 38.8125 \nz\nM 18.3125 54.390625 \nQ 18.3125 48.734375 21.84375 45.5625 \nQ 25.390625 42.390625 31.78125 42.390625 \nQ 38.140625 42.390625 41.71875 45.5625 \nQ 45.3125 48.734375 45.3125 54.390625 \nQ 45.3125 60.0625 41.71875 63.234375 \nQ 38.140625 66.40625 31.78125 66.40625 \nQ 25.390625 66.40625 21.84375 63.234375 \nQ 18.3125 60.0625 18.3125 54.390625 \nz\n\" id=\"DejaVuSans-56\"/>\n      </defs>\n      <g transform=\"translate(241.475615 112.041919)scale(0.1 -0.1)\">\n       <use xlink:href=\"#DejaVuSans-56\"/>\n       <use x=\"63.623047\" xlink:href=\"#DejaVuSans-48\"/>\n      </g>\n     </g>\n    </g>\n    <g id=\"xtick_6\">\n     <g id=\"line2d_6\">\n      <g>\n       <use style=\"stroke:#000000;stroke-width:0.8;\" x=\"302.723361\" xlink:href=\"#mcfe5acdfd2\" y=\"97.443481\"/>\n      </g>\n     </g>\n     <g id=\"text_6\">\n      <!-- 100 -->\n      <defs>\n       <path d=\"M 12.40625 8.296875 \nL 28.515625 8.296875 \nL 28.515625 63.921875 \nL 10.984375 60.40625 \nL 10.984375 69.390625 \nL 28.421875 72.90625 \nL 38.28125 72.90625 \nL 38.28125 8.296875 \nL 54.390625 8.296875 \nL 54.390625 0 \nL 12.40625 0 \nz\n\" id=\"DejaVuSans-49\"/>\n      </defs>\n      <g transform=\"translate(293.179611 112.041919)scale(0.1 -0.1)\">\n       <use xlink:href=\"#DejaVuSans-49\"/>\n       <use x=\"63.623047\" xlink:href=\"#DejaVuSans-48\"/>\n       <use x=\"127.246094\" xlink:href=\"#DejaVuSans-48\"/>\n      </g>\n     </g>\n    </g>\n    <g id=\"xtick_7\">\n     <g id=\"line2d_7\">\n      <g>\n       <use style=\"stroke:#000000;stroke-width:0.8;\" x=\"357.608607\" xlink:href=\"#mcfe5acdfd2\" y=\"97.443481\"/>\n      </g>\n     </g>\n     <g id=\"text_7\">\n      <!-- 120 -->\n      <g transform=\"translate(348.064857 112.041919)scale(0.1 -0.1)\">\n       <use xlink:href=\"#DejaVuSans-49\"/>\n       <use x=\"63.623047\" xlink:href=\"#DejaVuSans-50\"/>\n       <use x=\"127.246094\" xlink:href=\"#DejaVuSans-48\"/>\n      </g>\n     </g>\n    </g>\n   </g>\n   <g id=\"matplotlib.axis_2\">\n    <g id=\"ytick_1\">\n     <g id=\"line2d_8\">\n      <defs>\n       <path d=\"M 0 0 \nL -3.5 0 \n\" id=\"mfc74908510\" style=\"stroke:#000000;stroke-width:0.8;\"/>\n      </defs>\n      <g>\n       <use style=\"stroke:#000000;stroke-width:0.8;\" x=\"26.925\" xlink:href=\"#mfc74908510\" y=\"10.999219\"/>\n      </g>\n     </g>\n     <g id=\"text_8\">\n      <!-- 0 -->\n      <g transform=\"translate(13.5625 14.798437)scale(0.1 -0.1)\">\n       <use xlink:href=\"#DejaVuSans-48\"/>\n      </g>\n     </g>\n    </g>\n    <g id=\"ytick_2\">\n     <g id=\"line2d_9\">\n      <g>\n       <use style=\"stroke:#000000;stroke-width:0.8;\" x=\"26.925\" xlink:href=\"#mfc74908510\" y=\"38.441842\"/>\n      </g>\n     </g>\n     <g id=\"text_9\">\n      <!-- 10 -->\n      <g transform=\"translate(7.2 42.24106)scale(0.1 -0.1)\">\n       <use xlink:href=\"#DejaVuSans-49\"/>\n       <use x=\"63.623047\" xlink:href=\"#DejaVuSans-48\"/>\n      </g>\n     </g>\n    </g>\n    <g id=\"ytick_3\">\n     <g id=\"line2d_10\">\n      <g>\n       <use style=\"stroke:#000000;stroke-width:0.8;\" x=\"26.925\" xlink:href=\"#mfc74908510\" y=\"65.884465\"/>\n      </g>\n     </g>\n     <g id=\"text_10\">\n      <!-- 20 -->\n      <g transform=\"translate(7.2 69.683683)scale(0.1 -0.1)\">\n       <use xlink:href=\"#DejaVuSans-50\"/>\n       <use x=\"63.623047\" xlink:href=\"#DejaVuSans-48\"/>\n      </g>\n     </g>\n    </g>\n    <g id=\"ytick_4\">\n     <g id=\"line2d_11\">\n      <g>\n       <use style=\"stroke:#000000;stroke-width:0.8;\" x=\"26.925\" xlink:href=\"#mfc74908510\" y=\"93.327088\"/>\n      </g>\n     </g>\n     <g id=\"text_11\">\n      <!-- 30 -->\n      <defs>\n       <path d=\"M 40.578125 39.3125 \nQ 47.65625 37.796875 51.625 33 \nQ 55.609375 28.21875 55.609375 21.1875 \nQ 55.609375 10.40625 48.1875 4.484375 \nQ 40.765625 -1.421875 27.09375 -1.421875 \nQ 22.515625 -1.421875 17.65625 -0.515625 \nQ 12.796875 0.390625 7.625 2.203125 \nL 7.625 11.71875 \nQ 11.71875 9.328125 16.59375 8.109375 \nQ 21.484375 6.890625 26.8125 6.890625 \nQ 36.078125 6.890625 40.9375 10.546875 \nQ 45.796875 14.203125 45.796875 21.1875 \nQ 45.796875 27.640625 41.28125 31.265625 \nQ 36.765625 34.90625 28.71875 34.90625 \nL 20.21875 34.90625 \nL 20.21875 43.015625 \nL 29.109375 43.015625 \nQ 36.375 43.015625 40.234375 45.921875 \nQ 44.09375 48.828125 44.09375 54.296875 \nQ 44.09375 59.90625 40.109375 62.90625 \nQ 36.140625 65.921875 28.71875 65.921875 \nQ 24.65625 65.921875 20.015625 65.03125 \nQ 15.375 64.15625 9.8125 62.3125 \nL 9.8125 71.09375 \nQ 15.4375 72.65625 20.34375 73.4375 \nQ 25.25 74.21875 29.59375 74.21875 \nQ 40.828125 74.21875 47.359375 69.109375 \nQ 53.90625 64.015625 53.90625 55.328125 \nQ 53.90625 49.265625 50.4375 45.09375 \nQ 46.96875 40.921875 40.578125 39.3125 \nz\n\" id=\"DejaVuSans-51\"/>\n      </defs>\n      <g transform=\"translate(7.2 97.126306)scale(0.1 -0.1)\">\n       <use xlink:href=\"#DejaVuSans-51\"/>\n       <use x=\"63.623047\" xlink:href=\"#DejaVuSans-48\"/>\n      </g>\n     </g>\n    </g>\n   </g>\n   <g id=\"patch_3\">\n    <path d=\"M 26.925 97.443481 \nL 26.925 9.627088 \n\" style=\"fill:none;stroke:#000000;stroke-linecap:square;stroke-linejoin:miter;stroke-width:0.8;\"/>\n   </g>\n   <g id=\"patch_4\">\n    <path d=\"M 361.725 97.443481 \nL 361.725 9.627088 \n\" style=\"fill:none;stroke:#000000;stroke-linecap:square;stroke-linejoin:miter;stroke-width:0.8;\"/>\n   </g>\n   <g id=\"patch_5\">\n    <path d=\"M 26.925 97.443481 \nL 361.725 97.443481 \n\" style=\"fill:none;stroke:#000000;stroke-linecap:square;stroke-linejoin:miter;stroke-width:0.8;\"/>\n   </g>\n   <g id=\"patch_6\">\n    <path d=\"M 26.925 9.627088 \nL 361.725 9.627088 \n\" style=\"fill:none;stroke:#000000;stroke-linecap:square;stroke-linejoin:miter;stroke-width:0.8;\"/>\n   </g>\n  </g>\n </g>\n <defs>\n  <clipPath id=\"pe408350c93\">\n   <rect height=\"87.816393\" width=\"334.8\" x=\"26.925\" y=\"9.627088\"/>\n  </clipPath>\n </defs>\n</svg>\n",
      "image/png": "[encoded data removed]"
     },
     "metadata": {
      "needs_background": "light"
     }
    },
    {
     "output_type": "stream",
     "name": "stdout",
     "text": "6     6     6     9\n"
    }
   ],
   "source": [
    "import matplotlib.pyplot as plt\n",
    "import numpy as np\n",
    "\n",
    "# functions to show an image\n",
    "\n",
    "\n",
    "def imshow(img):\n",
    "    img = img / 2 + 0.5     # unnormalize\n",
    "    npimg = img.numpy()\n",
    "    plt.imshow(np.transpose(npimg, (1, 2, 0)))\n",
    "    plt.show()\n",
    "\n",
    "\n",
    "#Get some random training images:\n",
    "#Make trainloader iteraterable (over batches, so 4 images are fetched): \n",
    "dataiter = iter(trainloader)\n",
    "#returns random next element:\n",
    "images, labels = dataiter.next()\n",
    "\n",
    "#Show images:\n",
    "imshow(torchvision.utils.make_grid(images))\n",
    "#Print labels:\n",
    "print(' '.join('%5s' % classes[labels[j]] for j in range(4)))\n",
    "\n",
    "#images, labels = dataiter.next"
   ]
  },
  {
   "cell_type": "markdown",
   "metadata": {},
   "source": [
    "## CNN architecture"
   ]
  },
  {
   "cell_type": "code",
   "execution_count": 5,
   "metadata": {},
   "outputs": [
    {
     "output_type": "execute_result",
     "data": {
      "text/plain": "Net(\n  (conv1): Conv2d(1, 32, kernel_size=(3, 3), stride=(1, 1))\n  (conv2): Conv2d(32, 64, kernel_size=(3, 3), stride=(1, 1))\n  (dropout1): Dropout2d(p=0.25, inplace=False)\n  (fc1): Linear(in_features=9216, out_features=128, bias=True)\n  (dropout2): Dropout2d(p=0.25, inplace=False)\n  (fc2): Linear(in_features=128, out_features=10, bias=True)\n)"
     },
     "metadata": {},
     "execution_count": 5
    }
   ],
   "source": [
    "#Define CNN architecture:\n",
    "\n",
    "import torch.nn as nn\n",
    "import torch.nn.functional as F\n",
    "\n",
    "#Define Net as child class of nn.Module:\n",
    "class Net(nn.Module):\n",
    "    def __init__(self):\n",
    "        super(Net, self).__init__()\n",
    "        \n",
    "        self.conv1 = nn.Conv2d(1, 32, 3, 1)\n",
    "        self.conv2 = nn.Conv2d(32, 64, 3, 1)\n",
    "        self.dropout1 = nn.Dropout2d(0.25)\n",
    "        self.fc1 = nn.Linear(9216, 128)\n",
    "        self.dropout2 = nn.Dropout2d(0.25)\n",
    "        self.fc2 = nn.Linear(128, 10)\n",
    "\n",
    "    def forward(self, x):\n",
    "        #reshape input data x to be 1*784 vector:\n",
    "        #x = x.view(-1, 28 * 28)\n",
    "        x = self.conv1(x)\n",
    "        x = F.relu(x)\n",
    "        x = self.conv2(x)\n",
    "        x = F.relu(x)\n",
    "        x = F.max_pool2d(x,2)\n",
    "        x = self.dropout1(x)\n",
    "        x = torch.flatten(x,1)\n",
    "        x = self.fc1(x)\n",
    "        x = F.relu(x)\n",
    "        x = self.dropout2(x)\n",
    "        x = self.fc2(x)\n",
    "        x = F.log_softmax(x, dim=1)\n",
    "        return x\n",
    "\n",
    "\n",
    "net = Net()\n",
    "net.to(device)"
   ]
  },
  {
   "cell_type": "markdown",
   "metadata": {},
   "source": [
    "## Loss function"
   ]
  },
  {
   "cell_type": "code",
   "execution_count": 6,
   "metadata": {},
   "outputs": [],
   "source": [
    "#Define Loss function:\n",
    "\n",
    "import torch.optim as optim\n",
    "\n",
    "criterion = nn.NLLLoss()\n",
    "optimizer = optim.SGD(net.parameters(), lr=0.01, momentum=0.5)"
   ]
  },
  {
   "cell_type": "markdown",
   "metadata": {},
   "source": [
    "## Training"
   ]
  },
  {
   "cell_type": "code",
   "execution_count": 7,
   "metadata": {
    "tags": []
   },
   "outputs": [
    {
     "output_type": "stream",
     "name": "stdout",
     "text": "Train Epoch: 1 [3998/60000 (13%)]\tLoss: 0.476833\nTrain Epoch: 1 [7998/60000 (27%)]\tLoss: 0.171895\nTrain Epoch: 1 [11998/60000 (40%)]\tLoss: 0.139742\nTrain Epoch: 1 [15998/60000 (53%)]\tLoss: 0.115490\nTrain Epoch: 1 [19998/60000 (67%)]\tLoss: 0.101016\nTrain Epoch: 1 [23998/60000 (80%)]\tLoss: 0.094308\nTrain Epoch: 1 [27998/60000 (93%)]\tLoss: 0.091499\nTrain Epoch: 2 [3998/60000 (13%)]\tLoss: 0.069660\nTrain Epoch: 2 [7998/60000 (27%)]\tLoss: 0.069326\nTrain Epoch: 2 [11998/60000 (40%)]\tLoss: 0.064501\nTrain Epoch: 2 [15998/60000 (53%)]\tLoss: 0.067638\nTrain Epoch: 2 [19998/60000 (67%)]\tLoss: 0.062832\nTrain Epoch: 2 [23998/60000 (80%)]\tLoss: 0.063038\nTrain Epoch: 2 [27998/60000 (93%)]\tLoss: 0.052780\nFinished Training\nCPU times: user 2min 11s, sys: 7.43 s, total: 2min 18s\nWall time: 2min 24s\n"
    }
   ],
   "source": [
    "%%time\n",
    "\n",
    "#Training:\n",
    "epochs = 2\n",
    "\n",
    "#loop over the dataset \"epochs\" times:\n",
    "for epoch in range(epochs):\n",
    "\n",
    "    running_loss = 0.0\n",
    "    #enumerate(trainloader,0): make trainloader iterable and start the index at 0:\n",
    "    for i, data in enumerate(trainloader, 0):\n",
    "        #get the inputs; data is a list of [inputs, labels]:\n",
    "        inputs, labels = data[0].to(device), data[1].to(device)\n",
    "\n",
    "        #inputs = inputs.view(-1, 28 * 28)\n",
    "        \n",
    "        #zero the parameter gradients (just to be save):\n",
    "        optimizer.zero_grad()\n",
    "\n",
    "        #forward:\n",
    "        outputs = net(inputs)\n",
    "\n",
    "        #loss += F.nll_loss(outputs, labels, reduction='sum').item()\n",
    "\n",
    "        #loss:\n",
    "        loss = criterion(outputs, labels)\n",
    "\n",
    "        #backward:\n",
    "        loss.backward()\n",
    "        #optimize:\n",
    "        optimizer.step()\n",
    "\n",
    "        #print statistics:\n",
    "        running_loss += loss.item()\n",
    "\n",
    "        #loss /= len(trainloader.dataset)\n",
    "\n",
    "        #print every 2000 mini-batches:\n",
    "        if i % 2000 == 1999:\n",
    "            print('Train Epoch: {} [{}/{} ({:.0f}%)]\\tLoss: {:.6f}'.format(epoch+1, i * len(data), len(trainloader.dataset), 100. * i / len(trainloader), running_loss / 2000))\n",
    "            running_loss = 0.0\n",
    "\n",
    "print('Finished Training')"
   ]
  },
  {
   "cell_type": "code",
   "execution_count": 8,
   "metadata": {},
   "outputs": [],
   "source": [
    "#Save trained model parameters:\n",
    "\n",
    "PATH = './mnist_cnn_net.pth'\n",
    "torch.save(net.state_dict(), PATH)"
   ]
  },
  {
   "cell_type": "markdown",
   "metadata": {},
   "source": [
    "## Calculate accuracy on test set:"
   ]
  },
  {
   "cell_type": "code",
   "execution_count": 9,
   "metadata": {
    "tags": []
   },
   "outputs": [
    {
     "output_type": "stream",
     "name": "stdout",
     "text": "Accuracy of the network on the test images: 98 %\n"
    }
   ],
   "source": [
    "#Count correctly classified images of trained data set:\n",
    "\n",
    "correct = 0\n",
    "total = 0\n",
    "with torch.no_grad():\n",
    "    for data in testloader:\n",
    "        \n",
    "        images, labels = data[0].to(device), data[1].to(device)\n",
    "\n",
    "        #do predicts on test set:\n",
    "        outputs = net(images)\n",
    "        _, predicted = torch.max(outputs.data, 1)\n",
    "        #add the number of predicted images to \"total\", so we can keep track of how many images we have classified so far:\n",
    "        total += labels.size(0)\n",
    "        #add how many of the predicted labels are the same as the ground-truth labels:\n",
    "        #(predicted == labels): predicted is tensor with integers, as well as labels; check if all integers are the same\n",
    "        #(predicted == labels).sum(): sum up of how many were the same\n",
    "        #(predicted == labels).sum().item(): give that number as a single value;\n",
    "        #add it to the number of correctly classified instances:\n",
    "        correct += (predicted == labels).sum().item()\n",
    "\n",
    "#Print percentage of correctly classified instances:\n",
    "print('Accuracy of the network on the test images: %d %%' % (\n",
    "    100 * correct / total))\n"
   ]
  },
  {
   "cell_type": "code",
   "execution_count": 10,
   "metadata": {
    "tags": []
   },
   "outputs": [
    {
     "output_type": "stream",
     "name": "stdout",
     "text": "Accuracy of     0 : 97 %\nAccuracy of     1 : 99 %\nAccuracy of     2 : 97 %\nAccuracy of     3 : 98 %\nAccuracy of     4 : 98 %\nAccuracy of     5 : 96 %\nAccuracy of     6 : 97 %\nAccuracy of     7 : 99 %\nAccuracy of     8 : 98 %\nAccuracy of     9 : 96 %\n"
    }
   ],
   "source": [
    "#Classes that performed well vs. classes that did not perform well:\n",
    "\n",
    "#Initialize lists pf ten values of 0.0:\n",
    "class_correct = list(0. for i in range(10))\n",
    "class_total = list(0. for i in range(10))\n",
    "with torch.no_grad():\n",
    "    for data in testloader:\n",
    "        images, labels = data[0].to(device), data[1].to(device)\n",
    "\n",
    "        #do predictions on test set:\n",
    "        outputs = net(images)\n",
    "        _, predicted = torch.max(outputs, 1)\n",
    "        #store correctly predicted classes (where prediction matches label) in \"c\":\n",
    "        c = (predicted == labels)\n",
    "\n",
    "        for i in range(4):\n",
    "            label = labels[i]\n",
    "            #count up how a certain class was predicted (true of false):\n",
    "            class_correct[label] += c[i].item()\n",
    "            #count up how often this class was predicted:\n",
    "            class_total[label] += 1\n",
    "\n",
    "#Print percentage of correctly classifications of each class:\n",
    "for i in range(10):\n",
    "    print('Accuracy of %5s : %2d %%' % (\n",
    "        classes[i], 100 * class_correct[i] / class_total[i]))"
   ]
  },
  {
   "cell_type": "markdown",
   "metadata": {},
   "source": [
    "## Run predictions on test samples\n",
    "\n",
    "Run all cells above up until the Loss function.\n",
    "\n",
    "Run these 4 cells below to sample 4 random images of test set (with ground-truth labels) and run the CNN predictions on them:"
   ]
  },
  {
   "cell_type": "code",
   "execution_count": 59,
   "metadata": {},
   "outputs": [
    {
     "output_type": "execute_result",
     "data": {
      "text/plain": "<All keys matched successfully>"
     },
     "metadata": {},
     "execution_count": 59
    }
   ],
   "source": [
    "#Load back model:\n",
    "PATH = './mnist_cnn_net.pth'\n",
    "\n",
    "net = Net()\n",
    "net.load_state_dict(torch.load(PATH))"
   ]
  },
  {
   "cell_type": "code",
   "execution_count": 63,
   "metadata": {
    "tags": []
   },
   "outputs": [
    {
     "output_type": "display_data",
     "data": {
      "text/plain": "<Figure size 432x288 with 1 Axes>",
      "image/svg+xml": "<?xml version=\"1.0\" encoding=\"utf-8\" standalone=\"no\"?>\n<!DOCTYPE svg PUBLIC \"-//W3C//DTD SVG 1.1//EN\"\n  \"http://www.w3.org/Graphics/SVG/1.1/DTD/svg11.dtd\">\n<!-- Created with matplotlib (https://matplotlib.org/) -->\n<svg height=\"121.321606pt\" version=\"1.1\" viewBox=\"0 0 374.352357 121.321606\" width=\"374.352357pt\" xmlns=\"http://www.w3.org/2000/svg\" xmlns:xlink=\"http://www.w3.org/1999/xlink\">\n <defs>\n  <style type=\"text/css\">\n*{stroke-linecap:butt;stroke-linejoin:round;}\n  </style>\n </defs>\n <g id=\"figure_1\">\n  <g id=\"patch_1\">\n   <path d=\"M -0 121.321606 \nL 374.352357 121.321606 \nL 374.352357 0 \nL -0 0 \nz\n\" style=\"fill:none;\"/>\n  </g>\n  <g id=\"axes_1\">\n   <g id=\"patch_2\">\n    <path d=\"M 26.925 97.443481 \nL 361.725 97.443481 \nL 361.725 9.627088 \nL 26.925 9.627088 \nz\n\" style=\"fill:#ffffff;\"/>\n   </g>\n   <g clip-path=\"url(#pa06ea4a1e0)\">\n    <image height=\"88\" id=\"image0603b3902b\" transform=\"scale(1 -1)translate(0 -88)\" width=\"335\" x=\"26.925\" xlink:href=\"data:image/png;base64,\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\" y=\"-9.443481\"/>\n   </g>\n   <g id=\"matplotlib.axis_1\">\n    <g id=\"xtick_1\">\n     <g id=\"line2d_1\">\n      <defs>\n       <path d=\"M 0 0 \nL 0 3.5 \n\" id=\"m662e81ea75\" style=\"stroke:#000000;stroke-width:0.8;\"/>\n      </defs>\n      <g>\n       <use style=\"stroke:#000000;stroke-width:0.8;\" x=\"28.297131\" xlink:href=\"#m662e81ea75\" y=\"97.443481\"/>\n      </g>\n     </g>\n     <g id=\"text_1\">\n      <!-- 0 -->\n      <defs>\n       <path d=\"M 31.78125 66.40625 \nQ 24.171875 66.40625 20.328125 58.90625 \nQ 16.5 51.421875 16.5 36.375 \nQ 16.5 21.390625 20.328125 13.890625 \nQ 24.171875 6.390625 31.78125 6.390625 \nQ 39.453125 6.390625 43.28125 13.890625 \nQ 47.125 21.390625 47.125 36.375 \nQ 47.125 51.421875 43.28125 58.90625 \nQ 39.453125 66.40625 31.78125 66.40625 \nz\nM 31.78125 74.21875 \nQ 44.046875 74.21875 50.515625 64.515625 \nQ 56.984375 54.828125 56.984375 36.375 \nQ 56.984375 17.96875 50.515625 8.265625 \nQ 44.046875 -1.421875 31.78125 -1.421875 \nQ 19.53125 -1.421875 13.0625 8.265625 \nQ 6.59375 17.96875 6.59375 36.375 \nQ 6.59375 54.828125 13.0625 64.515625 \nQ 19.53125 74.21875 31.78125 74.21875 \nz\n\" id=\"DejaVuSans-48\"/>\n      </defs>\n      <g transform=\"translate(25.115881 112.041919)scale(0.1 -0.1)\">\n       <use xlink:href=\"#DejaVuSans-48\"/>\n      </g>\n     </g>\n    </g>\n    <g id=\"xtick_2\">\n     <g id=\"line2d_2\">\n      <g>\n       <use style=\"stroke:#000000;stroke-width:0.8;\" x=\"83.182377\" xlink:href=\"#m662e81ea75\" y=\"97.443481\"/>\n      </g>\n     </g>\n     <g id=\"text_2\">\n      <!-- 20 -->\n      <defs>\n       <path d=\"M 19.1875 8.296875 \nL 53.609375 8.296875 \nL 53.609375 0 \nL 7.328125 0 \nL 7.328125 8.296875 \nQ 12.9375 14.109375 22.625 23.890625 \nQ 32.328125 33.6875 34.8125 36.53125 \nQ 39.546875 41.84375 41.421875 45.53125 \nQ 43.3125 49.21875 43.3125 52.78125 \nQ 43.3125 58.59375 39.234375 62.25 \nQ 35.15625 65.921875 28.609375 65.921875 \nQ 23.96875 65.921875 18.8125 64.3125 \nQ 13.671875 62.703125 7.8125 59.421875 \nL 7.8125 69.390625 \nQ 13.765625 71.78125 18.9375 73 \nQ 24.125 74.21875 28.421875 74.21875 \nQ 39.75 74.21875 46.484375 68.546875 \nQ 53.21875 62.890625 53.21875 53.421875 \nQ 53.21875 48.921875 51.53125 44.890625 \nQ 49.859375 40.875 45.40625 35.40625 \nQ 44.1875 33.984375 37.640625 27.21875 \nQ 31.109375 20.453125 19.1875 8.296875 \nz\n\" id=\"DejaVuSans-50\"/>\n      </defs>\n      <g transform=\"translate(76.819877 112.041919)scale(0.1 -0.1)\">\n       <use xlink:href=\"#DejaVuSans-50\"/>\n       <use x=\"63.623047\" xlink:href=\"#DejaVuSans-48\"/>\n      </g>\n     </g>\n    </g>\n    <g id=\"xtick_3\">\n     <g id=\"line2d_3\">\n      <g>\n       <use style=\"stroke:#000000;stroke-width:0.8;\" x=\"138.067623\" xlink:href=\"#m662e81ea75\" y=\"97.443481\"/>\n      </g>\n     </g>\n     <g id=\"text_3\">\n      <!-- 40 -->\n      <defs>\n       <path d=\"M 37.796875 64.3125 \nL 12.890625 25.390625 \nL 37.796875 25.390625 \nz\nM 35.203125 72.90625 \nL 47.609375 72.90625 \nL 47.609375 25.390625 \nL 58.015625 25.390625 \nL 58.015625 17.1875 \nL 47.609375 17.1875 \nL 47.609375 0 \nL 37.796875 0 \nL 37.796875 17.1875 \nL 4.890625 17.1875 \nL 4.890625 26.703125 \nz\n\" id=\"DejaVuSans-52\"/>\n      </defs>\n      <g transform=\"translate(131.705123 112.041919)scale(0.1 -0.1)\">\n       <use xlink:href=\"#DejaVuSans-52\"/>\n       <use x=\"63.623047\" xlink:href=\"#DejaVuSans-48\"/>\n      </g>\n     </g>\n    </g>\n    <g id=\"xtick_4\">\n     <g id=\"line2d_4\">\n      <g>\n       <use style=\"stroke:#000000;stroke-width:0.8;\" x=\"192.952869\" xlink:href=\"#m662e81ea75\" y=\"97.443481\"/>\n      </g>\n     </g>\n     <g id=\"text_4\">\n      <!-- 60 -->\n      <defs>\n       <path d=\"M 33.015625 40.375 \nQ 26.375 40.375 22.484375 35.828125 \nQ 18.609375 31.296875 18.609375 23.390625 \nQ 18.609375 15.53125 22.484375 10.953125 \nQ 26.375 6.390625 33.015625 6.390625 \nQ 39.65625 6.390625 43.53125 10.953125 \nQ 47.40625 15.53125 47.40625 23.390625 \nQ 47.40625 31.296875 43.53125 35.828125 \nQ 39.65625 40.375 33.015625 40.375 \nz\nM 52.59375 71.296875 \nL 52.59375 62.3125 \nQ 48.875 64.0625 45.09375 64.984375 \nQ 41.3125 65.921875 37.59375 65.921875 \nQ 27.828125 65.921875 22.671875 59.328125 \nQ 17.53125 52.734375 16.796875 39.40625 \nQ 19.671875 43.65625 24.015625 45.921875 \nQ 28.375 48.1875 33.59375 48.1875 \nQ 44.578125 48.1875 50.953125 41.515625 \nQ 57.328125 34.859375 57.328125 23.390625 \nQ 57.328125 12.15625 50.6875 5.359375 \nQ 44.046875 -1.421875 33.015625 -1.421875 \nQ 20.359375 -1.421875 13.671875 8.265625 \nQ 6.984375 17.96875 6.984375 36.375 \nQ 6.984375 53.65625 15.1875 63.9375 \nQ 23.390625 74.21875 37.203125 74.21875 \nQ 40.921875 74.21875 44.703125 73.484375 \nQ 48.484375 72.75 52.59375 71.296875 \nz\n\" id=\"DejaVuSans-54\"/>\n      </defs>\n      <g transform=\"translate(186.590369 112.041919)scale(0.1 -0.1)\">\n       <use xlink:href=\"#DejaVuSans-54\"/>\n       <use x=\"63.623047\" xlink:href=\"#DejaVuSans-48\"/>\n      </g>\n     </g>\n    </g>\n    <g id=\"xtick_5\">\n     <g id=\"line2d_5\">\n      <g>\n       <use style=\"stroke:#000000;stroke-width:0.8;\" x=\"247.838115\" xlink:href=\"#m662e81ea75\" y=\"97.443481\"/>\n      </g>\n     </g>\n     <g id=\"text_5\">\n      <!-- 80 -->\n      <defs>\n       <path d=\"M 31.78125 34.625 \nQ 24.75 34.625 20.71875 30.859375 \nQ 16.703125 27.09375 16.703125 20.515625 \nQ 16.703125 13.921875 20.71875 10.15625 \nQ 24.75 6.390625 31.78125 6.390625 \nQ 38.8125 6.390625 42.859375 10.171875 \nQ 46.921875 13.96875 46.921875 20.515625 \nQ 46.921875 27.09375 42.890625 30.859375 \nQ 38.875 34.625 31.78125 34.625 \nz\nM 21.921875 38.8125 \nQ 15.578125 40.375 12.03125 44.71875 \nQ 8.5 49.078125 8.5 55.328125 \nQ 8.5 64.0625 14.71875 69.140625 \nQ 20.953125 74.21875 31.78125 74.21875 \nQ 42.671875 74.21875 48.875 69.140625 \nQ 55.078125 64.0625 55.078125 55.328125 \nQ 55.078125 49.078125 51.53125 44.71875 \nQ 48 40.375 41.703125 38.8125 \nQ 48.828125 37.15625 52.796875 32.3125 \nQ 56.78125 27.484375 56.78125 20.515625 \nQ 56.78125 9.90625 50.3125 4.234375 \nQ 43.84375 -1.421875 31.78125 -1.421875 \nQ 19.734375 -1.421875 13.25 4.234375 \nQ 6.78125 9.90625 6.78125 20.515625 \nQ 6.78125 27.484375 10.78125 32.3125 \nQ 14.796875 37.15625 21.921875 38.8125 \nz\nM 18.3125 54.390625 \nQ 18.3125 48.734375 21.84375 45.5625 \nQ 25.390625 42.390625 31.78125 42.390625 \nQ 38.140625 42.390625 41.71875 45.5625 \nQ 45.3125 48.734375 45.3125 54.390625 \nQ 45.3125 60.0625 41.71875 63.234375 \nQ 38.140625 66.40625 31.78125 66.40625 \nQ 25.390625 66.40625 21.84375 63.234375 \nQ 18.3125 60.0625 18.3125 54.390625 \nz\n\" id=\"DejaVuSans-56\"/>\n      </defs>\n      <g transform=\"translate(241.475615 112.041919)scale(0.1 -0.1)\">\n       <use xlink:href=\"#DejaVuSans-56\"/>\n       <use x=\"63.623047\" xlink:href=\"#DejaVuSans-48\"/>\n      </g>\n     </g>\n    </g>\n    <g id=\"xtick_6\">\n     <g id=\"line2d_6\">\n      <g>\n       <use style=\"stroke:#000000;stroke-width:0.8;\" x=\"302.723361\" xlink:href=\"#m662e81ea75\" y=\"97.443481\"/>\n      </g>\n     </g>\n     <g id=\"text_6\">\n      <!-- 100 -->\n      <defs>\n       <path d=\"M 12.40625 8.296875 \nL 28.515625 8.296875 \nL 28.515625 63.921875 \nL 10.984375 60.40625 \nL 10.984375 69.390625 \nL 28.421875 72.90625 \nL 38.28125 72.90625 \nL 38.28125 8.296875 \nL 54.390625 8.296875 \nL 54.390625 0 \nL 12.40625 0 \nz\n\" id=\"DejaVuSans-49\"/>\n      </defs>\n      <g transform=\"translate(293.179611 112.041919)scale(0.1 -0.1)\">\n       <use xlink:href=\"#DejaVuSans-49\"/>\n       <use x=\"63.623047\" xlink:href=\"#DejaVuSans-48\"/>\n       <use x=\"127.246094\" xlink:href=\"#DejaVuSans-48\"/>\n      </g>\n     </g>\n    </g>\n    <g id=\"xtick_7\">\n     <g id=\"line2d_7\">\n      <g>\n       <use style=\"stroke:#000000;stroke-width:0.8;\" x=\"357.608607\" xlink:href=\"#m662e81ea75\" y=\"97.443481\"/>\n      </g>\n     </g>\n     <g id=\"text_7\">\n      <!-- 120 -->\n      <g transform=\"translate(348.064857 112.041919)scale(0.1 -0.1)\">\n       <use xlink:href=\"#DejaVuSans-49\"/>\n       <use x=\"63.623047\" xlink:href=\"#DejaVuSans-50\"/>\n       <use x=\"127.246094\" xlink:href=\"#DejaVuSans-48\"/>\n      </g>\n     </g>\n    </g>\n   </g>\n   <g id=\"matplotlib.axis_2\">\n    <g id=\"ytick_1\">\n     <g id=\"line2d_8\">\n      <defs>\n       <path d=\"M 0 0 \nL -3.5 0 \n\" id=\"m8bdf594d4e\" style=\"stroke:#000000;stroke-width:0.8;\"/>\n      </defs>\n      <g>\n       <use style=\"stroke:#000000;stroke-width:0.8;\" x=\"26.925\" xlink:href=\"#m8bdf594d4e\" y=\"10.999219\"/>\n      </g>\n     </g>\n     <g id=\"text_8\">\n      <!-- 0 -->\n      <g transform=\"translate(13.5625 14.798437)scale(0.1 -0.1)\">\n       <use xlink:href=\"#DejaVuSans-48\"/>\n      </g>\n     </g>\n    </g>\n    <g id=\"ytick_2\">\n     <g id=\"line2d_9\">\n      <g>\n       <use style=\"stroke:#000000;stroke-width:0.8;\" x=\"26.925\" xlink:href=\"#m8bdf594d4e\" y=\"38.441842\"/>\n      </g>\n     </g>\n     <g id=\"text_9\">\n      <!-- 10 -->\n      <g transform=\"translate(7.2 42.24106)scale(0.1 -0.1)\">\n       <use xlink:href=\"#DejaVuSans-49\"/>\n       <use x=\"63.623047\" xlink:href=\"#DejaVuSans-48\"/>\n      </g>\n     </g>\n    </g>\n    <g id=\"ytick_3\">\n     <g id=\"line2d_10\">\n      <g>\n       <use style=\"stroke:#000000;stroke-width:0.8;\" x=\"26.925\" xlink:href=\"#m8bdf594d4e\" y=\"65.884465\"/>\n      </g>\n     </g>\n     <g id=\"text_10\">\n      <!-- 20 -->\n      <g transform=\"translate(7.2 69.683683)scale(0.1 -0.1)\">\n       <use xlink:href=\"#DejaVuSans-50\"/>\n       <use x=\"63.623047\" xlink:href=\"#DejaVuSans-48\"/>\n      </g>\n     </g>\n    </g>\n    <g id=\"ytick_4\">\n     <g id=\"line2d_11\">\n      <g>\n       <use style=\"stroke:#000000;stroke-width:0.8;\" x=\"26.925\" xlink:href=\"#m8bdf594d4e\" y=\"93.327088\"/>\n      </g>\n     </g>\n     <g id=\"text_11\">\n      <!-- 30 -->\n      <defs>\n       <path d=\"M 40.578125 39.3125 \nQ 47.65625 37.796875 51.625 33 \nQ 55.609375 28.21875 55.609375 21.1875 \nQ 55.609375 10.40625 48.1875 4.484375 \nQ 40.765625 -1.421875 27.09375 -1.421875 \nQ 22.515625 -1.421875 17.65625 -0.515625 \nQ 12.796875 0.390625 7.625 2.203125 \nL 7.625 11.71875 \nQ 11.71875 9.328125 16.59375 8.109375 \nQ 21.484375 6.890625 26.8125 6.890625 \nQ 36.078125 6.890625 40.9375 10.546875 \nQ 45.796875 14.203125 45.796875 21.1875 \nQ 45.796875 27.640625 41.28125 31.265625 \nQ 36.765625 34.90625 28.71875 34.90625 \nL 20.21875 34.90625 \nL 20.21875 43.015625 \nL 29.109375 43.015625 \nQ 36.375 43.015625 40.234375 45.921875 \nQ 44.09375 48.828125 44.09375 54.296875 \nQ 44.09375 59.90625 40.109375 62.90625 \nQ 36.140625 65.921875 28.71875 65.921875 \nQ 24.65625 65.921875 20.015625 65.03125 \nQ 15.375 64.15625 9.8125 62.3125 \nL 9.8125 71.09375 \nQ 15.4375 72.65625 20.34375 73.4375 \nQ 25.25 74.21875 29.59375 74.21875 \nQ 40.828125 74.21875 47.359375 69.109375 \nQ 53.90625 64.015625 53.90625 55.328125 \nQ 53.90625 49.265625 50.4375 45.09375 \nQ 46.96875 40.921875 40.578125 39.3125 \nz\n\" id=\"DejaVuSans-51\"/>\n      </defs>\n      <g transform=\"translate(7.2 97.126306)scale(0.1 -0.1)\">\n       <use xlink:href=\"#DejaVuSans-51\"/>\n       <use x=\"63.623047\" xlink:href=\"#DejaVuSans-48\"/>\n      </g>\n     </g>\n    </g>\n   </g>\n   <g id=\"patch_3\">\n    <path d=\"M 26.925 97.443481 \nL 26.925 9.627088 \n\" style=\"fill:none;stroke:#000000;stroke-linecap:square;stroke-linejoin:miter;stroke-width:0.8;\"/>\n   </g>\n   <g id=\"patch_4\">\n    <path d=\"M 361.725 97.443481 \nL 361.725 9.627088 \n\" style=\"fill:none;stroke:#000000;stroke-linecap:square;stroke-linejoin:miter;stroke-width:0.8;\"/>\n   </g>\n   <g id=\"patch_5\">\n    <path d=\"M 26.925 97.443481 \nL 361.725 97.443481 \n\" style=\"fill:none;stroke:#000000;stroke-linecap:square;stroke-linejoin:miter;stroke-width:0.8;\"/>\n   </g>\n   <g id=\"patch_6\">\n    <path d=\"M 26.925 9.627088 \nL 361.725 9.627088 \n\" style=\"fill:none;stroke:#000000;stroke-linecap:square;stroke-linejoin:miter;stroke-width:0.8;\"/>\n   </g>\n  </g>\n </g>\n <defs>\n  <clipPath id=\"pa06ea4a1e0\">\n   <rect height=\"87.816393\" width=\"334.8\" x=\"26.925\" y=\"9.627088\"/>\n  </clipPath>\n </defs>\n</svg>\n",
      "image/png": "[encoded data removed]"
     },
     "metadata": {
      "needs_background": "light"
     }
    },
    {
     "output_type": "stream",
     "name": "stdout",
     "text": "GroundTruth:      3     5     1     7\n"
    }
   ],
   "source": [
    "#Fetch random batch image of test set:\n",
    "\n",
    "dataiter = iter(testloader)\n",
    "images, labels = dataiter.next()\n",
    "\n",
    "#Show images:\n",
    "imshow(torchvision.utils.make_grid(images))\n",
    "print('GroundTruth: ', ' '.join('%5s' % classes[labels[j]] for j in range(4)))"
   ]
  },
  {
   "cell_type": "code",
   "execution_count": 64,
   "metadata": {},
   "outputs": [],
   "source": [
    "#Run predictions:\n",
    "\n",
    "#this returns one-hot-encoding:\n",
    "outputs = net(images)"
   ]
  },
  {
   "cell_type": "code",
   "execution_count": 65,
   "metadata": {
    "tags": []
   },
   "outputs": [
    {
     "output_type": "stream",
     "name": "stdout",
     "text": "Predicted:      3     5     1     7\n"
    }
   ],
   "source": [
    "#max(outputs,1) will give the indices of the max values of the one-hot-encoding (our predictions), and also a gradient object that we ignore by storing in \"_\":\n",
    "_ , predicted = torch.max(outputs, 1)\n",
    "\n",
    "print('Predicted: ', ' '.join('%5s' % classes[predicted[j]] for j in range(4)))"
   ]
  }
 ],
 "metadata": {
  "language_info": {
   "codemirror_mode": {
    "name": "ipython",
    "version": 3
   },
   "file_extension": ".py",
   "mimetype": "text/x-python",
   "name": "python",
   "nbconvert_exporter": "python",
   "pygments_lexer": "ipython3",
   "version": "3.8.3-final"
  },
  "orig_nbformat": 2,
  "kernelspec": {
   "name": "python38364bitenvdlcondaac906d774a66413a80b27a36627fa0d1",
   "display_name": "Python 3.8.3 64-bit ('env_dl': conda)"
  }
 },
 "nbformat": 4,
 "nbformat_minor": 2
}