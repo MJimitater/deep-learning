{
 "cells": [
  {
   "cell_type": "code",
   "execution_count": 12,
   "metadata": {},
   "outputs": [],
   "source": [
    "from urllib.request import urlopen"
   ]
  },
  {
   "cell_type": "code",
   "execution_count": null,
   "metadata": {},
   "outputs": [],
   "source": []
  },
  {
   "cell_type": "code",
   "execution_count": 13,
   "metadata": {},
   "outputs": [],
   "source": [
    "url = \"http://olympus.realpython.org/profiles/aphrodite\""
   ]
  },
  {
   "cell_type": "code",
   "execution_count": 14,
   "metadata": {},
   "outputs": [],
   "source": [
    "page = urlopen(url)"
   ]
  },
  {
   "cell_type": "code",
   "execution_count": 15,
   "metadata": {},
   "outputs": [
    {
     "data": {
      "text/plain": [
       "<http.client.HTTPResponse at 0x7f1bec531d00>"
      ]
     },
     "execution_count": 15,
     "metadata": {},
     "output_type": "execute_result"
    }
   ],
   "source": [
    "page"
   ]
  },
  {
   "cell_type": "code",
   "execution_count": 16,
   "metadata": {},
   "outputs": [],
   "source": [
    "html_bytes = page.read()\n",
    "html = html_bytes.decode(\"utf-8\")"
   ]
  },
  {
   "cell_type": "code",
   "execution_count": 17,
   "metadata": {},
   "outputs": [
    {
     "name": "stdout",
     "output_type": "stream",
     "text": [
      "<html>\n",
      "<head>\n",
      "<title>Profile: Aphrodite</title>\n",
      "</head>\n",
      "<body bgcolor=\"yellow\">\n",
      "<center>\n",
      "<br><br>\n",
      "<img src=\"/static/aphrodite.gif\" />\n",
      "<h2>Name: Aphrodite</h2>\n",
      "<br><br>\n",
      "Favorite animal: Dove\n",
      "<br><br>\n",
      "Favorite color: Red\n",
      "<br><br>\n",
      "Hometown: Mount Olympus\n",
      "</center>\n",
      "</body>\n",
      "</html>\n",
      "\n"
     ]
    }
   ],
   "source": [
    "print(html)"
   ]
  },
  {
   "cell_type": "code",
   "execution_count": null,
   "metadata": {},
   "outputs": [],
   "source": []
  },
  {
   "cell_type": "code",
   "execution_count": 19,
   "metadata": {},
   "outputs": [],
   "source": [
    "title_index = html.find(\"<title>\")\n",
    "title_index"
   ]
  },
  {
   "cell_type": "code",
   "execution_count": 20,
   "metadata": {},
   "outputs": [
    {
     "data": {
      "text/plain": [
       "21"
      ]
     },
     "execution_count": 20,
     "metadata": {},
     "output_type": "execute_result"
    }
   ],
   "source": [
    "start_index = title_index + len(\"<title>\")\n",
    "start_index"
   ]
  },
  {
   "cell_type": "code",
   "execution_count": 21,
   "metadata": {},
   "outputs": [
    {
     "data": {
      "text/plain": [
       "39"
      ]
     },
     "execution_count": 21,
     "metadata": {},
     "output_type": "execute_result"
    }
   ],
   "source": [
    "end_index = html.find(\"</title>\")\n",
    "end_index"
   ]
  },
  {
   "cell_type": "code",
   "execution_count": 22,
   "metadata": {},
   "outputs": [
    {
     "data": {
      "text/plain": [
       "'Profile: Aphrodite'"
      ]
     },
     "execution_count": 22,
     "metadata": {},
     "output_type": "execute_result"
    }
   ],
   "source": [
    "html[start_index:end_index]"
   ]
  },
  {
   "cell_type": "code",
   "execution_count": 23,
   "metadata": {},
   "outputs": [],
   "source": [
    "from bs4 import BeautifulSoup\n",
    "from urllib.request import urlopen"
   ]
  },
  {
   "cell_type": "code",
   "execution_count": 33,
   "metadata": {},
   "outputs": [],
   "source": [
    "url = \"https://hilfsmittel.gkv-spitzenverband.de/home\"\n",
    "page = urlopen(url)\n",
    "html = page.read().decode(\"utf-8\")\n",
    "soup = BeautifulSoup(html, \"html.parser\")"
   ]
  },
  {
   "cell_type": "code",
   "execution_count": 34,
   "metadata": {},
   "outputs": [
    {
     "data": {
      "text/plain": [
       "'\\n\\n\\n\\nHilfsmittelverzeichnis des GKV-Spitzenverbandes\\n\\n\\n\\n\\n\\nLoading\\n\\n\\n'"
      ]
     },
     "execution_count": 34,
     "metadata": {},
     "output_type": "execute_result"
    }
   ],
   "source": [
    "soup.get_text()"
   ]
  },
  {
   "cell_type": "code",
   "execution_count": 35,
   "metadata": {},
   "outputs": [
    {
     "data": {
      "text/plain": [
       "'    Hilfsmittelverzeichnis des GKV-Spitzenverbandes      Loading   '"
      ]
     },
     "execution_count": 35,
     "metadata": {},
     "output_type": "execute_result"
    }
   ],
   "source": [
    "soup.get_text().replace(\"\\n\", \" \")"
   ]
  },
  {
   "cell_type": "code",
   "execution_count": 11,
   "metadata": {},
   "outputs": [],
   "source": [
    "import mechanicalsoup\n",
    "browser = mechanicalsoup.Browser()"
   ]
  },
  {
   "cell_type": "code",
   "execution_count": 12,
   "metadata": {},
   "outputs": [],
   "source": [
    "url = \"https://hilfsmittel.gkv-spitzenverband.de/home\"\n",
    "page = browser.get(url)"
   ]
  },
  {
   "cell_type": "code",
   "execution_count": 13,
   "metadata": {},
   "outputs": [
    {
     "data": {
      "text/plain": [
       "<!DOCTYPE html>\n",
       "<html lang=\"de\">\n",
       "<head>\n",
       "<meta charset=\"utf-8\"/>\n",
       "<title>Hilfsmittelverzeichnis des GKV-Spitzenverbandes</title>\n",
       "<base href=\"/\"/>\n",
       "<meta content=\"width=device-width, initial-scale=1\" name=\"viewport\"/>\n",
       "<link href=\"assets/favicon.ico\" rel=\"icon\" type=\"image/x-icon\"/>\n",
       "<link href=\"styles.8b69c1e0b2cc8de6bc6b.css\" rel=\"stylesheet\"/></head>\n",
       "<body>\n",
       "<gkv-root><span>Loading</span></gkv-root>\n",
       "<script src=\"runtime-es2015.5e8405c2dc9c7ba55387.js\" type=\"module\"></script><script defer=\"\" nomodule=\"\" src=\"runtime-es5.5e8405c2dc9c7ba55387.js\"></script><script defer=\"\" nomodule=\"\" src=\"polyfills-es5.ce9d87b169565c75ef36.js\"></script><script src=\"polyfills-es2015.88ee3d87829ed9c9efa7.js\" type=\"module\"></script><script src=\"main-es2015.de98ac470014e35b0f4b.js\" type=\"module\"></script><script defer=\"\" nomodule=\"\" src=\"main-es5.de98ac470014e35b0f4b.js\"></script></body>\n",
       "</html>"
      ]
     },
     "execution_count": 13,
     "metadata": {},
     "output_type": "execute_result"
    }
   ],
   "source": [
    "page.soup"
   ]
  },
  {
   "cell_type": "code",
   "execution_count": 22,
   "metadata": {},
   "outputs": [
    {
     "ename": "ModuleNotFoundError",
     "evalue": "No module named 'beautifulsoup4'",
     "output_type": "error",
     "traceback": [
      "\u001b[0;31m---------------------------------------------------------------------------\u001b[0m",
      "\u001b[0;31mModuleNotFoundError\u001b[0m                       Traceback (most recent call last)",
      "\u001b[0;32m<ipython-input-22-700468833670>\u001b[0m in \u001b[0;36m<module>\u001b[0;34m\u001b[0m\n\u001b[1;32m      1\u001b[0m \u001b[0;32mimport\u001b[0m \u001b[0mrequests\u001b[0m\u001b[0;34m\u001b[0m\u001b[0;34m\u001b[0m\u001b[0m\n\u001b[0;32m----> 2\u001b[0;31m \u001b[0;32mimport\u001b[0m \u001b[0mbeautifulsoup4\u001b[0m\u001b[0;34m\u001b[0m\u001b[0;34m\u001b[0m\u001b[0m\n\u001b[0m\u001b[1;32m      3\u001b[0m \u001b[0;34m\u001b[0m\u001b[0m\n\u001b[1;32m      4\u001b[0m \u001b[0msource\u001b[0m \u001b[0;34m=\u001b[0m \u001b[0mrequests\u001b[0m\u001b[0;34m.\u001b[0m\u001b[0mget\u001b[0m\u001b[0;34m(\u001b[0m\u001b[0murl\u001b[0m\u001b[0;34m)\u001b[0m\u001b[0;34m.\u001b[0m\u001b[0mtext\u001b[0m\u001b[0;34m\u001b[0m\u001b[0;34m\u001b[0m\u001b[0m\n",
      "\u001b[0;31mModuleNotFoundError\u001b[0m: No module named 'beautifulsoup4'"
     ]
    }
   ],
   "source": []
  },
  {
   "cell_type": "code",
   "execution_count": 26,
   "metadata": {},
   "outputs": [
    {
     "data": {
      "text/plain": [
       "<!DOCTYPE html>\n",
       "<html lang=\"de\">\n",
       "<head>\n",
       "<meta charset=\"utf-8\"/>\n",
       "<title>Hilfsmittelverzeichnis des GKV-Spitzenverbandes</title>\n",
       "<base href=\"/\"/>\n",
       "<meta content=\"width=device-width, initial-scale=1\" name=\"viewport\"/>\n",
       "<link href=\"assets/favicon.ico\" rel=\"icon\" type=\"image/x-icon\"/>\n",
       "<link href=\"styles.8b69c1e0b2cc8de6bc6b.css\" rel=\"stylesheet\"/></head>\n",
       "<body>\n",
       "<gkv-root><span>Loading</span></gkv-root>\n",
       "<script src=\"runtime-es2015.5e8405c2dc9c7ba55387.js\" type=\"module\"></script><script defer=\"\" nomodule=\"\" src=\"runtime-es5.5e8405c2dc9c7ba55387.js\"></script><script defer=\"\" nomodule=\"\" src=\"polyfills-es5.ce9d87b169565c75ef36.js\"></script><script src=\"polyfills-es2015.88ee3d87829ed9c9efa7.js\" type=\"module\"></script><script src=\"main-es2015.de98ac470014e35b0f4b.js\" type=\"module\"></script><script defer=\"\" nomodule=\"\" src=\"main-es5.de98ac470014e35b0f4b.js\"></script></body>\n",
       "</html>"
      ]
     },
     "execution_count": 26,
     "metadata": {},
     "output_type": "execute_result"
    }
   ],
   "source": [
    "import requests\n",
    "source = requests.get(url).text\n",
    "soup = BeautifulSoup(source, 'lxml')\n",
    "soup"
   ]
  },
  {
   "cell_type": "code",
   "execution_count": 27,
   "metadata": {},
   "outputs": [
    {
     "name": "stdout",
     "output_type": "stream",
     "text": [
      "<!DOCTYPE html>\n",
      "<html lang=\"de\">\n",
      " <head>\n",
      "  <meta charset=\"utf-8\"/>\n",
      "  <title>\n",
      "   Hilfsmittelverzeichnis des GKV-Spitzenverbandes\n",
      "  </title>\n",
      "  <base href=\"/\"/>\n",
      "  <meta content=\"width=device-width, initial-scale=1\" name=\"viewport\"/>\n",
      "  <link href=\"assets/favicon.ico\" rel=\"icon\" type=\"image/x-icon\"/>\n",
      "  <link href=\"styles.8b69c1e0b2cc8de6bc6b.css\" rel=\"stylesheet\"/>\n",
      " </head>\n",
      " <body>\n",
      "  <gkv-root>\n",
      "   <span>\n",
      "    Loading\n",
      "   </span>\n",
      "  </gkv-root>\n",
      "  <script src=\"runtime-es2015.5e8405c2dc9c7ba55387.js\" type=\"module\">\n",
      "  </script>\n",
      "  <script defer=\"\" nomodule=\"\" src=\"runtime-es5.5e8405c2dc9c7ba55387.js\">\n",
      "  </script>\n",
      "  <script defer=\"\" nomodule=\"\" src=\"polyfills-es5.ce9d87b169565c75ef36.js\">\n",
      "  </script>\n",
      "  <script src=\"polyfills-es2015.88ee3d87829ed9c9efa7.js\" type=\"module\">\n",
      "  </script>\n",
      "  <script src=\"main-es2015.de98ac470014e35b0f4b.js\" type=\"module\">\n",
      "  </script>\n",
      "  <script defer=\"\" nomodule=\"\" src=\"main-es5.de98ac470014e35b0f4b.js\">\n",
      "  </script>\n",
      " </body>\n",
      "</html>\n",
      "\n"
     ]
    }
   ],
   "source": [
    "print(soup.prettify())"
   ]
  },
  {
   "cell_type": "code",
   "execution_count": 30,
   "metadata": {},
   "outputs": [
    {
     "data": {
      "text/plain": [
       "<body>\n",
       "<gkv-root><span>Loading</span></gkv-root>\n",
       "<script src=\"runtime-es2015.5e8405c2dc9c7ba55387.js\" type=\"module\"></script><script defer=\"\" nomodule=\"\" src=\"runtime-es5.5e8405c2dc9c7ba55387.js\"></script><script defer=\"\" nomodule=\"\" src=\"polyfills-es5.ce9d87b169565c75ef36.js\"></script><script src=\"polyfills-es2015.88ee3d87829ed9c9efa7.js\" type=\"module\"></script><script src=\"main-es2015.de98ac470014e35b0f4b.js\" type=\"module\"></script><script defer=\"\" nomodule=\"\" src=\"main-es5.de98ac470014e35b0f4b.js\"></script></body>"
      ]
     },
     "execution_count": 30,
     "metadata": {},
     "output_type": "execute_result"
    }
   ],
   "source": [
    "soup.body"
   ]
  }
 ],
 "metadata": {
  "interpreter": {
   "hash": "ebc9b7f51a1e917b6e9b1edd1f319259f270571b1a3f6e162deefa4f79b97afb"
  },
  "kernelspec": {
   "display_name": "Python 3.8.1 64-bit ('env_ai': conda)",
   "language": "python",
   "name": "python3"
  },
  "language_info": {
   "codemirror_mode": {
    "name": "ipython",
    "version": 3
   },
   "file_extension": ".py",
   "mimetype": "text/x-python",
   "name": "python",
   "nbconvert_exporter": "python",
   "pygments_lexer": "ipython3",
   "version": "3.8.1"
  },
  "orig_nbformat": 4
 },
 "nbformat": 4,
 "nbformat_minor": 2
}
