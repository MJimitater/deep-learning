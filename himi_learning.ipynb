{
 "cells": [
  {
   "cell_type": "code",
   "execution_count": null,
   "metadata": {},
   "outputs": [],
   "source": []
  }
 ],
 "metadata": {
  "interpreter": {
   "hash": "ebc9b7f51a1e917b6e9b1edd1f319259f270571b1a3f6e162deefa4f79b97afb"
  },
  "kernelspec": {
   "display_name": "Python 3.8.1 64-bit ('env_ai': conda)",
   "language": "python",
   "name": "python3"
  },
  "language_info": {
   "name": "python",
   "version": "3.8.1"
  },
  "orig_nbformat": 4
 },
 "nbformat": 4,
 "nbformat_minor": 2
}
