{
 "cells": [
  {
   "cell_type": "markdown",
   "metadata": {},
   "source": [
    "# MNIST with NN\n",
    "\n",
    "## MNIST data set download/import"
   ]
  },
  {
   "cell_type": "code",
   "execution_count": 1,
   "metadata": {
    "tags": []
   },
   "outputs": [
    {
     "output_type": "stream",
     "name": "stdout",
     "text": "cuda:0\n"
    }
   ],
   "source": [
    "import torch\n",
    "import torchvision\n",
    "import torchvision.transforms as transforms\n",
    "import numpy as np\n",
    "\n",
    "\n",
    "#Select NVIDIA if available, otherwise cpu:\n",
    "#device = torch.device(\"cuda:0\" if torch.cuda.is_available() else \"cpu\")\n",
    "\n",
    "device = torch.device(\"cuda:0\")\n",
    "#device = torch.device(\"cpu\")\n",
    "\n",
    "print(device)"
   ]
  },
  {
   "cell_type": "code",
   "execution_count": 2,
   "metadata": {},
   "outputs": [],
   "source": [
    "#Common image transformations:\n",
    "transform = transforms.Compose(\n",
    "    #convert PIL image to tensor array:\n",
    "    [transforms.ToTensor(),\n",
    "    #each of the three pixel maps is centered to have mean 0.5 and std 0.5:\n",
    "     transforms.Normalize((0.5,), (0.5,))])\n",
    "\n",
    "#Download MNIST data:\n",
    "#root: where data to be stored, if not exists already\n",
    "#train=True: data is used for training (otherwise test set is created)\n",
    "#download=True: downloads data, if not exists in root already\n",
    "#transform: applies transformations to image\n",
    "trainset = torchvision.datasets.MNIST(root='./data', train=True, download=True, transform=transform)\n",
    "\n",
    "#Dataloader makes dataset an iterable object\n",
    "#batch_size: how many samples per batch to load\n",
    "#shuffle: have data reshuffled at every epoch\n",
    "#num_workers: how many subprocesses to use for data loading (0 means data is loaded into main process)\n",
    "trainloader = torch.utils.data.DataLoader(trainset, batch_size=4, shuffle=True, num_workers=2)\n",
    "\n",
    "#Load test data set:\n",
    "testset = torchvision.datasets.MNIST(root='./data', train=False,\n",
    "                                       download=True, transform=transform)\n",
    "#Dataloader for test set:\n",
    "testloader = torch.utils.data.DataLoader(testset, batch_size=4,\n",
    "                                         shuffle=True, num_workers=2)\n",
    "\n",
    "#Set classes:\n",
    "#class_label[0]=0, ..., class_label[9]=9:\n",
    "classes = (0,1,2,3,4,5,6,7,8,9)"
   ]
  },
  {
   "cell_type": "markdown",
   "metadata": {},
   "source": [
    "Exploring data set:"
   ]
  },
  {
   "cell_type": "code",
   "execution_count": 3,
   "metadata": {},
   "outputs": [
    {
     "output_type": "execute_result",
     "data": {
      "text/plain": "torch.Size([60000, 28, 28])"
     },
     "metadata": {},
     "execution_count": 3
    }
   ],
   "source": [
    "trainloader.dataset.data.shape"
   ]
  },
  {
   "cell_type": "code",
   "execution_count": 4,
   "metadata": {},
   "outputs": [
    {
     "output_type": "execute_result",
     "data": {
      "text/plain": "['0 - zero',\n '1 - one',\n '2 - two',\n '3 - three',\n '4 - four',\n '5 - five',\n '6 - six',\n '7 - seven',\n '8 - eight',\n '9 - nine']"
     },
     "metadata": {},
     "execution_count": 4
    }
   ],
   "source": [
    "trainset.classes"
   ]
  },
  {
   "cell_type": "markdown",
   "metadata": {},
   "source": [
    "Exploring test set:"
   ]
  },
  {
   "cell_type": "code",
   "execution_count": 5,
   "metadata": {},
   "outputs": [
    {
     "output_type": "execute_result",
     "data": {
      "text/plain": "torch.Size([10000, 28, 28])"
     },
     "metadata": {},
     "execution_count": 5
    }
   ],
   "source": [
    "testloader.dataset.data.shape"
   ]
  },
  {
   "cell_type": "code",
   "execution_count": 6,
   "metadata": {
    "tags": []
   },
   "outputs": [
    {
     "output_type": "stream",
     "name": "stdout",
     "text": "Class 0 has 5923 training images and 980 test images\nClass 1 has 6742 training images and 1135 test images\nClass 2 has 5958 training images and 1032 test images\nClass 3 has 6131 training images and 1010 test images\nClass 4 has 5842 training images and 982 test images\nClass 5 has 5421 training images and 892 test images\nClass 6 has 5918 training images and 958 test images\nClass 7 has 6265 training images and 1028 test images\nClass 8 has 5851 training images and 974 test images\nClass 9 has 5949 training images and 1009 test images\n"
    }
   ],
   "source": [
    "for i in np.unique(np.asarray(trainloader.dataset.targets)):\n",
    "    print(\"Class {0} has {1} training images and {2} test images\".format(i, (trainloader.dataset.targets == i).sum(), (testloader.dataset.targets == i).sum()))"
   ]
  },
  {
   "cell_type": "markdown",
   "metadata": {},
   "source": [
    "## Sample example image batch"
   ]
  },
  {
   "cell_type": "code",
   "execution_count": 7,
   "metadata": {
    "tags": []
   },
   "outputs": [
    {
     "output_type": "display_data",
     "data": {
      "text/plain": "<Figure size 432x288 with 1 Axes>",
      "image/svg+xml": "<?xml version=\"1.0\" encoding=\"utf-8\" standalone=\"no\"?>\n<!DOCTYPE svg PUBLIC \"-//W3C//DTD SVG 1.1//EN\"\n  \"http://www.w3.org/Graphics/SVG/1.1/DTD/svg11.dtd\">\n<!-- Created with matplotlib (https://matplotlib.org/) -->\n<svg height=\"121.321606pt\" version=\"1.1\" viewBox=\"0 0 374.352357 121.321606\" width=\"374.352357pt\" xmlns=\"http://www.w3.org/2000/svg\" xmlns:xlink=\"http://www.w3.org/1999/xlink\">\n <defs>\n  <style type=\"text/css\">\n*{stroke-linecap:butt;stroke-linejoin:round;}\n  </style>\n </defs>\n <g id=\"figure_1\">\n  <g id=\"patch_1\">\n   <path d=\"M -0 121.321606 \nL 374.352357 121.321606 \nL 374.352357 0 \nL -0 0 \nz\n\" style=\"fill:none;\"/>\n  </g>\n  <g id=\"axes_1\">\n   <g id=\"patch_2\">\n    <path d=\"M 26.925 97.443481 \nL 361.725 97.443481 \nL 361.725 9.627088 \nL 26.925 9.627088 \nz\n\" style=\"fill:#ffffff;\"/>\n   </g>\n   <g clip-path=\"url(#p8e17501849)\">\n    <image height=\"88\" id=\"image8849b7875c\" transform=\"scale(1 -1)translate(0 -88)\" width=\"335\" x=\"26.925\" xlink:href=\"data:image/png;base64,\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\" y=\"-9.443481\"/>\n   </g>\n   <g id=\"matplotlib.axis_1\">\n    <g id=\"xtick_1\">\n     <g id=\"line2d_1\">\n      <defs>\n       <path d=\"M 0 0 \nL 0 3.5 \n\" id=\"m7564a026c1\" style=\"stroke:#000000;stroke-width:0.8;\"/>\n      </defs>\n      <g>\n       <use style=\"stroke:#000000;stroke-width:0.8;\" x=\"28.297131\" xlink:href=\"#m7564a026c1\" y=\"97.443481\"/>\n      </g>\n     </g>\n     <g id=\"text_1\">\n      <!-- 0 -->\n      <defs>\n       <path d=\"M 31.78125 66.40625 \nQ 24.171875 66.40625 20.328125 58.90625 \nQ 16.5 51.421875 16.5 36.375 \nQ 16.5 21.390625 20.328125 13.890625 \nQ 24.171875 6.390625 31.78125 6.390625 \nQ 39.453125 6.390625 43.28125 13.890625 \nQ 47.125 21.390625 47.125 36.375 \nQ 47.125 51.421875 43.28125 58.90625 \nQ 39.453125 66.40625 31.78125 66.40625 \nz\nM 31.78125 74.21875 \nQ 44.046875 74.21875 50.515625 64.515625 \nQ 56.984375 54.828125 56.984375 36.375 \nQ 56.984375 17.96875 50.515625 8.265625 \nQ 44.046875 -1.421875 31.78125 -1.421875 \nQ 19.53125 -1.421875 13.0625 8.265625 \nQ 6.59375 17.96875 6.59375 36.375 \nQ 6.59375 54.828125 13.0625 64.515625 \nQ 19.53125 74.21875 31.78125 74.21875 \nz\n\" id=\"DejaVuSans-48\"/>\n      </defs>\n      <g transform=\"translate(25.115881 112.041919)scale(0.1 -0.1)\">\n       <use xlink:href=\"#DejaVuSans-48\"/>\n      </g>\n     </g>\n    </g>\n    <g id=\"xtick_2\">\n     <g id=\"line2d_2\">\n      <g>\n       <use style=\"stroke:#000000;stroke-width:0.8;\" x=\"83.182377\" xlink:href=\"#m7564a026c1\" y=\"97.443481\"/>\n      </g>\n     </g>\n     <g id=\"text_2\">\n      <!-- 20 -->\n      <defs>\n       <path d=\"M 19.1875 8.296875 \nL 53.609375 8.296875 \nL 53.609375 0 \nL 7.328125 0 \nL 7.328125 8.296875 \nQ 12.9375 14.109375 22.625 23.890625 \nQ 32.328125 33.6875 34.8125 36.53125 \nQ 39.546875 41.84375 41.421875 45.53125 \nQ 43.3125 49.21875 43.3125 52.78125 \nQ 43.3125 58.59375 39.234375 62.25 \nQ 35.15625 65.921875 28.609375 65.921875 \nQ 23.96875 65.921875 18.8125 64.3125 \nQ 13.671875 62.703125 7.8125 59.421875 \nL 7.8125 69.390625 \nQ 13.765625 71.78125 18.9375 73 \nQ 24.125 74.21875 28.421875 74.21875 \nQ 39.75 74.21875 46.484375 68.546875 \nQ 53.21875 62.890625 53.21875 53.421875 \nQ 53.21875 48.921875 51.53125 44.890625 \nQ 49.859375 40.875 45.40625 35.40625 \nQ 44.1875 33.984375 37.640625 27.21875 \nQ 31.109375 20.453125 19.1875 8.296875 \nz\n\" id=\"DejaVuSans-50\"/>\n      </defs>\n      <g transform=\"translate(76.819877 112.041919)scale(0.1 -0.1)\">\n       <use xlink:href=\"#DejaVuSans-50\"/>\n       <use x=\"63.623047\" xlink:href=\"#DejaVuSans-48\"/>\n      </g>\n     </g>\n    </g>\n    <g id=\"xtick_3\">\n     <g id=\"line2d_3\">\n      <g>\n       <use style=\"stroke:#000000;stroke-width:0.8;\" x=\"138.067623\" xlink:href=\"#m7564a026c1\" y=\"97.443481\"/>\n      </g>\n     </g>\n     <g id=\"text_3\">\n      <!-- 40 -->\n      <defs>\n       <path d=\"M 37.796875 64.3125 \nL 12.890625 25.390625 \nL 37.796875 25.390625 \nz\nM 35.203125 72.90625 \nL 47.609375 72.90625 \nL 47.609375 25.390625 \nL 58.015625 25.390625 \nL 58.015625 17.1875 \nL 47.609375 17.1875 \nL 47.609375 0 \nL 37.796875 0 \nL 37.796875 17.1875 \nL 4.890625 17.1875 \nL 4.890625 26.703125 \nz\n\" id=\"DejaVuSans-52\"/>\n      </defs>\n      <g transform=\"translate(131.705123 112.041919)scale(0.1 -0.1)\">\n       <use xlink:href=\"#DejaVuSans-52\"/>\n       <use x=\"63.623047\" xlink:href=\"#DejaVuSans-48\"/>\n      </g>\n     </g>\n    </g>\n    <g id=\"xtick_4\">\n     <g id=\"line2d_4\">\n      <g>\n       <use style=\"stroke:#000000;stroke-width:0.8;\" x=\"192.952869\" xlink:href=\"#m7564a026c1\" y=\"97.443481\"/>\n      </g>\n     </g>\n     <g id=\"text_4\">\n      <!-- 60 -->\n      <defs>\n       <path d=\"M 33.015625 40.375 \nQ 26.375 40.375 22.484375 35.828125 \nQ 18.609375 31.296875 18.609375 23.390625 \nQ 18.609375 15.53125 22.484375 10.953125 \nQ 26.375 6.390625 33.015625 6.390625 \nQ 39.65625 6.390625 43.53125 10.953125 \nQ 47.40625 15.53125 47.40625 23.390625 \nQ 47.40625 31.296875 43.53125 35.828125 \nQ 39.65625 40.375 33.015625 40.375 \nz\nM 52.59375 71.296875 \nL 52.59375 62.3125 \nQ 48.875 64.0625 45.09375 64.984375 \nQ 41.3125 65.921875 37.59375 65.921875 \nQ 27.828125 65.921875 22.671875 59.328125 \nQ 17.53125 52.734375 16.796875 39.40625 \nQ 19.671875 43.65625 24.015625 45.921875 \nQ 28.375 48.1875 33.59375 48.1875 \nQ 44.578125 48.1875 50.953125 41.515625 \nQ 57.328125 34.859375 57.328125 23.390625 \nQ 57.328125 12.15625 50.6875 5.359375 \nQ 44.046875 -1.421875 33.015625 -1.421875 \nQ 20.359375 -1.421875 13.671875 8.265625 \nQ 6.984375 17.96875 6.984375 36.375 \nQ 6.984375 53.65625 15.1875 63.9375 \nQ 23.390625 74.21875 37.203125 74.21875 \nQ 40.921875 74.21875 44.703125 73.484375 \nQ 48.484375 72.75 52.59375 71.296875 \nz\n\" id=\"DejaVuSans-54\"/>\n      </defs>\n      <g transform=\"translate(186.590369 112.041919)scale(0.1 -0.1)\">\n       <use xlink:href=\"#DejaVuSans-54\"/>\n       <use x=\"63.623047\" xlink:href=\"#DejaVuSans-48\"/>\n      </g>\n     </g>\n    </g>\n    <g id=\"xtick_5\">\n     <g id=\"line2d_5\">\n      <g>\n       <use style=\"stroke:#000000;stroke-width:0.8;\" x=\"247.838115\" xlink:href=\"#m7564a026c1\" y=\"97.443481\"/>\n      </g>\n     </g>\n     <g id=\"text_5\">\n      <!-- 80 -->\n      <defs>\n       <path d=\"M 31.78125 34.625 \nQ 24.75 34.625 20.71875 30.859375 \nQ 16.703125 27.09375 16.703125 20.515625 \nQ 16.703125 13.921875 20.71875 10.15625 \nQ 24.75 6.390625 31.78125 6.390625 \nQ 38.8125 6.390625 42.859375 10.171875 \nQ 46.921875 13.96875 46.921875 20.515625 \nQ 46.921875 27.09375 42.890625 30.859375 \nQ 38.875 34.625 31.78125 34.625 \nz\nM 21.921875 38.8125 \nQ 15.578125 40.375 12.03125 44.71875 \nQ 8.5 49.078125 8.5 55.328125 \nQ 8.5 64.0625 14.71875 69.140625 \nQ 20.953125 74.21875 31.78125 74.21875 \nQ 42.671875 74.21875 48.875 69.140625 \nQ 55.078125 64.0625 55.078125 55.328125 \nQ 55.078125 49.078125 51.53125 44.71875 \nQ 48 40.375 41.703125 38.8125 \nQ 48.828125 37.15625 52.796875 32.3125 \nQ 56.78125 27.484375 56.78125 20.515625 \nQ 56.78125 9.90625 50.3125 4.234375 \nQ 43.84375 -1.421875 31.78125 -1.421875 \nQ 19.734375 -1.421875 13.25 4.234375 \nQ 6.78125 9.90625 6.78125 20.515625 \nQ 6.78125 27.484375 10.78125 32.3125 \nQ 14.796875 37.15625 21.921875 38.8125 \nz\nM 18.3125 54.390625 \nQ 18.3125 48.734375 21.84375 45.5625 \nQ 25.390625 42.390625 31.78125 42.390625 \nQ 38.140625 42.390625 41.71875 45.5625 \nQ 45.3125 48.734375 45.3125 54.390625 \nQ 45.3125 60.0625 41.71875 63.234375 \nQ 38.140625 66.40625 31.78125 66.40625 \nQ 25.390625 66.40625 21.84375 63.234375 \nQ 18.3125 60.0625 18.3125 54.390625 \nz\n\" id=\"DejaVuSans-56\"/>\n      </defs>\n      <g transform=\"translate(241.475615 112.041919)scale(0.1 -0.1)\">\n       <use xlink:href=\"#DejaVuSans-56\"/>\n       <use x=\"63.623047\" xlink:href=\"#DejaVuSans-48\"/>\n      </g>\n     </g>\n    </g>\n    <g id=\"xtick_6\">\n     <g id=\"line2d_6\">\n      <g>\n       <use style=\"stroke:#000000;stroke-width:0.8;\" x=\"302.723361\" xlink:href=\"#m7564a026c1\" y=\"97.443481\"/>\n      </g>\n     </g>\n     <g id=\"text_6\">\n      <!-- 100 -->\n      <defs>\n       <path d=\"M 12.40625 8.296875 \nL 28.515625 8.296875 \nL 28.515625 63.921875 \nL 10.984375 60.40625 \nL 10.984375 69.390625 \nL 28.421875 72.90625 \nL 38.28125 72.90625 \nL 38.28125 8.296875 \nL 54.390625 8.296875 \nL 54.390625 0 \nL 12.40625 0 \nz\n\" id=\"DejaVuSans-49\"/>\n      </defs>\n      <g transform=\"translate(293.179611 112.041919)scale(0.1 -0.1)\">\n       <use xlink:href=\"#DejaVuSans-49\"/>\n       <use x=\"63.623047\" xlink:href=\"#DejaVuSans-48\"/>\n       <use x=\"127.246094\" xlink:href=\"#DejaVuSans-48\"/>\n      </g>\n     </g>\n    </g>\n    <g id=\"xtick_7\">\n     <g id=\"line2d_7\">\n      <g>\n       <use style=\"stroke:#000000;stroke-width:0.8;\" x=\"357.608607\" xlink:href=\"#m7564a026c1\" y=\"97.443481\"/>\n      </g>\n     </g>\n     <g id=\"text_7\">\n      <!-- 120 -->\n      <g transform=\"translate(348.064857 112.041919)scale(0.1 -0.1)\">\n       <use xlink:href=\"#DejaVuSans-49\"/>\n       <use x=\"63.623047\" xlink:href=\"#DejaVuSans-50\"/>\n       <use x=\"127.246094\" xlink:href=\"#DejaVuSans-48\"/>\n      </g>\n     </g>\n    </g>\n   </g>\n   <g id=\"matplotlib.axis_2\">\n    <g id=\"ytick_1\">\n     <g id=\"line2d_8\">\n      <defs>\n       <path d=\"M 0 0 \nL -3.5 0 \n\" id=\"mcc5e0cd38a\" style=\"stroke:#000000;stroke-width:0.8;\"/>\n      </defs>\n      <g>\n       <use style=\"stroke:#000000;stroke-width:0.8;\" x=\"26.925\" xlink:href=\"#mcc5e0cd38a\" y=\"10.999219\"/>\n      </g>\n     </g>\n     <g id=\"text_8\">\n      <!-- 0 -->\n      <g transform=\"translate(13.5625 14.798437)scale(0.1 -0.1)\">\n       <use xlink:href=\"#DejaVuSans-48\"/>\n      </g>\n     </g>\n    </g>\n    <g id=\"ytick_2\">\n     <g id=\"line2d_9\">\n      <g>\n       <use style=\"stroke:#000000;stroke-width:0.8;\" x=\"26.925\" xlink:href=\"#mcc5e0cd38a\" y=\"38.441842\"/>\n      </g>\n     </g>\n     <g id=\"text_9\">\n      <!-- 10 -->\n      <g transform=\"translate(7.2 42.24106)scale(0.1 -0.1)\">\n       <use xlink:href=\"#DejaVuSans-49\"/>\n       <use x=\"63.623047\" xlink:href=\"#DejaVuSans-48\"/>\n      </g>\n     </g>\n    </g>\n    <g id=\"ytick_3\">\n     <g id=\"line2d_10\">\n      <g>\n       <use style=\"stroke:#000000;stroke-width:0.8;\" x=\"26.925\" xlink:href=\"#mcc5e0cd38a\" y=\"65.884465\"/>\n      </g>\n     </g>\n     <g id=\"text_10\">\n      <!-- 20 -->\n      <g transform=\"translate(7.2 69.683683)scale(0.1 -0.1)\">\n       <use xlink:href=\"#DejaVuSans-50\"/>\n       <use x=\"63.623047\" xlink:href=\"#DejaVuSans-48\"/>\n      </g>\n     </g>\n    </g>\n    <g id=\"ytick_4\">\n     <g id=\"line2d_11\">\n      <g>\n       <use style=\"stroke:#000000;stroke-width:0.8;\" x=\"26.925\" xlink:href=\"#mcc5e0cd38a\" y=\"93.327088\"/>\n      </g>\n     </g>\n     <g id=\"text_11\">\n      <!-- 30 -->\n      <defs>\n       <path d=\"M 40.578125 39.3125 \nQ 47.65625 37.796875 51.625 33 \nQ 55.609375 28.21875 55.609375 21.1875 \nQ 55.609375 10.40625 48.1875 4.484375 \nQ 40.765625 -1.421875 27.09375 -1.421875 \nQ 22.515625 -1.421875 17.65625 -0.515625 \nQ 12.796875 0.390625 7.625 2.203125 \nL 7.625 11.71875 \nQ 11.71875 9.328125 16.59375 8.109375 \nQ 21.484375 6.890625 26.8125 6.890625 \nQ 36.078125 6.890625 40.9375 10.546875 \nQ 45.796875 14.203125 45.796875 21.1875 \nQ 45.796875 27.640625 41.28125 31.265625 \nQ 36.765625 34.90625 28.71875 34.90625 \nL 20.21875 34.90625 \nL 20.21875 43.015625 \nL 29.109375 43.015625 \nQ 36.375 43.015625 40.234375 45.921875 \nQ 44.09375 48.828125 44.09375 54.296875 \nQ 44.09375 59.90625 40.109375 62.90625 \nQ 36.140625 65.921875 28.71875 65.921875 \nQ 24.65625 65.921875 20.015625 65.03125 \nQ 15.375 64.15625 9.8125 62.3125 \nL 9.8125 71.09375 \nQ 15.4375 72.65625 20.34375 73.4375 \nQ 25.25 74.21875 29.59375 74.21875 \nQ 40.828125 74.21875 47.359375 69.109375 \nQ 53.90625 64.015625 53.90625 55.328125 \nQ 53.90625 49.265625 50.4375 45.09375 \nQ 46.96875 40.921875 40.578125 39.3125 \nz\n\" id=\"DejaVuSans-51\"/>\n      </defs>\n      <g transform=\"translate(7.2 97.126306)scale(0.1 -0.1)\">\n       <use xlink:href=\"#DejaVuSans-51\"/>\n       <use x=\"63.623047\" xlink:href=\"#DejaVuSans-48\"/>\n      </g>\n     </g>\n    </g>\n   </g>\n   <g id=\"patch_3\">\n    <path d=\"M 26.925 97.443481 \nL 26.925 9.627088 \n\" style=\"fill:none;stroke:#000000;stroke-linecap:square;stroke-linejoin:miter;stroke-width:0.8;\"/>\n   </g>\n   <g id=\"patch_4\">\n    <path d=\"M 361.725 97.443481 \nL 361.725 9.627088 \n\" style=\"fill:none;stroke:#000000;stroke-linecap:square;stroke-linejoin:miter;stroke-width:0.8;\"/>\n   </g>\n   <g id=\"patch_5\">\n    <path d=\"M 26.925 97.443481 \nL 361.725 97.443481 \n\" style=\"fill:none;stroke:#000000;stroke-linecap:square;stroke-linejoin:miter;stroke-width:0.8;\"/>\n   </g>\n   <g id=\"patch_6\">\n    <path d=\"M 26.925 9.627088 \nL 361.725 9.627088 \n\" style=\"fill:none;stroke:#000000;stroke-linecap:square;stroke-linejoin:miter;stroke-width:0.8;\"/>\n   </g>\n  </g>\n </g>\n <defs>\n  <clipPath id=\"p8e17501849\">\n   <rect height=\"87.816393\" width=\"334.8\" x=\"26.925\" y=\"9.627088\"/>\n  </clipPath>\n </defs>\n</svg>\n",
      "image/png": "[encoded data removed]"
     },
     "metadata": {
      "needs_background": "light"
     }
    },
    {
     "output_type": "stream",
     "name": "stdout",
     "text": "9     4     6     6\n"
    }
   ],
   "source": [
    "import matplotlib.pyplot as plt\n",
    "import numpy as np\n",
    "\n",
    "# functions to show an image\n",
    "\n",
    "\n",
    "def imshow(img):\n",
    "    img = img / 2 + 0.5     # unnormalize\n",
    "    npimg = img.numpy()\n",
    "    plt.imshow(np.transpose(npimg, (1, 2, 0)))\n",
    "    plt.show()\n",
    "\n",
    "\n",
    "#Get some random training images:\n",
    "#Make trainloader iteraterable (over batches, so 4 images are fetched): \n",
    "dataiter = iter(trainloader)\n",
    "#returns random next element:\n",
    "images, labels = dataiter.next()\n",
    "\n",
    "#Show images:\n",
    "imshow(torchvision.utils.make_grid(images))\n",
    "#Print labels:\n",
    "print(' '.join('%5s' % classes[labels[j]] for j in range(4)))\n",
    "\n",
    "#images, labels = dataiter.next"
   ]
  },
  {
   "cell_type": "markdown",
   "metadata": {},
   "source": [
    "## NN architecture"
   ]
  },
  {
   "cell_type": "code",
   "execution_count": 8,
   "metadata": {},
   "outputs": [
    {
     "output_type": "execute_result",
     "data": {
      "text/plain": "Net(\n  (fc1): Linear(in_features=784, out_features=50, bias=True)\n  (fc2): Linear(in_features=50, out_features=50, bias=True)\n  (fc3): Linear(in_features=50, out_features=10, bias=True)\n)"
     },
     "metadata": {},
     "execution_count": 8
    }
   ],
   "source": [
    "#Define CNN architecture:\n",
    "\n",
    "import torch.nn as nn\n",
    "import torch.nn.functional as F\n",
    "\n",
    "#Define Net as child class of nn.Module:\n",
    "class Net(nn.Module):\n",
    "    def __init__(self):\n",
    "        super(Net, self).__init__()\n",
    "        \n",
    "        self.fc1 = nn.Linear(28*28, 50)\n",
    "        self.fc2 = nn.Linear(50, 50)\n",
    "        self.fc3 = nn.Linear(50, 10)\n",
    "\n",
    "    def forward(self, x):\n",
    "        #reshape input data x to be 1*784 vector:\n",
    "        x = x.view(-1, 28 * 28)\n",
    "        x = F.relu(self.fc1(x))\n",
    "        x = F.relu(self.fc2(x))\n",
    "        x = F.log_softmax(self.fc3(x))\n",
    "        return x\n",
    "\n",
    "\n",
    "net = Net()\n",
    "net.to(device)"
   ]
  },
  {
   "cell_type": "markdown",
   "metadata": {},
   "source": [
    "## Loss function"
   ]
  },
  {
   "cell_type": "code",
   "execution_count": 9,
   "metadata": {},
   "outputs": [],
   "source": [
    "#Define Loss function:\n",
    "\n",
    "import torch.optim as optim\n",
    "\n",
    "criterion = nn.NLLLoss()\n",
    "optimizer = optim.SGD(net.parameters(), lr=0.01, momentum=0.5)"
   ]
  },
  {
   "cell_type": "markdown",
   "metadata": {},
   "source": [
    "## Training"
   ]
  },
  {
   "cell_type": "code",
   "execution_count": 10,
   "metadata": {
    "tags": []
   },
   "outputs": [
    {
     "output_type": "stream",
     "name": "stdout",
     "text": "Train Epoch: 1 [3998/60000 (13%)]\tLoss: 0.738985\nTrain Epoch: 1 [7998/60000 (27%)]\tLoss: 0.370905\nTrain Epoch: 1 [11998/60000 (40%)]\tLoss: 0.333343\nTrain Epoch: 1 [15998/60000 (53%)]\tLoss: 0.291035\nTrain Epoch: 1 [19998/60000 (67%)]\tLoss: 0.259213\nTrain Epoch: 1 [23998/60000 (80%)]\tLoss: 0.239909\nTrain Epoch: 1 [27998/60000 (93%)]\tLoss: 0.207426\nTrain Epoch: 2 [3998/60000 (13%)]\tLoss: 0.187909\nTrain Epoch: 2 [7998/60000 (27%)]\tLoss: 0.200968\nTrain Epoch: 2 [11998/60000 (40%)]\tLoss: 0.188403\nTrain Epoch: 2 [15998/60000 (53%)]\tLoss: 0.195353\nTrain Epoch: 2 [19998/60000 (67%)]\tLoss: 0.181245\nTrain Epoch: 2 [23998/60000 (80%)]\tLoss: 0.177897\nTrain Epoch: 2 [27998/60000 (93%)]\tLoss: 0.168188\nFinished Training\nCPU times: user 53.4 s, sys: 6.07 s, total: 59.5 s\nWall time: 1min 3s\n"
    }
   ],
   "source": [
    "%%time\n",
    "\n",
    "#Training:\n",
    "epochs = 2\n",
    "\n",
    "#loop over the dataset \"epochs\" times:\n",
    "for epoch in range(epochs):\n",
    "\n",
    "    running_loss = 0.0\n",
    "    #enumerate(trainloader,0): make trainloader iterable and start the index at 0:\n",
    "    for i, data in enumerate(trainloader, 0):\n",
    "        #get the inputs; data is a list of [inputs, labels]:\n",
    "        inputs, labels = data[0].to(device), data[1].to(device)\n",
    "\n",
    "        inputs = inputs.view(-1, 28 * 28)\n",
    "        \n",
    "        #zero the parameter gradients (just to be save):\n",
    "        optimizer.zero_grad()\n",
    "\n",
    "        #forward:\n",
    "        outputs = net(inputs)\n",
    "\n",
    "        #loss += F.nll_loss(outputs, labels, reduction='sum').item()\n",
    "\n",
    "        #loss:\n",
    "        loss = criterion(outputs, labels)\n",
    "\n",
    "        #backward:\n",
    "        loss.backward()\n",
    "        #optimize:\n",
    "        optimizer.step()\n",
    "\n",
    "        #print statistics:\n",
    "        running_loss += loss.item()\n",
    "\n",
    "        #loss /= len(trainloader.dataset)\n",
    "\n",
    "        #print every 2000 mini-batches:\n",
    "        if i % 2000 == 1999:\n",
    "            print('Train Epoch: {} [{}/{} ({:.0f}%)]\\tLoss: {:.6f}'.format(epoch+1, i * len(data), len(trainloader.dataset), 100. * i / len(trainloader), running_loss / 2000))\n",
    "            running_loss = 0.0\n",
    "\n",
    "print('Finished Training')"
   ]
  },
  {
   "cell_type": "code",
   "execution_count": 11,
   "metadata": {},
   "outputs": [],
   "source": [
    "#Save trained model parameters:\n",
    "\n",
    "PATH = './mnist_nn_net.pth'\n",
    "torch.save(net.state_dict(), PATH)"
   ]
  },
  {
   "cell_type": "markdown",
   "metadata": {},
   "source": [
    "## Calculate accuracy on test set:"
   ]
  },
  {
   "cell_type": "code",
   "execution_count": 12,
   "metadata": {
    "tags": []
   },
   "outputs": [
    {
     "output_type": "stream",
     "name": "stdout",
     "text": "Accuracy of the network on the test images: 95 %\n"
    }
   ],
   "source": [
    "#Count correctly classified images of trained data set:\n",
    "\n",
    "correct = 0\n",
    "total = 0\n",
    "with torch.no_grad():\n",
    "    for data in testloader:\n",
    "        \n",
    "        images, labels = data[0].to(device), data[1].to(device)\n",
    "\n",
    "        #do predicts on test set:\n",
    "        outputs = net(images)\n",
    "        _, predicted = torch.max(outputs.data, 1)\n",
    "        #add the number of predicted images to \"total\", so we can keep track of how many images we have classified so far:\n",
    "        total += labels.size(0)\n",
    "        #add how many of the predicted labels are the same as the ground-truth labels:\n",
    "        #(predicted == labels): predicted is tensor with integers, as well as labels; check if all integers are the same\n",
    "        #(predicted == labels).sum(): sum up of how many were the same\n",
    "        #(predicted == labels).sum().item(): give that number as a single value;\n",
    "        #add it to the number of correctly classified instances:\n",
    "        correct += (predicted == labels).sum().item()\n",
    "\n",
    "#Print percentage of correctly classified instances:\n",
    "print('Accuracy of the network on the test images: %d %%' % (\n",
    "    100 * correct / total))\n"
   ]
  },
  {
   "cell_type": "code",
   "execution_count": 13,
   "metadata": {
    "tags": []
   },
   "outputs": [
    {
     "output_type": "stream",
     "name": "stdout",
     "text": "Accuracy of     0 : 98 %\nAccuracy of     1 : 98 %\nAccuracy of     2 : 91 %\nAccuracy of     3 : 93 %\nAccuracy of     4 : 91 %\nAccuracy of     5 : 94 %\nAccuracy of     6 : 97 %\nAccuracy of     7 : 97 %\nAccuracy of     8 : 96 %\nAccuracy of     9 : 94 %\n"
    }
   ],
   "source": [
    "#Classes that performed well vs. classes that did not perform well:\n",
    "\n",
    "#Initialize lists pf ten values of 0.0:\n",
    "class_correct = list(0. for i in range(10))\n",
    "class_total = list(0. for i in range(10))\n",
    "with torch.no_grad():\n",
    "    for data in testloader:\n",
    "        images, labels = data[0].to(device), data[1].to(device)\n",
    "\n",
    "        #do predictions on test set:\n",
    "        outputs = net(images)\n",
    "        _, predicted = torch.max(outputs, 1)\n",
    "        #store correctly predicted classes (where prediction matches label) in \"c\":\n",
    "        c = (predicted == labels)\n",
    "\n",
    "        for i in range(4):\n",
    "            label = labels[i]\n",
    "            #count up how a certain class was predicted (true of false):\n",
    "            class_correct[label] += c[i].item()\n",
    "            #count up how often this class was predicted:\n",
    "            class_total[label] += 1\n",
    "\n",
    "#Print percentage of correctly classifications of each class:\n",
    "for i in range(10):\n",
    "    print('Accuracy of %5s : %2d %%' % (\n",
    "        classes[i], 100 * class_correct[i] / class_total[i]))"
   ]
  },
  {
   "cell_type": "markdown",
   "metadata": {},
   "source": [
    "## Run predictions on test samples\n",
    "\n",
    "Run all cells above up until the Loss function.\n",
    "\n",
    "Run these 4 cells below to sample 4 random images of test set (with ground-truth labels) and run the NN predictions on them:"
   ]
  },
  {
   "cell_type": "code",
   "execution_count": 17,
   "metadata": {},
   "outputs": [
    {
     "output_type": "execute_result",
     "data": {
      "text/plain": "<All keys matched successfully>"
     },
     "metadata": {},
     "execution_count": 17
    }
   ],
   "source": [
    "#Load back model:\n",
    "PATH = './mnist_nn_net.pth'\n",
    "\n",
    "net = Net()\n",
    "net.load_state_dict(torch.load(PATH))"
   ]
  },
  {
   "cell_type": "code",
   "execution_count": 21,
   "metadata": {
    "tags": []
   },
   "outputs": [
    {
     "output_type": "display_data",
     "data": {
      "text/plain": "<Figure size 432x288 with 1 Axes>",
      "image/svg+xml": "<?xml version=\"1.0\" encoding=\"utf-8\" standalone=\"no\"?>\n<!DOCTYPE svg PUBLIC \"-//W3C//DTD SVG 1.1//EN\"\n  \"http://www.w3.org/Graphics/SVG/1.1/DTD/svg11.dtd\">\n<!-- Created with matplotlib (https://matplotlib.org/) -->\n<svg height=\"121.321606pt\" version=\"1.1\" viewBox=\"0 0 374.352357 121.321606\" width=\"374.352357pt\" xmlns=\"http://www.w3.org/2000/svg\" xmlns:xlink=\"http://www.w3.org/1999/xlink\">\n <defs>\n  <style type=\"text/css\">\n*{stroke-linecap:butt;stroke-linejoin:round;}\n  </style>\n </defs>\n <g id=\"figure_1\">\n  <g id=\"patch_1\">\n   <path d=\"M -0 121.321606 \nL 374.352357 121.321606 \nL 374.352357 0 \nL -0 0 \nz\n\" style=\"fill:none;\"/>\n  </g>\n  <g id=\"axes_1\">\n   <g id=\"patch_2\">\n    <path d=\"M 26.925 97.443481 \nL 361.725 97.443481 \nL 361.725 9.627088 \nL 26.925 9.627088 \nz\n\" style=\"fill:#ffffff;\"/>\n   </g>\n   <g clip-path=\"url(#pc0d10f801c)\">\n    <image height=\"88\" id=\"imagef17b852d54\" transform=\"scale(1 -1)translate(0 -88)\" width=\"335\" x=\"26.925\" xlink:href=\"data:image/png;base64,\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\" y=\"-9.443481\"/>\n   </g>\n   <g id=\"matplotlib.axis_1\">\n    <g id=\"xtick_1\">\n     <g id=\"line2d_1\">\n      <defs>\n       <path d=\"M 0 0 \nL 0 3.5 \n\" id=\"md26ce2e816\" style=\"stroke:#000000;stroke-width:0.8;\"/>\n      </defs>\n      <g>\n       <use style=\"stroke:#000000;stroke-width:0.8;\" x=\"28.297131\" xlink:href=\"#md26ce2e816\" y=\"97.443481\"/>\n      </g>\n     </g>\n     <g id=\"text_1\">\n      <!-- 0 -->\n      <defs>\n       <path d=\"M 31.78125 66.40625 \nQ 24.171875 66.40625 20.328125 58.90625 \nQ 16.5 51.421875 16.5 36.375 \nQ 16.5 21.390625 20.328125 13.890625 \nQ 24.171875 6.390625 31.78125 6.390625 \nQ 39.453125 6.390625 43.28125 13.890625 \nQ 47.125 21.390625 47.125 36.375 \nQ 47.125 51.421875 43.28125 58.90625 \nQ 39.453125 66.40625 31.78125 66.40625 \nz\nM 31.78125 74.21875 \nQ 44.046875 74.21875 50.515625 64.515625 \nQ 56.984375 54.828125 56.984375 36.375 \nQ 56.984375 17.96875 50.515625 8.265625 \nQ 44.046875 -1.421875 31.78125 -1.421875 \nQ 19.53125 -1.421875 13.0625 8.265625 \nQ 6.59375 17.96875 6.59375 36.375 \nQ 6.59375 54.828125 13.0625 64.515625 \nQ 19.53125 74.21875 31.78125 74.21875 \nz\n\" id=\"DejaVuSans-48\"/>\n      </defs>\n      <g transform=\"translate(25.115881 112.041919)scale(0.1 -0.1)\">\n       <use xlink:href=\"#DejaVuSans-48\"/>\n      </g>\n     </g>\n    </g>\n    <g id=\"xtick_2\">\n     <g id=\"line2d_2\">\n      <g>\n       <use style=\"stroke:#000000;stroke-width:0.8;\" x=\"83.182377\" xlink:href=\"#md26ce2e816\" y=\"97.443481\"/>\n      </g>\n     </g>\n     <g id=\"text_2\">\n      <!-- 20 -->\n      <defs>\n       <path d=\"M 19.1875 8.296875 \nL 53.609375 8.296875 \nL 53.609375 0 \nL 7.328125 0 \nL 7.328125 8.296875 \nQ 12.9375 14.109375 22.625 23.890625 \nQ 32.328125 33.6875 34.8125 36.53125 \nQ 39.546875 41.84375 41.421875 45.53125 \nQ 43.3125 49.21875 43.3125 52.78125 \nQ 43.3125 58.59375 39.234375 62.25 \nQ 35.15625 65.921875 28.609375 65.921875 \nQ 23.96875 65.921875 18.8125 64.3125 \nQ 13.671875 62.703125 7.8125 59.421875 \nL 7.8125 69.390625 \nQ 13.765625 71.78125 18.9375 73 \nQ 24.125 74.21875 28.421875 74.21875 \nQ 39.75 74.21875 46.484375 68.546875 \nQ 53.21875 62.890625 53.21875 53.421875 \nQ 53.21875 48.921875 51.53125 44.890625 \nQ 49.859375 40.875 45.40625 35.40625 \nQ 44.1875 33.984375 37.640625 27.21875 \nQ 31.109375 20.453125 19.1875 8.296875 \nz\n\" id=\"DejaVuSans-50\"/>\n      </defs>\n      <g transform=\"translate(76.819877 112.041919)scale(0.1 -0.1)\">\n       <use xlink:href=\"#DejaVuSans-50\"/>\n       <use x=\"63.623047\" xlink:href=\"#DejaVuSans-48\"/>\n      </g>\n     </g>\n    </g>\n    <g id=\"xtick_3\">\n     <g id=\"line2d_3\">\n      <g>\n       <use style=\"stroke:#000000;stroke-width:0.8;\" x=\"138.067623\" xlink:href=\"#md26ce2e816\" y=\"97.443481\"/>\n      </g>\n     </g>\n     <g id=\"text_3\">\n      <!-- 40 -->\n      <defs>\n       <path d=\"M 37.796875 64.3125 \nL 12.890625 25.390625 \nL 37.796875 25.390625 \nz\nM 35.203125 72.90625 \nL 47.609375 72.90625 \nL 47.609375 25.390625 \nL 58.015625 25.390625 \nL 58.015625 17.1875 \nL 47.609375 17.1875 \nL 47.609375 0 \nL 37.796875 0 \nL 37.796875 17.1875 \nL 4.890625 17.1875 \nL 4.890625 26.703125 \nz\n\" id=\"DejaVuSans-52\"/>\n      </defs>\n      <g transform=\"translate(131.705123 112.041919)scale(0.1 -0.1)\">\n       <use xlink:href=\"#DejaVuSans-52\"/>\n       <use x=\"63.623047\" xlink:href=\"#DejaVuSans-48\"/>\n      </g>\n     </g>\n    </g>\n    <g id=\"xtick_4\">\n     <g id=\"line2d_4\">\n      <g>\n       <use style=\"stroke:#000000;stroke-width:0.8;\" x=\"192.952869\" xlink:href=\"#md26ce2e816\" y=\"97.443481\"/>\n      </g>\n     </g>\n     <g id=\"text_4\">\n      <!-- 60 -->\n      <defs>\n       <path d=\"M 33.015625 40.375 \nQ 26.375 40.375 22.484375 35.828125 \nQ 18.609375 31.296875 18.609375 23.390625 \nQ 18.609375 15.53125 22.484375 10.953125 \nQ 26.375 6.390625 33.015625 6.390625 \nQ 39.65625 6.390625 43.53125 10.953125 \nQ 47.40625 15.53125 47.40625 23.390625 \nQ 47.40625 31.296875 43.53125 35.828125 \nQ 39.65625 40.375 33.015625 40.375 \nz\nM 52.59375 71.296875 \nL 52.59375 62.3125 \nQ 48.875 64.0625 45.09375 64.984375 \nQ 41.3125 65.921875 37.59375 65.921875 \nQ 27.828125 65.921875 22.671875 59.328125 \nQ 17.53125 52.734375 16.796875 39.40625 \nQ 19.671875 43.65625 24.015625 45.921875 \nQ 28.375 48.1875 33.59375 48.1875 \nQ 44.578125 48.1875 50.953125 41.515625 \nQ 57.328125 34.859375 57.328125 23.390625 \nQ 57.328125 12.15625 50.6875 5.359375 \nQ 44.046875 -1.421875 33.015625 -1.421875 \nQ 20.359375 -1.421875 13.671875 8.265625 \nQ 6.984375 17.96875 6.984375 36.375 \nQ 6.984375 53.65625 15.1875 63.9375 \nQ 23.390625 74.21875 37.203125 74.21875 \nQ 40.921875 74.21875 44.703125 73.484375 \nQ 48.484375 72.75 52.59375 71.296875 \nz\n\" id=\"DejaVuSans-54\"/>\n      </defs>\n      <g transform=\"translate(186.590369 112.041919)scale(0.1 -0.1)\">\n       <use xlink:href=\"#DejaVuSans-54\"/>\n       <use x=\"63.623047\" xlink:href=\"#DejaVuSans-48\"/>\n      </g>\n     </g>\n    </g>\n    <g id=\"xtick_5\">\n     <g id=\"line2d_5\">\n      <g>\n       <use style=\"stroke:#000000;stroke-width:0.8;\" x=\"247.838115\" xlink:href=\"#md26ce2e816\" y=\"97.443481\"/>\n      </g>\n     </g>\n     <g id=\"text_5\">\n      <!-- 80 -->\n      <defs>\n       <path d=\"M 31.78125 34.625 \nQ 24.75 34.625 20.71875 30.859375 \nQ 16.703125 27.09375 16.703125 20.515625 \nQ 16.703125 13.921875 20.71875 10.15625 \nQ 24.75 6.390625 31.78125 6.390625 \nQ 38.8125 6.390625 42.859375 10.171875 \nQ 46.921875 13.96875 46.921875 20.515625 \nQ 46.921875 27.09375 42.890625 30.859375 \nQ 38.875 34.625 31.78125 34.625 \nz\nM 21.921875 38.8125 \nQ 15.578125 40.375 12.03125 44.71875 \nQ 8.5 49.078125 8.5 55.328125 \nQ 8.5 64.0625 14.71875 69.140625 \nQ 20.953125 74.21875 31.78125 74.21875 \nQ 42.671875 74.21875 48.875 69.140625 \nQ 55.078125 64.0625 55.078125 55.328125 \nQ 55.078125 49.078125 51.53125 44.71875 \nQ 48 40.375 41.703125 38.8125 \nQ 48.828125 37.15625 52.796875 32.3125 \nQ 56.78125 27.484375 56.78125 20.515625 \nQ 56.78125 9.90625 50.3125 4.234375 \nQ 43.84375 -1.421875 31.78125 -1.421875 \nQ 19.734375 -1.421875 13.25 4.234375 \nQ 6.78125 9.90625 6.78125 20.515625 \nQ 6.78125 27.484375 10.78125 32.3125 \nQ 14.796875 37.15625 21.921875 38.8125 \nz\nM 18.3125 54.390625 \nQ 18.3125 48.734375 21.84375 45.5625 \nQ 25.390625 42.390625 31.78125 42.390625 \nQ 38.140625 42.390625 41.71875 45.5625 \nQ 45.3125 48.734375 45.3125 54.390625 \nQ 45.3125 60.0625 41.71875 63.234375 \nQ 38.140625 66.40625 31.78125 66.40625 \nQ 25.390625 66.40625 21.84375 63.234375 \nQ 18.3125 60.0625 18.3125 54.390625 \nz\n\" id=\"DejaVuSans-56\"/>\n      </defs>\n      <g transform=\"translate(241.475615 112.041919)scale(0.1 -0.1)\">\n       <use xlink:href=\"#DejaVuSans-56\"/>\n       <use x=\"63.623047\" xlink:href=\"#DejaVuSans-48\"/>\n      </g>\n     </g>\n    </g>\n    <g id=\"xtick_6\">\n     <g id=\"line2d_6\">\n      <g>\n       <use style=\"stroke:#000000;stroke-width:0.8;\" x=\"302.723361\" xlink:href=\"#md26ce2e816\" y=\"97.443481\"/>\n      </g>\n     </g>\n     <g id=\"text_6\">\n      <!-- 100 -->\n      <defs>\n       <path d=\"M 12.40625 8.296875 \nL 28.515625 8.296875 \nL 28.515625 63.921875 \nL 10.984375 60.40625 \nL 10.984375 69.390625 \nL 28.421875 72.90625 \nL 38.28125 72.90625 \nL 38.28125 8.296875 \nL 54.390625 8.296875 \nL 54.390625 0 \nL 12.40625 0 \nz\n\" id=\"DejaVuSans-49\"/>\n      </defs>\n      <g transform=\"translate(293.179611 112.041919)scale(0.1 -0.1)\">\n       <use xlink:href=\"#DejaVuSans-49\"/>\n       <use x=\"63.623047\" xlink:href=\"#DejaVuSans-48\"/>\n       <use x=\"127.246094\" xlink:href=\"#DejaVuSans-48\"/>\n      </g>\n     </g>\n    </g>\n    <g id=\"xtick_7\">\n     <g id=\"line2d_7\">\n      <g>\n       <use style=\"stroke:#000000;stroke-width:0.8;\" x=\"357.608607\" xlink:href=\"#md26ce2e816\" y=\"97.443481\"/>\n      </g>\n     </g>\n     <g id=\"text_7\">\n      <!-- 120 -->\n      <g transform=\"translate(348.064857 112.041919)scale(0.1 -0.1)\">\n       <use xlink:href=\"#DejaVuSans-49\"/>\n       <use x=\"63.623047\" xlink:href=\"#DejaVuSans-50\"/>\n       <use x=\"127.246094\" xlink:href=\"#DejaVuSans-48\"/>\n      </g>\n     </g>\n    </g>\n   </g>\n   <g id=\"matplotlib.axis_2\">\n    <g id=\"ytick_1\">\n     <g id=\"line2d_8\">\n      <defs>\n       <path d=\"M 0 0 \nL -3.5 0 \n\" id=\"mca34151b7a\" style=\"stroke:#000000;stroke-width:0.8;\"/>\n      </defs>\n      <g>\n       <use style=\"stroke:#000000;stroke-width:0.8;\" x=\"26.925\" xlink:href=\"#mca34151b7a\" y=\"10.999219\"/>\n      </g>\n     </g>\n     <g id=\"text_8\">\n      <!-- 0 -->\n      <g transform=\"translate(13.5625 14.798437)scale(0.1 -0.1)\">\n       <use xlink:href=\"#DejaVuSans-48\"/>\n      </g>\n     </g>\n    </g>\n    <g id=\"ytick_2\">\n     <g id=\"line2d_9\">\n      <g>\n       <use style=\"stroke:#000000;stroke-width:0.8;\" x=\"26.925\" xlink:href=\"#mca34151b7a\" y=\"38.441842\"/>\n      </g>\n     </g>\n     <g id=\"text_9\">\n      <!-- 10 -->\n      <g transform=\"translate(7.2 42.24106)scale(0.1 -0.1)\">\n       <use xlink:href=\"#DejaVuSans-49\"/>\n       <use x=\"63.623047\" xlink:href=\"#DejaVuSans-48\"/>\n      </g>\n     </g>\n    </g>\n    <g id=\"ytick_3\">\n     <g id=\"line2d_10\">\n      <g>\n       <use style=\"stroke:#000000;stroke-width:0.8;\" x=\"26.925\" xlink:href=\"#mca34151b7a\" y=\"65.884465\"/>\n      </g>\n     </g>\n     <g id=\"text_10\">\n      <!-- 20 -->\n      <g transform=\"translate(7.2 69.683683)scale(0.1 -0.1)\">\n       <use xlink:href=\"#DejaVuSans-50\"/>\n       <use x=\"63.623047\" xlink:href=\"#DejaVuSans-48\"/>\n      </g>\n     </g>\n    </g>\n    <g id=\"ytick_4\">\n     <g id=\"line2d_11\">\n      <g>\n       <use style=\"stroke:#000000;stroke-width:0.8;\" x=\"26.925\" xlink:href=\"#mca34151b7a\" y=\"93.327088\"/>\n      </g>\n     </g>\n     <g id=\"text_11\">\n      <!-- 30 -->\n      <defs>\n       <path d=\"M 40.578125 39.3125 \nQ 47.65625 37.796875 51.625 33 \nQ 55.609375 28.21875 55.609375 21.1875 \nQ 55.609375 10.40625 48.1875 4.484375 \nQ 40.765625 -1.421875 27.09375 -1.421875 \nQ 22.515625 -1.421875 17.65625 -0.515625 \nQ 12.796875 0.390625 7.625 2.203125 \nL 7.625 11.71875 \nQ 11.71875 9.328125 16.59375 8.109375 \nQ 21.484375 6.890625 26.8125 6.890625 \nQ 36.078125 6.890625 40.9375 10.546875 \nQ 45.796875 14.203125 45.796875 21.1875 \nQ 45.796875 27.640625 41.28125 31.265625 \nQ 36.765625 34.90625 28.71875 34.90625 \nL 20.21875 34.90625 \nL 20.21875 43.015625 \nL 29.109375 43.015625 \nQ 36.375 43.015625 40.234375 45.921875 \nQ 44.09375 48.828125 44.09375 54.296875 \nQ 44.09375 59.90625 40.109375 62.90625 \nQ 36.140625 65.921875 28.71875 65.921875 \nQ 24.65625 65.921875 20.015625 65.03125 \nQ 15.375 64.15625 9.8125 62.3125 \nL 9.8125 71.09375 \nQ 15.4375 72.65625 20.34375 73.4375 \nQ 25.25 74.21875 29.59375 74.21875 \nQ 40.828125 74.21875 47.359375 69.109375 \nQ 53.90625 64.015625 53.90625 55.328125 \nQ 53.90625 49.265625 50.4375 45.09375 \nQ 46.96875 40.921875 40.578125 39.3125 \nz\n\" id=\"DejaVuSans-51\"/>\n      </defs>\n      <g transform=\"translate(7.2 97.126306)scale(0.1 -0.1)\">\n       <use xlink:href=\"#DejaVuSans-51\"/>\n       <use x=\"63.623047\" xlink:href=\"#DejaVuSans-48\"/>\n      </g>\n     </g>\n    </g>\n   </g>\n   <g id=\"patch_3\">\n    <path d=\"M 26.925 97.443481 \nL 26.925 9.627088 \n\" style=\"fill:none;stroke:#000000;stroke-linecap:square;stroke-linejoin:miter;stroke-width:0.8;\"/>\n   </g>\n   <g id=\"patch_4\">\n    <path d=\"M 361.725 97.443481 \nL 361.725 9.627088 \n\" style=\"fill:none;stroke:#000000;stroke-linecap:square;stroke-linejoin:miter;stroke-width:0.8;\"/>\n   </g>\n   <g id=\"patch_5\">\n    <path d=\"M 26.925 97.443481 \nL 361.725 97.443481 \n\" style=\"fill:none;stroke:#000000;stroke-linecap:square;stroke-linejoin:miter;stroke-width:0.8;\"/>\n   </g>\n   <g id=\"patch_6\">\n    <path d=\"M 26.925 9.627088 \nL 361.725 9.627088 \n\" style=\"fill:none;stroke:#000000;stroke-linecap:square;stroke-linejoin:miter;stroke-width:0.8;\"/>\n   </g>\n  </g>\n </g>\n <defs>\n  <clipPath id=\"pc0d10f801c\">\n   <rect height=\"87.816393\" width=\"334.8\" x=\"26.925\" y=\"9.627088\"/>\n  </clipPath>\n </defs>\n</svg>\n",
      "image/png": "[encoded data removed]"
     },
     "metadata": {
      "needs_background": "light"
     }
    },
    {
     "output_type": "stream",
     "name": "stdout",
     "text": "GroundTruth:      2     3     1     6\n"
    }
   ],
   "source": [
    "#Fetch random batch image of test set:\n",
    "\n",
    "dataiter = iter(testloader)\n",
    "images, labels = dataiter.next()\n",
    "\n",
    "#Show images:\n",
    "imshow(torchvision.utils.make_grid(images))\n",
    "print('GroundTruth: ', ' '.join('%5s' % classes[labels[j]] for j in range(4)))"
   ]
  },
  {
   "cell_type": "code",
   "execution_count": 22,
   "metadata": {},
   "outputs": [],
   "source": [
    "#Run predictions:\n",
    "\n",
    "#this returns one-hot-encoding:\n",
    "outputs = net(images)"
   ]
  },
  {
   "cell_type": "code",
   "execution_count": 23,
   "metadata": {
    "tags": []
   },
   "outputs": [
    {
     "output_type": "stream",
     "name": "stdout",
     "text": "Predicted:      2     3     1     5\n"
    }
   ],
   "source": [
    "#max(outputs,1) will give the indices of the max values of the one-hot-encoding (our predictions), and also a gradient object that we ignore by storing in \"_\":\n",
    "_ , predicted = torch.max(outputs, 1)\n",
    "\n",
    "print('Predicted: ', ' '.join('%5s' % classes[predicted[j]] for j in range(4)))"
   ]
  }
 ],
 "metadata": {
  "language_info": {
   "codemirror_mode": {
    "name": "ipython",
    "version": 3
   },
   "file_extension": ".py",
   "mimetype": "text/x-python",
   "name": "python",
   "nbconvert_exporter": "python",
   "pygments_lexer": "ipython3",
   "version": "3.8.3-final"
  },
  "orig_nbformat": 2,
  "kernelspec": {
   "name": "python38364bitenvdlcondaac906d774a66413a80b27a36627fa0d1",
   "display_name": "Python 3.8.3 64-bit ('env_dl': conda)"
  }
 },
 "nbformat": 4,
 "nbformat_minor": 2
}