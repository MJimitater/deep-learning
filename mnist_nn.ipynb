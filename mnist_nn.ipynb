{
 "cells": [
  {
   "cell_type": "markdown",
   "metadata": {},
   "source": [
    "## MNIST data set download/import"
   ]
  },
  {
   "cell_type": "code",
   "execution_count": 1,
   "metadata": {
    "tags": []
   },
   "outputs": [
    {
     "output_type": "stream",
     "name": "stdout",
     "text": "cuda:0\n"
    }
   ],
   "source": [
    "import torch\n",
    "import torchvision\n",
    "import torchvision.transforms as transforms\n",
    "import numpy as np\n",
    "\n",
    "\n",
    "#Select NVIDIA if available, otherwise cpu:\n",
    "#device = torch.device(\"cuda:0\" if torch.cuda.is_available() else \"cpu\")\n",
    "\n",
    "device = torch.device(\"cuda:0\")\n",
    "#device = torch.device(\"cpu\")\n",
    "\n",
    "print(device)"
   ]
  },
  {
   "cell_type": "code",
   "execution_count": 2,
   "metadata": {},
   "outputs": [],
   "source": [
    "#Common image transformations:\n",
    "transform = transforms.Compose(\n",
    "    #convert PIL image to tensor array:\n",
    "    [transforms.ToTensor(),\n",
    "    #each of the three pixel maps is centered to have mean 0.5 and std 0.5:\n",
    "     transforms.Normalize((0.5,), (0.5,))])\n",
    "\n",
    "#Download MNIST data:\n",
    "#root: where data to be stored, if not exists already\n",
    "#train=True: data is used for training (otherwise test set is created)\n",
    "#download=True: downloads data, if not exists in root already\n",
    "#transform: applies transformations to image\n",
    "trainset = torchvision.datasets.MNIST(root='./data', train=True, download=True, transform=transform)\n",
    "\n",
    "#Dataloader makes dataset an iterable object\n",
    "#batch_size: how many samples per batch to load\n",
    "#shuffle: have data reshuffled at every epoch\n",
    "#num_workers: how many subprocesses to use for data loading (0 means data is loaded into main process)\n",
    "trainloader = torch.utils.data.DataLoader(trainset, batch_size=4, shuffle=True, num_workers=2)\n",
    "\n",
    "#Load test data set:\n",
    "testset = torchvision.datasets.MNIST(root='./data', train=False,\n",
    "                                       download=True, transform=transform)\n",
    "#Dataloader for test set:\n",
    "testloader = torch.utils.data.DataLoader(testset, batch_size=4,\n",
    "                                         shuffle=True, num_workers=2)\n",
    "\n",
    "#Set classes:\n",
    "#class_label[0]=0, ..., class_label[9]=9:\n",
    "classes = (0,1,2,3,4,5,6,7,8,9)"
   ]
  },
  {
   "cell_type": "markdown",
   "metadata": {},
   "source": [
    "Exploring data set:"
   ]
  },
  {
   "cell_type": "code",
   "execution_count": 3,
   "metadata": {},
   "outputs": [
    {
     "output_type": "execute_result",
     "data": {
      "text/plain": "torch.Size([60000, 28, 28])"
     },
     "metadata": {},
     "execution_count": 3
    }
   ],
   "source": [
    "trainloader.dataset.data.shape"
   ]
  },
  {
   "cell_type": "code",
   "execution_count": 4,
   "metadata": {},
   "outputs": [
    {
     "output_type": "execute_result",
     "data": {
      "text/plain": "['0 - zero',\n '1 - one',\n '2 - two',\n '3 - three',\n '4 - four',\n '5 - five',\n '6 - six',\n '7 - seven',\n '8 - eight',\n '9 - nine']"
     },
     "metadata": {},
     "execution_count": 4
    }
   ],
   "source": [
    "trainset.classes"
   ]
  },
  {
   "cell_type": "markdown",
   "metadata": {},
   "source": [
    "Exploring test set:"
   ]
  },
  {
   "cell_type": "code",
   "execution_count": 5,
   "metadata": {},
   "outputs": [
    {
     "output_type": "execute_result",
     "data": {
      "text/plain": "torch.Size([10000, 28, 28])"
     },
     "metadata": {},
     "execution_count": 5
    }
   ],
   "source": [
    "testloader.dataset.data.shape"
   ]
  },
  {
   "cell_type": "code",
   "execution_count": 6,
   "metadata": {
    "tags": []
   },
   "outputs": [
    {
     "output_type": "stream",
     "name": "stdout",
     "text": "Class 0 has 5923 training images and 980 test images\nClass 1 has 6742 training images and 1135 test images\nClass 2 has 5958 training images and 1032 test images\nClass 3 has 6131 training images and 1010 test images\nClass 4 has 5842 training images and 982 test images\nClass 5 has 5421 training images and 892 test images\nClass 6 has 5918 training images and 958 test images\nClass 7 has 6265 training images and 1028 test images\nClass 8 has 5851 training images and 974 test images\nClass 9 has 5949 training images and 1009 test images\n"
    }
   ],
   "source": [
    "for i in np.unique(np.asarray(trainloader.dataset.targets)):\n",
    "    print(\"Class {0} has {1} training images and {2} test images\".format(i, (trainloader.dataset.targets == i).sum(), (testloader.dataset.targets == i).sum()))"
   ]
  },
  {
   "cell_type": "markdown",
   "metadata": {},
   "source": [
    "## Sample example image batch"
   ]
  },
  {
   "cell_type": "code",
   "execution_count": 7,
   "metadata": {
    "tags": []
   },
   "outputs": [
    {
     "output_type": "display_data",
     "data": {
      "text/plain": "<Figure size 432x288 with 1 Axes>",
      "image/svg+xml": "<?xml version=\"1.0\" encoding=\"utf-8\" standalone=\"no\"?>\n<!DOCTYPE svg PUBLIC \"-//W3C//DTD SVG 1.1//EN\"\n  \"http://www.w3.org/Graphics/SVG/1.1/DTD/svg11.dtd\">\n<!-- Created with matplotlib (https://matplotlib.org/) -->\n<svg height=\"121.321606pt\" version=\"1.1\" viewBox=\"0 0 374.352357 121.321606\" width=\"374.352357pt\" xmlns=\"http://www.w3.org/2000/svg\" xmlns:xlink=\"http://www.w3.org/1999/xlink\">\n <defs>\n  <style type=\"text/css\">\n*{stroke-linecap:butt;stroke-linejoin:round;}\n  </style>\n </defs>\n <g id=\"figure_1\">\n  <g id=\"patch_1\">\n   <path d=\"M -0 121.321606 \nL 374.352357 121.321606 \nL 374.352357 0 \nL -0 0 \nz\n\" style=\"fill:none;\"/>\n  </g>\n  <g id=\"axes_1\">\n   <g id=\"patch_2\">\n    <path d=\"M 26.925 97.443481 \nL 361.725 97.443481 \nL 361.725 9.627088 \nL 26.925 9.627088 \nz\n\" style=\"fill:#ffffff;\"/>\n   </g>\n   <g clip-path=\"url(#pa88ffe524c)\">\n    <image height=\"88\" id=\"imagee80ce51b5e\" transform=\"scale(1 -1)translate(0 -88)\" width=\"335\" x=\"26.925\" xlink:href=\"data:image/png;base64,\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\" y=\"-9.443481\"/>\n   </g>\n   <g id=\"matplotlib.axis_1\">\n    <g id=\"xtick_1\">\n     <g id=\"line2d_1\">\n      <defs>\n       <path d=\"M 0 0 \nL 0 3.5 \n\" id=\"m44bf08711c\" style=\"stroke:#000000;stroke-width:0.8;\"/>\n      </defs>\n      <g>\n       <use style=\"stroke:#000000;stroke-width:0.8;\" x=\"28.297131\" xlink:href=\"#m44bf08711c\" y=\"97.443481\"/>\n      </g>\n     </g>\n     <g id=\"text_1\">\n      <!-- 0 -->\n      <defs>\n       <path d=\"M 31.78125 66.40625 \nQ 24.171875 66.40625 20.328125 58.90625 \nQ 16.5 51.421875 16.5 36.375 \nQ 16.5 21.390625 20.328125 13.890625 \nQ 24.171875 6.390625 31.78125 6.390625 \nQ 39.453125 6.390625 43.28125 13.890625 \nQ 47.125 21.390625 47.125 36.375 \nQ 47.125 51.421875 43.28125 58.90625 \nQ 39.453125 66.40625 31.78125 66.40625 \nz\nM 31.78125 74.21875 \nQ 44.046875 74.21875 50.515625 64.515625 \nQ 56.984375 54.828125 56.984375 36.375 \nQ 56.984375 17.96875 50.515625 8.265625 \nQ 44.046875 -1.421875 31.78125 -1.421875 \nQ 19.53125 -1.421875 13.0625 8.265625 \nQ 6.59375 17.96875 6.59375 36.375 \nQ 6.59375 54.828125 13.0625 64.515625 \nQ 19.53125 74.21875 31.78125 74.21875 \nz\n\" id=\"DejaVuSans-48\"/>\n      </defs>\n      <g transform=\"translate(25.115881 112.041919)scale(0.1 -0.1)\">\n       <use xlink:href=\"#DejaVuSans-48\"/>\n      </g>\n     </g>\n    </g>\n    <g id=\"xtick_2\">\n     <g id=\"line2d_2\">\n      <g>\n       <use style=\"stroke:#000000;stroke-width:0.8;\" x=\"83.182377\" xlink:href=\"#m44bf08711c\" y=\"97.443481\"/>\n      </g>\n     </g>\n     <g id=\"text_2\">\n      <!-- 20 -->\n      <defs>\n       <path d=\"M 19.1875 8.296875 \nL 53.609375 8.296875 \nL 53.609375 0 \nL 7.328125 0 \nL 7.328125 8.296875 \nQ 12.9375 14.109375 22.625 23.890625 \nQ 32.328125 33.6875 34.8125 36.53125 \nQ 39.546875 41.84375 41.421875 45.53125 \nQ 43.3125 49.21875 43.3125 52.78125 \nQ 43.3125 58.59375 39.234375 62.25 \nQ 35.15625 65.921875 28.609375 65.921875 \nQ 23.96875 65.921875 18.8125 64.3125 \nQ 13.671875 62.703125 7.8125 59.421875 \nL 7.8125 69.390625 \nQ 13.765625 71.78125 18.9375 73 \nQ 24.125 74.21875 28.421875 74.21875 \nQ 39.75 74.21875 46.484375 68.546875 \nQ 53.21875 62.890625 53.21875 53.421875 \nQ 53.21875 48.921875 51.53125 44.890625 \nQ 49.859375 40.875 45.40625 35.40625 \nQ 44.1875 33.984375 37.640625 27.21875 \nQ 31.109375 20.453125 19.1875 8.296875 \nz\n\" id=\"DejaVuSans-50\"/>\n      </defs>\n      <g transform=\"translate(76.819877 112.041919)scale(0.1 -0.1)\">\n       <use xlink:href=\"#DejaVuSans-50\"/>\n       <use x=\"63.623047\" xlink:href=\"#DejaVuSans-48\"/>\n      </g>\n     </g>\n    </g>\n    <g id=\"xtick_3\">\n     <g id=\"line2d_3\">\n      <g>\n       <use style=\"stroke:#000000;stroke-width:0.8;\" x=\"138.067623\" xlink:href=\"#m44bf08711c\" y=\"97.443481\"/>\n      </g>\n     </g>\n     <g id=\"text_3\">\n      <!-- 40 -->\n      <defs>\n       <path d=\"M 37.796875 64.3125 \nL 12.890625 25.390625 \nL 37.796875 25.390625 \nz\nM 35.203125 72.90625 \nL 47.609375 72.90625 \nL 47.609375 25.390625 \nL 58.015625 25.390625 \nL 58.015625 17.1875 \nL 47.609375 17.1875 \nL 47.609375 0 \nL 37.796875 0 \nL 37.796875 17.1875 \nL 4.890625 17.1875 \nL 4.890625 26.703125 \nz\n\" id=\"DejaVuSans-52\"/>\n      </defs>\n      <g transform=\"translate(131.705123 112.041919)scale(0.1 -0.1)\">\n       <use xlink:href=\"#DejaVuSans-52\"/>\n       <use x=\"63.623047\" xlink:href=\"#DejaVuSans-48\"/>\n      </g>\n     </g>\n    </g>\n    <g id=\"xtick_4\">\n     <g id=\"line2d_4\">\n      <g>\n       <use style=\"stroke:#000000;stroke-width:0.8;\" x=\"192.952869\" xlink:href=\"#m44bf08711c\" y=\"97.443481\"/>\n      </g>\n     </g>\n     <g id=\"text_4\">\n      <!-- 60 -->\n      <defs>\n       <path d=\"M 33.015625 40.375 \nQ 26.375 40.375 22.484375 35.828125 \nQ 18.609375 31.296875 18.609375 23.390625 \nQ 18.609375 15.53125 22.484375 10.953125 \nQ 26.375 6.390625 33.015625 6.390625 \nQ 39.65625 6.390625 43.53125 10.953125 \nQ 47.40625 15.53125 47.40625 23.390625 \nQ 47.40625 31.296875 43.53125 35.828125 \nQ 39.65625 40.375 33.015625 40.375 \nz\nM 52.59375 71.296875 \nL 52.59375 62.3125 \nQ 48.875 64.0625 45.09375 64.984375 \nQ 41.3125 65.921875 37.59375 65.921875 \nQ 27.828125 65.921875 22.671875 59.328125 \nQ 17.53125 52.734375 16.796875 39.40625 \nQ 19.671875 43.65625 24.015625 45.921875 \nQ 28.375 48.1875 33.59375 48.1875 \nQ 44.578125 48.1875 50.953125 41.515625 \nQ 57.328125 34.859375 57.328125 23.390625 \nQ 57.328125 12.15625 50.6875 5.359375 \nQ 44.046875 -1.421875 33.015625 -1.421875 \nQ 20.359375 -1.421875 13.671875 8.265625 \nQ 6.984375 17.96875 6.984375 36.375 \nQ 6.984375 53.65625 15.1875 63.9375 \nQ 23.390625 74.21875 37.203125 74.21875 \nQ 40.921875 74.21875 44.703125 73.484375 \nQ 48.484375 72.75 52.59375 71.296875 \nz\n\" id=\"DejaVuSans-54\"/>\n      </defs>\n      <g transform=\"translate(186.590369 112.041919)scale(0.1 -0.1)\">\n       <use xlink:href=\"#DejaVuSans-54\"/>\n       <use x=\"63.623047\" xlink:href=\"#DejaVuSans-48\"/>\n      </g>\n     </g>\n    </g>\n    <g id=\"xtick_5\">\n     <g id=\"line2d_5\">\n      <g>\n       <use style=\"stroke:#000000;stroke-width:0.8;\" x=\"247.838115\" xlink:href=\"#m44bf08711c\" y=\"97.443481\"/>\n      </g>\n     </g>\n     <g id=\"text_5\">\n      <!-- 80 -->\n      <defs>\n       <path d=\"M 31.78125 34.625 \nQ 24.75 34.625 20.71875 30.859375 \nQ 16.703125 27.09375 16.703125 20.515625 \nQ 16.703125 13.921875 20.71875 10.15625 \nQ 24.75 6.390625 31.78125 6.390625 \nQ 38.8125 6.390625 42.859375 10.171875 \nQ 46.921875 13.96875 46.921875 20.515625 \nQ 46.921875 27.09375 42.890625 30.859375 \nQ 38.875 34.625 31.78125 34.625 \nz\nM 21.921875 38.8125 \nQ 15.578125 40.375 12.03125 44.71875 \nQ 8.5 49.078125 8.5 55.328125 \nQ 8.5 64.0625 14.71875 69.140625 \nQ 20.953125 74.21875 31.78125 74.21875 \nQ 42.671875 74.21875 48.875 69.140625 \nQ 55.078125 64.0625 55.078125 55.328125 \nQ 55.078125 49.078125 51.53125 44.71875 \nQ 48 40.375 41.703125 38.8125 \nQ 48.828125 37.15625 52.796875 32.3125 \nQ 56.78125 27.484375 56.78125 20.515625 \nQ 56.78125 9.90625 50.3125 4.234375 \nQ 43.84375 -1.421875 31.78125 -1.421875 \nQ 19.734375 -1.421875 13.25 4.234375 \nQ 6.78125 9.90625 6.78125 20.515625 \nQ 6.78125 27.484375 10.78125 32.3125 \nQ 14.796875 37.15625 21.921875 38.8125 \nz\nM 18.3125 54.390625 \nQ 18.3125 48.734375 21.84375 45.5625 \nQ 25.390625 42.390625 31.78125 42.390625 \nQ 38.140625 42.390625 41.71875 45.5625 \nQ 45.3125 48.734375 45.3125 54.390625 \nQ 45.3125 60.0625 41.71875 63.234375 \nQ 38.140625 66.40625 31.78125 66.40625 \nQ 25.390625 66.40625 21.84375 63.234375 \nQ 18.3125 60.0625 18.3125 54.390625 \nz\n\" id=\"DejaVuSans-56\"/>\n      </defs>\n      <g transform=\"translate(241.475615 112.041919)scale(0.1 -0.1)\">\n       <use xlink:href=\"#DejaVuSans-56\"/>\n       <use x=\"63.623047\" xlink:href=\"#DejaVuSans-48\"/>\n      </g>\n     </g>\n    </g>\n    <g id=\"xtick_6\">\n     <g id=\"line2d_6\">\n      <g>\n       <use style=\"stroke:#000000;stroke-width:0.8;\" x=\"302.723361\" xlink:href=\"#m44bf08711c\" y=\"97.443481\"/>\n      </g>\n     </g>\n     <g id=\"text_6\">\n      <!-- 100 -->\n      <defs>\n       <path d=\"M 12.40625 8.296875 \nL 28.515625 8.296875 \nL 28.515625 63.921875 \nL 10.984375 60.40625 \nL 10.984375 69.390625 \nL 28.421875 72.90625 \nL 38.28125 72.90625 \nL 38.28125 8.296875 \nL 54.390625 8.296875 \nL 54.390625 0 \nL 12.40625 0 \nz\n\" id=\"DejaVuSans-49\"/>\n      </defs>\n      <g transform=\"translate(293.179611 112.041919)scale(0.1 -0.1)\">\n       <use xlink:href=\"#DejaVuSans-49\"/>\n       <use x=\"63.623047\" xlink:href=\"#DejaVuSans-48\"/>\n       <use x=\"127.246094\" xlink:href=\"#DejaVuSans-48\"/>\n      </g>\n     </g>\n    </g>\n    <g id=\"xtick_7\">\n     <g id=\"line2d_7\">\n      <g>\n       <use style=\"stroke:#000000;stroke-width:0.8;\" x=\"357.608607\" xlink:href=\"#m44bf08711c\" y=\"97.443481\"/>\n      </g>\n     </g>\n     <g id=\"text_7\">\n      <!-- 120 -->\n      <g transform=\"translate(348.064857 112.041919)scale(0.1 -0.1)\">\n       <use xlink:href=\"#DejaVuSans-49\"/>\n       <use x=\"63.623047\" xlink:href=\"#DejaVuSans-50\"/>\n       <use x=\"127.246094\" xlink:href=\"#DejaVuSans-48\"/>\n      </g>\n     </g>\n    </g>\n   </g>\n   <g id=\"matplotlib.axis_2\">\n    <g id=\"ytick_1\">\n     <g id=\"line2d_8\">\n      <defs>\n       <path d=\"M 0 0 \nL -3.5 0 \n\" id=\"mbb38e2ef8f\" style=\"stroke:#000000;stroke-width:0.8;\"/>\n      </defs>\n      <g>\n       <use style=\"stroke:#000000;stroke-width:0.8;\" x=\"26.925\" xlink:href=\"#mbb38e2ef8f\" y=\"10.999219\"/>\n      </g>\n     </g>\n     <g id=\"text_8\">\n      <!-- 0 -->\n      <g transform=\"translate(13.5625 14.798437)scale(0.1 -0.1)\">\n       <use xlink:href=\"#DejaVuSans-48\"/>\n      </g>\n     </g>\n    </g>\n    <g id=\"ytick_2\">\n     <g id=\"line2d_9\">\n      <g>\n       <use style=\"stroke:#000000;stroke-width:0.8;\" x=\"26.925\" xlink:href=\"#mbb38e2ef8f\" y=\"38.441842\"/>\n      </g>\n     </g>\n     <g id=\"text_9\">\n      <!-- 10 -->\n      <g transform=\"translate(7.2 42.24106)scale(0.1 -0.1)\">\n       <use xlink:href=\"#DejaVuSans-49\"/>\n       <use x=\"63.623047\" xlink:href=\"#DejaVuSans-48\"/>\n      </g>\n     </g>\n    </g>\n    <g id=\"ytick_3\">\n     <g id=\"line2d_10\">\n      <g>\n       <use style=\"stroke:#000000;stroke-width:0.8;\" x=\"26.925\" xlink:href=\"#mbb38e2ef8f\" y=\"65.884465\"/>\n      </g>\n     </g>\n     <g id=\"text_10\">\n      <!-- 20 -->\n      <g transform=\"translate(7.2 69.683683)scale(0.1 -0.1)\">\n       <use xlink:href=\"#DejaVuSans-50\"/>\n       <use x=\"63.623047\" xlink:href=\"#DejaVuSans-48\"/>\n      </g>\n     </g>\n    </g>\n    <g id=\"ytick_4\">\n     <g id=\"line2d_11\">\n      <g>\n       <use style=\"stroke:#000000;stroke-width:0.8;\" x=\"26.925\" xlink:href=\"#mbb38e2ef8f\" y=\"93.327088\"/>\n      </g>\n     </g>\n     <g id=\"text_11\">\n      <!-- 30 -->\n      <defs>\n       <path d=\"M 40.578125 39.3125 \nQ 47.65625 37.796875 51.625 33 \nQ 55.609375 28.21875 55.609375 21.1875 \nQ 55.609375 10.40625 48.1875 4.484375 \nQ 40.765625 -1.421875 27.09375 -1.421875 \nQ 22.515625 -1.421875 17.65625 -0.515625 \nQ 12.796875 0.390625 7.625 2.203125 \nL 7.625 11.71875 \nQ 11.71875 9.328125 16.59375 8.109375 \nQ 21.484375 6.890625 26.8125 6.890625 \nQ 36.078125 6.890625 40.9375 10.546875 \nQ 45.796875 14.203125 45.796875 21.1875 \nQ 45.796875 27.640625 41.28125 31.265625 \nQ 36.765625 34.90625 28.71875 34.90625 \nL 20.21875 34.90625 \nL 20.21875 43.015625 \nL 29.109375 43.015625 \nQ 36.375 43.015625 40.234375 45.921875 \nQ 44.09375 48.828125 44.09375 54.296875 \nQ 44.09375 59.90625 40.109375 62.90625 \nQ 36.140625 65.921875 28.71875 65.921875 \nQ 24.65625 65.921875 20.015625 65.03125 \nQ 15.375 64.15625 9.8125 62.3125 \nL 9.8125 71.09375 \nQ 15.4375 72.65625 20.34375 73.4375 \nQ 25.25 74.21875 29.59375 74.21875 \nQ 40.828125 74.21875 47.359375 69.109375 \nQ 53.90625 64.015625 53.90625 55.328125 \nQ 53.90625 49.265625 50.4375 45.09375 \nQ 46.96875 40.921875 40.578125 39.3125 \nz\n\" id=\"DejaVuSans-51\"/>\n      </defs>\n      <g transform=\"translate(7.2 97.126306)scale(0.1 -0.1)\">\n       <use xlink:href=\"#DejaVuSans-51\"/>\n       <use x=\"63.623047\" xlink:href=\"#DejaVuSans-48\"/>\n      </g>\n     </g>\n    </g>\n   </g>\n   <g id=\"patch_3\">\n    <path d=\"M 26.925 97.443481 \nL 26.925 9.627088 \n\" style=\"fill:none;stroke:#000000;stroke-linecap:square;stroke-linejoin:miter;stroke-width:0.8;\"/>\n   </g>\n   <g id=\"patch_4\">\n    <path d=\"M 361.725 97.443481 \nL 361.725 9.627088 \n\" style=\"fill:none;stroke:#000000;stroke-linecap:square;stroke-linejoin:miter;stroke-width:0.8;\"/>\n   </g>\n   <g id=\"patch_5\">\n    <path d=\"M 26.925 97.443481 \nL 361.725 97.443481 \n\" style=\"fill:none;stroke:#000000;stroke-linecap:square;stroke-linejoin:miter;stroke-width:0.8;\"/>\n   </g>\n   <g id=\"patch_6\">\n    <path d=\"M 26.925 9.627088 \nL 361.725 9.627088 \n\" style=\"fill:none;stroke:#000000;stroke-linecap:square;stroke-linejoin:miter;stroke-width:0.8;\"/>\n   </g>\n  </g>\n </g>\n <defs>\n  <clipPath id=\"pa88ffe524c\">\n   <rect height=\"87.816393\" width=\"334.8\" x=\"26.925\" y=\"9.627088\"/>\n  </clipPath>\n </defs>\n</svg>\n",
      "image/png": "[encoded data removed]"
     },
     "metadata": {
      "needs_background": "light"
     }
    },
    {
     "output_type": "stream",
     "name": "stdout",
     "text": "7     6     8     9\n"
    }
   ],
   "source": [
    "import matplotlib.pyplot as plt\n",
    "import numpy as np\n",
    "\n",
    "# functions to show an image\n",
    "\n",
    "\n",
    "def imshow(img):\n",
    "    img = img / 2 + 0.5     # unnormalize\n",
    "    npimg = img.numpy()\n",
    "    plt.imshow(np.transpose(npimg, (1, 2, 0)))\n",
    "    plt.show()\n",
    "\n",
    "\n",
    "#Get some random training images:\n",
    "#Make trainloader iteraterable (over batches, so 4 images are fetched): \n",
    "dataiter = iter(trainloader)\n",
    "#returns random next element:\n",
    "images, labels = dataiter.next()\n",
    "\n",
    "#Show images:\n",
    "imshow(torchvision.utils.make_grid(images))\n",
    "#Print labels:\n",
    "print(' '.join('%5s' % classes[labels[j]] for j in range(4)))\n",
    "\n",
    "#images, labels = dataiter.next"
   ]
  },
  {
   "cell_type": "markdown",
   "metadata": {},
   "source": [
    "## NN architecture"
   ]
  },
  {
   "cell_type": "code",
   "execution_count": 8,
   "metadata": {},
   "outputs": [
    {
     "output_type": "execute_result",
     "data": {
      "text/plain": "Net(\n  (fc1): Linear(in_features=784, out_features=50, bias=True)\n  (fc2): Linear(in_features=50, out_features=50, bias=True)\n  (fc3): Linear(in_features=50, out_features=10, bias=True)\n)"
     },
     "metadata": {},
     "execution_count": 8
    }
   ],
   "source": [
    "#Define CNN architecture:\n",
    "\n",
    "import torch.nn as nn\n",
    "import torch.nn.functional as F\n",
    "\n",
    "#Define Net as child class of nn.Module:\n",
    "class Net(nn.Module):\n",
    "    def __init__(self):\n",
    "        super(Net, self).__init__()\n",
    "        \n",
    "        self.fc1 = nn.Linear(28*28, 50)\n",
    "        self.fc2 = nn.Linear(50, 50)\n",
    "        self.fc3 = nn.Linear(50, 10)\n",
    "\n",
    "    def forward(self, x):\n",
    "        #reshape input data x to be 1*784 vector:\n",
    "        x = x.view(-1, 28 * 28)\n",
    "        x = F.relu(self.fc1(x))\n",
    "        x = F.relu(self.fc2(x))\n",
    "        x = F.log_softmax(self.fc3(x))\n",
    "        return x\n",
    "\n",
    "\n",
    "net = Net()\n",
    "net.to(device)"
   ]
  },
  {
   "cell_type": "markdown",
   "metadata": {},
   "source": [
    "## Loss function"
   ]
  },
  {
   "cell_type": "code",
   "execution_count": 9,
   "metadata": {},
   "outputs": [],
   "source": [
    "#Define Loss function:\n",
    "\n",
    "import torch.optim as optim\n",
    "\n",
    "criterion = nn.NLLLoss()\n",
    "optimizer = optim.SGD(net.parameters(), lr=0.01, momentum=0.5)"
   ]
  },
  {
   "cell_type": "markdown",
   "metadata": {},
   "source": [
    "## Training"
   ]
  },
  {
   "cell_type": "code",
   "execution_count": 10,
   "metadata": {
    "tags": []
   },
   "outputs": [
    {
     "output_type": "stream",
     "name": "stdout",
     "text": "Train Epoch: 1 [3998/60000 (13%)]\tLoss: 0.742427\nTrain Epoch: 1 [7998/60000 (27%)]\tLoss: 0.386594\nTrain Epoch: 1 [11998/60000 (40%)]\tLoss: 0.335841\nTrain Epoch: 1 [15998/60000 (53%)]\tLoss: 0.276408\nTrain Epoch: 1 [19998/60000 (67%)]\tLoss: 0.267051\nTrain Epoch: 1 [23998/60000 (80%)]\tLoss: 0.252870\nTrain Epoch: 1 [27998/60000 (93%)]\tLoss: 0.231085\nTrain Epoch: 2 [3998/60000 (13%)]\tLoss: 0.200589\nTrain Epoch: 2 [7998/60000 (27%)]\tLoss: 0.206582\nTrain Epoch: 2 [11998/60000 (40%)]\tLoss: 0.192729\nTrain Epoch: 2 [15998/60000 (53%)]\tLoss: 0.176460\nTrain Epoch: 2 [19998/60000 (67%)]\tLoss: 0.184996\nTrain Epoch: 2 [23998/60000 (80%)]\tLoss: 0.179817\nTrain Epoch: 2 [27998/60000 (93%)]\tLoss: 0.170227\nFinished Training\nCPU times: user 1min 3s, sys: 7.21 s, total: 1min 10s\nWall time: 1min 15s\n"
    }
   ],
   "source": [
    "%%time\n",
    "\n",
    "#Training:\n",
    "epochs = 2\n",
    "\n",
    "#loop over the dataset \"epochs\" times:\n",
    "for epoch in range(epochs):\n",
    "\n",
    "    running_loss = 0.0\n",
    "    #enumerate(trainloader,0): make trainloader iterable and start the index at 0:\n",
    "    for i, data in enumerate(trainloader, 0):\n",
    "        #get the inputs; data is a list of [inputs, labels]:\n",
    "        inputs, labels = data[0].to(device), data[1].to(device)\n",
    "\n",
    "        inputs = inputs.view(-1, 28 * 28)\n",
    "        \n",
    "        #zero the parameter gradients (just to be save):\n",
    "        optimizer.zero_grad()\n",
    "\n",
    "        #forward:\n",
    "        outputs = net(inputs)\n",
    "\n",
    "        #loss += F.nll_loss(outputs, labels, reduction='sum').item()\n",
    "\n",
    "        #loss:\n",
    "        loss = criterion(outputs, labels)\n",
    "\n",
    "        #backward:\n",
    "        loss.backward()\n",
    "        #optimize:\n",
    "        optimizer.step()\n",
    "\n",
    "        #print statistics:\n",
    "        running_loss += loss.item()\n",
    "\n",
    "        #loss /= len(trainloader.dataset)\n",
    "\n",
    "        #print every 2000 mini-batches:\n",
    "        if i % 2000 == 1999:\n",
    "            print('Train Epoch: {} [{}/{} ({:.0f}%)]\\tLoss: {:.6f}'.format(epoch+1, i * len(data), len(trainloader.dataset), 100. * i / len(trainloader), running_loss / 2000))\n",
    "            running_loss = 0.0\n",
    "\n",
    "print('Finished Training')"
   ]
  },
  {
   "cell_type": "code",
   "execution_count": 11,
   "metadata": {},
   "outputs": [],
   "source": [
    "#Save trained model parameters:\n",
    "\n",
    "PATH = './mnist_net.pth'\n",
    "torch.save(net.state_dict(), PATH)"
   ]
  },
  {
   "cell_type": "markdown",
   "metadata": {},
   "source": [
    "## Calculate accuracy on test set:"
   ]
  },
  {
   "cell_type": "code",
   "execution_count": 12,
   "metadata": {
    "tags": []
   },
   "outputs": [
    {
     "output_type": "stream",
     "name": "stdout",
     "text": "Accuracy of the network on the test images: 95 %\n"
    }
   ],
   "source": [
    "#Count correctly classified images of trained data set:\n",
    "\n",
    "correct = 0\n",
    "total = 0\n",
    "with torch.no_grad():\n",
    "    for data in testloader:\n",
    "        \n",
    "        images, labels = data[0].to(device), data[1].to(device)\n",
    "\n",
    "        #do predicts on test set:\n",
    "        outputs = net(images)\n",
    "        _, predicted = torch.max(outputs.data, 1)\n",
    "        #add the number of predicted images to \"total\", so we can keep track of how many images we have classified so far:\n",
    "        total += labels.size(0)\n",
    "        #add how many of the predicted labels are the same as the ground-truth labels:\n",
    "        #(predicted == labels): predicted is tensor with integers, as well as labels; check if all integers are the same\n",
    "        #(predicted == labels).sum(): sum up of how many were the same\n",
    "        #(predicted == labels).sum().item(): give that number as a single value;\n",
    "        #add it to the number of correctly classified instances:\n",
    "        correct += (predicted == labels).sum().item()\n",
    "\n",
    "#Print percentage of correctly classified instances:\n",
    "print('Accuracy of the network on the test images: %d %%' % (\n",
    "    100 * correct / total))\n"
   ]
  },
  {
   "cell_type": "code",
   "execution_count": 13,
   "metadata": {
    "tags": []
   },
   "outputs": [
    {
     "output_type": "stream",
     "name": "stdout",
     "text": "Accuracy of     0 : 98 %\nAccuracy of     1 : 98 %\nAccuracy of     2 : 94 %\nAccuracy of     3 : 94 %\nAccuracy of     4 : 97 %\nAccuracy of     5 : 96 %\nAccuracy of     6 : 95 %\nAccuracy of     7 : 92 %\nAccuracy of     8 : 95 %\nAccuracy of     9 : 88 %\n"
    }
   ],
   "source": [
    "#Classes that performed well vs. classes that did not perform well:\n",
    "\n",
    "#Initialize lists pf ten values of 0.0:\n",
    "class_correct = list(0. for i in range(10))\n",
    "class_total = list(0. for i in range(10))\n",
    "with torch.no_grad():\n",
    "    for data in testloader:\n",
    "        images, labels = data[0].to(device), data[1].to(device)\n",
    "\n",
    "        #do predictions on test set:\n",
    "        outputs = net(images)\n",
    "        _, predicted = torch.max(outputs, 1)\n",
    "        #store correctly predicted classes (where prediction matches label) in \"c\":\n",
    "        c = (predicted == labels)\n",
    "\n",
    "        for i in range(4):\n",
    "            label = labels[i]\n",
    "            #count up how a certain class was predicted (true of false):\n",
    "            class_correct[label] += c[i].item()\n",
    "            #count up how often this class was predicted:\n",
    "            class_total[label] += 1\n",
    "\n",
    "#Print percentage of correctly classifications of each class:\n",
    "for i in range(10):\n",
    "    print('Accuracy of %5s : %2d %%' % (\n",
    "        classes[i], 100 * class_correct[i] / class_total[i]))"
   ]
  },
  {
   "cell_type": "markdown",
   "metadata": {},
   "source": [
    "## Run predictions on test samples\n",
    "\n",
    "Run these 4 cells below to sample 4 random images of test set (with ground-truth labels) and run the NN predictions on them:"
   ]
  },
  {
   "cell_type": "code",
   "execution_count": 14,
   "metadata": {},
   "outputs": [
    {
     "output_type": "execute_result",
     "data": {
      "text/plain": "<All keys matched successfully>"
     },
     "metadata": {},
     "execution_count": 14
    }
   ],
   "source": [
    "#Load back model:\n",
    "PATH = './mnist_net.pth'\n",
    "\n",
    "net = Net()\n",
    "net.load_state_dict(torch.load(PATH))"
   ]
  },
  {
   "cell_type": "code",
   "execution_count": 15,
   "metadata": {
    "tags": []
   },
   "outputs": [
    {
     "output_type": "display_data",
     "data": {
      "text/plain": "<Figure size 432x288 with 1 Axes>",
      "image/svg+xml": "<?xml version=\"1.0\" encoding=\"utf-8\" standalone=\"no\"?>\n<!DOCTYPE svg PUBLIC \"-//W3C//DTD SVG 1.1//EN\"\n  \"http://www.w3.org/Graphics/SVG/1.1/DTD/svg11.dtd\">\n<!-- Created with matplotlib (https://matplotlib.org/) -->\n<svg height=\"121.321606pt\" version=\"1.1\" viewBox=\"0 0 374.352357 121.321606\" width=\"374.352357pt\" xmlns=\"http://www.w3.org/2000/svg\" xmlns:xlink=\"http://www.w3.org/1999/xlink\">\n <defs>\n  <style type=\"text/css\">\n*{stroke-linecap:butt;stroke-linejoin:round;}\n  </style>\n </defs>\n <g id=\"figure_1\">\n  <g id=\"patch_1\">\n   <path d=\"M -0 121.321606 \nL 374.352357 121.321606 \nL 374.352357 0 \nL -0 0 \nz\n\" style=\"fill:none;\"/>\n  </g>\n  <g id=\"axes_1\">\n   <g id=\"patch_2\">\n    <path d=\"M 26.925 97.443481 \nL 361.725 97.443481 \nL 361.725 9.627088 \nL 26.925 9.627088 \nz\n\" style=\"fill:#ffffff;\"/>\n   </g>\n   <g clip-path=\"url(#paa58190df8)\">\n    <image height=\"88\" id=\"imagee2c9d95a69\" transform=\"scale(1 -1)translate(0 -88)\" width=\"335\" x=\"26.925\" xlink:href=\"data:image/png;base64,\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\" y=\"-9.443481\"/>\n   </g>\n   <g id=\"matplotlib.axis_1\">\n    <g id=\"xtick_1\">\n     <g id=\"line2d_1\">\n      <defs>\n       <path d=\"M 0 0 \nL 0 3.5 \n\" id=\"mf0a0bdf5aa\" style=\"stroke:#000000;stroke-width:0.8;\"/>\n      </defs>\n      <g>\n       <use style=\"stroke:#000000;stroke-width:0.8;\" x=\"28.297131\" xlink:href=\"#mf0a0bdf5aa\" y=\"97.443481\"/>\n      </g>\n     </g>\n     <g id=\"text_1\">\n      <!-- 0 -->\n      <defs>\n       <path d=\"M 31.78125 66.40625 \nQ 24.171875 66.40625 20.328125 58.90625 \nQ 16.5 51.421875 16.5 36.375 \nQ 16.5 21.390625 20.328125 13.890625 \nQ 24.171875 6.390625 31.78125 6.390625 \nQ 39.453125 6.390625 43.28125 13.890625 \nQ 47.125 21.390625 47.125 36.375 \nQ 47.125 51.421875 43.28125 58.90625 \nQ 39.453125 66.40625 31.78125 66.40625 \nz\nM 31.78125 74.21875 \nQ 44.046875 74.21875 50.515625 64.515625 \nQ 56.984375 54.828125 56.984375 36.375 \nQ 56.984375 17.96875 50.515625 8.265625 \nQ 44.046875 -1.421875 31.78125 -1.421875 \nQ 19.53125 -1.421875 13.0625 8.265625 \nQ 6.59375 17.96875 6.59375 36.375 \nQ 6.59375 54.828125 13.0625 64.515625 \nQ 19.53125 74.21875 31.78125 74.21875 \nz\n\" id=\"DejaVuSans-48\"/>\n      </defs>\n      <g transform=\"translate(25.115881 112.041919)scale(0.1 -0.1)\">\n       <use xlink:href=\"#DejaVuSans-48\"/>\n      </g>\n     </g>\n    </g>\n    <g id=\"xtick_2\">\n     <g id=\"line2d_2\">\n      <g>\n       <use style=\"stroke:#000000;stroke-width:0.8;\" x=\"83.182377\" xlink:href=\"#mf0a0bdf5aa\" y=\"97.443481\"/>\n      </g>\n     </g>\n     <g id=\"text_2\">\n      <!-- 20 -->\n      <defs>\n       <path d=\"M 19.1875 8.296875 \nL 53.609375 8.296875 \nL 53.609375 0 \nL 7.328125 0 \nL 7.328125 8.296875 \nQ 12.9375 14.109375 22.625 23.890625 \nQ 32.328125 33.6875 34.8125 36.53125 \nQ 39.546875 41.84375 41.421875 45.53125 \nQ 43.3125 49.21875 43.3125 52.78125 \nQ 43.3125 58.59375 39.234375 62.25 \nQ 35.15625 65.921875 28.609375 65.921875 \nQ 23.96875 65.921875 18.8125 64.3125 \nQ 13.671875 62.703125 7.8125 59.421875 \nL 7.8125 69.390625 \nQ 13.765625 71.78125 18.9375 73 \nQ 24.125 74.21875 28.421875 74.21875 \nQ 39.75 74.21875 46.484375 68.546875 \nQ 53.21875 62.890625 53.21875 53.421875 \nQ 53.21875 48.921875 51.53125 44.890625 \nQ 49.859375 40.875 45.40625 35.40625 \nQ 44.1875 33.984375 37.640625 27.21875 \nQ 31.109375 20.453125 19.1875 8.296875 \nz\n\" id=\"DejaVuSans-50\"/>\n      </defs>\n      <g transform=\"translate(76.819877 112.041919)scale(0.1 -0.1)\">\n       <use xlink:href=\"#DejaVuSans-50\"/>\n       <use x=\"63.623047\" xlink:href=\"#DejaVuSans-48\"/>\n      </g>\n     </g>\n    </g>\n    <g id=\"xtick_3\">\n     <g id=\"line2d_3\">\n      <g>\n       <use style=\"stroke:#000000;stroke-width:0.8;\" x=\"138.067623\" xlink:href=\"#mf0a0bdf5aa\" y=\"97.443481\"/>\n      </g>\n     </g>\n     <g id=\"text_3\">\n      <!-- 40 -->\n      <defs>\n       <path d=\"M 37.796875 64.3125 \nL 12.890625 25.390625 \nL 37.796875 25.390625 \nz\nM 35.203125 72.90625 \nL 47.609375 72.90625 \nL 47.609375 25.390625 \nL 58.015625 25.390625 \nL 58.015625 17.1875 \nL 47.609375 17.1875 \nL 47.609375 0 \nL 37.796875 0 \nL 37.796875 17.1875 \nL 4.890625 17.1875 \nL 4.890625 26.703125 \nz\n\" id=\"DejaVuSans-52\"/>\n      </defs>\n      <g transform=\"translate(131.705123 112.041919)scale(0.1 -0.1)\">\n       <use xlink:href=\"#DejaVuSans-52\"/>\n       <use x=\"63.623047\" xlink:href=\"#DejaVuSans-48\"/>\n      </g>\n     </g>\n    </g>\n    <g id=\"xtick_4\">\n     <g id=\"line2d_4\">\n      <g>\n       <use style=\"stroke:#000000;stroke-width:0.8;\" x=\"192.952869\" xlink:href=\"#mf0a0bdf5aa\" y=\"97.443481\"/>\n      </g>\n     </g>\n     <g id=\"text_4\">\n      <!-- 60 -->\n      <defs>\n       <path d=\"M 33.015625 40.375 \nQ 26.375 40.375 22.484375 35.828125 \nQ 18.609375 31.296875 18.609375 23.390625 \nQ 18.609375 15.53125 22.484375 10.953125 \nQ 26.375 6.390625 33.015625 6.390625 \nQ 39.65625 6.390625 43.53125 10.953125 \nQ 47.40625 15.53125 47.40625 23.390625 \nQ 47.40625 31.296875 43.53125 35.828125 \nQ 39.65625 40.375 33.015625 40.375 \nz\nM 52.59375 71.296875 \nL 52.59375 62.3125 \nQ 48.875 64.0625 45.09375 64.984375 \nQ 41.3125 65.921875 37.59375 65.921875 \nQ 27.828125 65.921875 22.671875 59.328125 \nQ 17.53125 52.734375 16.796875 39.40625 \nQ 19.671875 43.65625 24.015625 45.921875 \nQ 28.375 48.1875 33.59375 48.1875 \nQ 44.578125 48.1875 50.953125 41.515625 \nQ 57.328125 34.859375 57.328125 23.390625 \nQ 57.328125 12.15625 50.6875 5.359375 \nQ 44.046875 -1.421875 33.015625 -1.421875 \nQ 20.359375 -1.421875 13.671875 8.265625 \nQ 6.984375 17.96875 6.984375 36.375 \nQ 6.984375 53.65625 15.1875 63.9375 \nQ 23.390625 74.21875 37.203125 74.21875 \nQ 40.921875 74.21875 44.703125 73.484375 \nQ 48.484375 72.75 52.59375 71.296875 \nz\n\" id=\"DejaVuSans-54\"/>\n      </defs>\n      <g transform=\"translate(186.590369 112.041919)scale(0.1 -0.1)\">\n       <use xlink:href=\"#DejaVuSans-54\"/>\n       <use x=\"63.623047\" xlink:href=\"#DejaVuSans-48\"/>\n      </g>\n     </g>\n    </g>\n    <g id=\"xtick_5\">\n     <g id=\"line2d_5\">\n      <g>\n       <use style=\"stroke:#000000;stroke-width:0.8;\" x=\"247.838115\" xlink:href=\"#mf0a0bdf5aa\" y=\"97.443481\"/>\n      </g>\n     </g>\n     <g id=\"text_5\">\n      <!-- 80 -->\n      <defs>\n       <path d=\"M 31.78125 34.625 \nQ 24.75 34.625 20.71875 30.859375 \nQ 16.703125 27.09375 16.703125 20.515625 \nQ 16.703125 13.921875 20.71875 10.15625 \nQ 24.75 6.390625 31.78125 6.390625 \nQ 38.8125 6.390625 42.859375 10.171875 \nQ 46.921875 13.96875 46.921875 20.515625 \nQ 46.921875 27.09375 42.890625 30.859375 \nQ 38.875 34.625 31.78125 34.625 \nz\nM 21.921875 38.8125 \nQ 15.578125 40.375 12.03125 44.71875 \nQ 8.5 49.078125 8.5 55.328125 \nQ 8.5 64.0625 14.71875 69.140625 \nQ 20.953125 74.21875 31.78125 74.21875 \nQ 42.671875 74.21875 48.875 69.140625 \nQ 55.078125 64.0625 55.078125 55.328125 \nQ 55.078125 49.078125 51.53125 44.71875 \nQ 48 40.375 41.703125 38.8125 \nQ 48.828125 37.15625 52.796875 32.3125 \nQ 56.78125 27.484375 56.78125 20.515625 \nQ 56.78125 9.90625 50.3125 4.234375 \nQ 43.84375 -1.421875 31.78125 -1.421875 \nQ 19.734375 -1.421875 13.25 4.234375 \nQ 6.78125 9.90625 6.78125 20.515625 \nQ 6.78125 27.484375 10.78125 32.3125 \nQ 14.796875 37.15625 21.921875 38.8125 \nz\nM 18.3125 54.390625 \nQ 18.3125 48.734375 21.84375 45.5625 \nQ 25.390625 42.390625 31.78125 42.390625 \nQ 38.140625 42.390625 41.71875 45.5625 \nQ 45.3125 48.734375 45.3125 54.390625 \nQ 45.3125 60.0625 41.71875 63.234375 \nQ 38.140625 66.40625 31.78125 66.40625 \nQ 25.390625 66.40625 21.84375 63.234375 \nQ 18.3125 60.0625 18.3125 54.390625 \nz\n\" id=\"DejaVuSans-56\"/>\n      </defs>\n      <g transform=\"translate(241.475615 112.041919)scale(0.1 -0.1)\">\n       <use xlink:href=\"#DejaVuSans-56\"/>\n       <use x=\"63.623047\" xlink:href=\"#DejaVuSans-48\"/>\n      </g>\n     </g>\n    </g>\n    <g id=\"xtick_6\">\n     <g id=\"line2d_6\">\n      <g>\n       <use style=\"stroke:#000000;stroke-width:0.8;\" x=\"302.723361\" xlink:href=\"#mf0a0bdf5aa\" y=\"97.443481\"/>\n      </g>\n     </g>\n     <g id=\"text_6\">\n      <!-- 100 -->\n      <defs>\n       <path d=\"M 12.40625 8.296875 \nL 28.515625 8.296875 \nL 28.515625 63.921875 \nL 10.984375 60.40625 \nL 10.984375 69.390625 \nL 28.421875 72.90625 \nL 38.28125 72.90625 \nL 38.28125 8.296875 \nL 54.390625 8.296875 \nL 54.390625 0 \nL 12.40625 0 \nz\n\" id=\"DejaVuSans-49\"/>\n      </defs>\n      <g transform=\"translate(293.179611 112.041919)scale(0.1 -0.1)\">\n       <use xlink:href=\"#DejaVuSans-49\"/>\n       <use x=\"63.623047\" xlink:href=\"#DejaVuSans-48\"/>\n       <use x=\"127.246094\" xlink:href=\"#DejaVuSans-48\"/>\n      </g>\n     </g>\n    </g>\n    <g id=\"xtick_7\">\n     <g id=\"line2d_7\">\n      <g>\n       <use style=\"stroke:#000000;stroke-width:0.8;\" x=\"357.608607\" xlink:href=\"#mf0a0bdf5aa\" y=\"97.443481\"/>\n      </g>\n     </g>\n     <g id=\"text_7\">\n      <!-- 120 -->\n      <g transform=\"translate(348.064857 112.041919)scale(0.1 -0.1)\">\n       <use xlink:href=\"#DejaVuSans-49\"/>\n       <use x=\"63.623047\" xlink:href=\"#DejaVuSans-50\"/>\n       <use x=\"127.246094\" xlink:href=\"#DejaVuSans-48\"/>\n      </g>\n     </g>\n    </g>\n   </g>\n   <g id=\"matplotlib.axis_2\">\n    <g id=\"ytick_1\">\n     <g id=\"line2d_8\">\n      <defs>\n       <path d=\"M 0 0 \nL -3.5 0 \n\" id=\"m4ec0bdc53f\" style=\"stroke:#000000;stroke-width:0.8;\"/>\n      </defs>\n      <g>\n       <use style=\"stroke:#000000;stroke-width:0.8;\" x=\"26.925\" xlink:href=\"#m4ec0bdc53f\" y=\"10.999219\"/>\n      </g>\n     </g>\n     <g id=\"text_8\">\n      <!-- 0 -->\n      <g transform=\"translate(13.5625 14.798437)scale(0.1 -0.1)\">\n       <use xlink:href=\"#DejaVuSans-48\"/>\n      </g>\n     </g>\n    </g>\n    <g id=\"ytick_2\">\n     <g id=\"line2d_9\">\n      <g>\n       <use style=\"stroke:#000000;stroke-width:0.8;\" x=\"26.925\" xlink:href=\"#m4ec0bdc53f\" y=\"38.441842\"/>\n      </g>\n     </g>\n     <g id=\"text_9\">\n      <!-- 10 -->\n      <g transform=\"translate(7.2 42.24106)scale(0.1 -0.1)\">\n       <use xlink:href=\"#DejaVuSans-49\"/>\n       <use x=\"63.623047\" xlink:href=\"#DejaVuSans-48\"/>\n      </g>\n     </g>\n    </g>\n    <g id=\"ytick_3\">\n     <g id=\"line2d_10\">\n      <g>\n       <use style=\"stroke:#000000;stroke-width:0.8;\" x=\"26.925\" xlink:href=\"#m4ec0bdc53f\" y=\"65.884465\"/>\n      </g>\n     </g>\n     <g id=\"text_10\">\n      <!-- 20 -->\n      <g transform=\"translate(7.2 69.683683)scale(0.1 -0.1)\">\n       <use xlink:href=\"#DejaVuSans-50\"/>\n       <use x=\"63.623047\" xlink:href=\"#DejaVuSans-48\"/>\n      </g>\n     </g>\n    </g>\n    <g id=\"ytick_4\">\n     <g id=\"line2d_11\">\n      <g>\n       <use style=\"stroke:#000000;stroke-width:0.8;\" x=\"26.925\" xlink:href=\"#m4ec0bdc53f\" y=\"93.327088\"/>\n      </g>\n     </g>\n     <g id=\"text_11\">\n      <!-- 30 -->\n      <defs>\n       <path d=\"M 40.578125 39.3125 \nQ 47.65625 37.796875 51.625 33 \nQ 55.609375 28.21875 55.609375 21.1875 \nQ 55.609375 10.40625 48.1875 4.484375 \nQ 40.765625 -1.421875 27.09375 -1.421875 \nQ 22.515625 -1.421875 17.65625 -0.515625 \nQ 12.796875 0.390625 7.625 2.203125 \nL 7.625 11.71875 \nQ 11.71875 9.328125 16.59375 8.109375 \nQ 21.484375 6.890625 26.8125 6.890625 \nQ 36.078125 6.890625 40.9375 10.546875 \nQ 45.796875 14.203125 45.796875 21.1875 \nQ 45.796875 27.640625 41.28125 31.265625 \nQ 36.765625 34.90625 28.71875 34.90625 \nL 20.21875 34.90625 \nL 20.21875 43.015625 \nL 29.109375 43.015625 \nQ 36.375 43.015625 40.234375 45.921875 \nQ 44.09375 48.828125 44.09375 54.296875 \nQ 44.09375 59.90625 40.109375 62.90625 \nQ 36.140625 65.921875 28.71875 65.921875 \nQ 24.65625 65.921875 20.015625 65.03125 \nQ 15.375 64.15625 9.8125 62.3125 \nL 9.8125 71.09375 \nQ 15.4375 72.65625 20.34375 73.4375 \nQ 25.25 74.21875 29.59375 74.21875 \nQ 40.828125 74.21875 47.359375 69.109375 \nQ 53.90625 64.015625 53.90625 55.328125 \nQ 53.90625 49.265625 50.4375 45.09375 \nQ 46.96875 40.921875 40.578125 39.3125 \nz\n\" id=\"DejaVuSans-51\"/>\n      </defs>\n      <g transform=\"translate(7.2 97.126306)scale(0.1 -0.1)\">\n       <use xlink:href=\"#DejaVuSans-51\"/>\n       <use x=\"63.623047\" xlink:href=\"#DejaVuSans-48\"/>\n      </g>\n     </g>\n    </g>\n   </g>\n   <g id=\"patch_3\">\n    <path d=\"M 26.925 97.443481 \nL 26.925 9.627088 \n\" style=\"fill:none;stroke:#000000;stroke-linecap:square;stroke-linejoin:miter;stroke-width:0.8;\"/>\n   </g>\n   <g id=\"patch_4\">\n    <path d=\"M 361.725 97.443481 \nL 361.725 9.627088 \n\" style=\"fill:none;stroke:#000000;stroke-linecap:square;stroke-linejoin:miter;stroke-width:0.8;\"/>\n   </g>\n   <g id=\"patch_5\">\n    <path d=\"M 26.925 97.443481 \nL 361.725 97.443481 \n\" style=\"fill:none;stroke:#000000;stroke-linecap:square;stroke-linejoin:miter;stroke-width:0.8;\"/>\n   </g>\n   <g id=\"patch_6\">\n    <path d=\"M 26.925 9.627088 \nL 361.725 9.627088 \n\" style=\"fill:none;stroke:#000000;stroke-linecap:square;stroke-linejoin:miter;stroke-width:0.8;\"/>\n   </g>\n  </g>\n </g>\n <defs>\n  <clipPath id=\"paa58190df8\">\n   <rect height=\"87.816393\" width=\"334.8\" x=\"26.925\" y=\"9.627088\"/>\n  </clipPath>\n </defs>\n</svg>\n",
      "image/png": "[encoded data removed]"
     },
     "metadata": {
      "needs_background": "light"
     }
    },
    {
     "output_type": "stream",
     "name": "stdout",
     "text": "GroundTruth:      5     7     7     7\n"
    }
   ],
   "source": [
    "#Fetch random batch image of test set:\n",
    "\n",
    "dataiter = iter(testloader)\n",
    "images, labels = dataiter.next()\n",
    "\n",
    "#Show images:\n",
    "imshow(torchvision.utils.make_grid(images))\n",
    "print('GroundTruth: ', ' '.join('%5s' % classes[labels[j]] for j in range(4)))"
   ]
  },
  {
   "cell_type": "code",
   "execution_count": 16,
   "metadata": {},
   "outputs": [],
   "source": [
    "#Run predictions:\n",
    "\n",
    "#this returns one-hot-encoding:\n",
    "outputs = net(images)"
   ]
  },
  {
   "cell_type": "code",
   "execution_count": 17,
   "metadata": {
    "tags": []
   },
   "outputs": [
    {
     "output_type": "stream",
     "name": "stdout",
     "text": "Predicted:      5     7     2     7\n"
    }
   ],
   "source": [
    "#max(outputs,1) will give the indices of the max values of the one-hot-encoding (our predictions), and also a gradient object that we ignore by storing in \"_\":\n",
    "_ , predicted = torch.max(outputs, 1)\n",
    "\n",
    "print('Predicted: ', ' '.join('%5s' % classes[predicted[j]] for j in range(4)))"
   ]
  }
 ],
 "metadata": {
  "language_info": {
   "codemirror_mode": {
    "name": "ipython",
    "version": 3
   },
   "file_extension": ".py",
   "mimetype": "text/x-python",
   "name": "python",
   "nbconvert_exporter": "python",
   "pygments_lexer": "ipython3",
   "version": "3.8.3-final"
  },
  "orig_nbformat": 2,
  "kernelspec": {
   "name": "python38364bitenvdlcondaac906d774a66413a80b27a36627fa0d1",
   "display_name": "Python 3.8.3 64-bit ('env_dl': conda)"
  }
 },
 "nbformat": 4,
 "nbformat_minor": 2
}