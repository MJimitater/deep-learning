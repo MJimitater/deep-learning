{
 "cells": [
  {
   "cell_type": "markdown",
   "metadata": {},
   "source": [
    "## MNIST data set download/import"
   ]
  },
  {
   "cell_type": "code",
   "execution_count": 1,
   "metadata": {
    "tags": []
   },
   "outputs": [
    {
     "output_type": "stream",
     "name": "stdout",
     "text": "cuda:0\n"
    }
   ],
   "source": [
    "import torch\n",
    "import torchvision\n",
    "import torchvision.transforms as transforms\n",
    "import numpy as np\n",
    "\n",
    "\n",
    "#Select NVIDIA if available, otherwise cpu:\n",
    "#device = torch.device(\"cuda:0\" if torch.cuda.is_available() else \"cpu\")\n",
    "\n",
    "device = torch.device(\"cuda:0\")\n",
    "#device = torch.device(\"cpu\")\n",
    "\n",
    "print(device)"
   ]
  },
  {
   "cell_type": "code",
   "execution_count": 2,
   "metadata": {},
   "outputs": [],
   "source": [
    "#Common image transformations:\n",
    "transform = transforms.Compose(\n",
    "    #convert PIL image to tensor array:\n",
    "    [transforms.ToTensor(),\n",
    "    #each of the three pixel maps is centered to have mean 0.5 and std 0.5:\n",
    "     transforms.Normalize((0.5,), (0.5,))])\n",
    "\n",
    "#Download MNIST data:\n",
    "#root: where data to be stored, if not exists already\n",
    "#train=True: data is used for training (otherwise test set is created)\n",
    "#download=True: downloads data, if not exists in root already\n",
    "#transform: applies transformations to image\n",
    "trainset = torchvision.datasets.MNIST(root='./data', train=True, download=True, transform=transform)\n",
    "\n",
    "#Dataloader makes dataset an iterable object\n",
    "#batch_size: how many samples per batch to load\n",
    "#shuffle: have data reshuffled at every epoch\n",
    "#num_workers: how many subprocesses to use for data loading (0 means data is loaded into main process)\n",
    "trainloader = torch.utils.data.DataLoader(trainset, batch_size=4, shuffle=True, num_workers=2)\n",
    "\n",
    "#Load test data set:\n",
    "testset = torchvision.datasets.MNIST(root='./data', train=False,\n",
    "                                       download=True, transform=transform)\n",
    "#Dataloader for test set:\n",
    "testloader = torch.utils.data.DataLoader(testset, batch_size=4,\n",
    "                                         shuffle=True, num_workers=2)\n",
    "\n",
    "#Set classes:\n",
    "#class_label[0]=0, ..., class_label[9]=9:\n",
    "classes = (0,1,2,3,4,5,6,7,8,9)"
   ]
  },
  {
   "cell_type": "markdown",
   "metadata": {},
   "source": [
    "Exploring data set:"
   ]
  },
  {
   "cell_type": "code",
   "execution_count": 3,
   "metadata": {},
   "outputs": [
    {
     "output_type": "execute_result",
     "data": {
      "text/plain": "torch.Size([60000, 28, 28])"
     },
     "metadata": {},
     "execution_count": 3
    }
   ],
   "source": [
    "trainloader.dataset.data.shape"
   ]
  },
  {
   "cell_type": "code",
   "execution_count": 4,
   "metadata": {},
   "outputs": [
    {
     "output_type": "execute_result",
     "data": {
      "text/plain": "['0 - zero',\n '1 - one',\n '2 - two',\n '3 - three',\n '4 - four',\n '5 - five',\n '6 - six',\n '7 - seven',\n '8 - eight',\n '9 - nine']"
     },
     "metadata": {},
     "execution_count": 4
    }
   ],
   "source": [
    "trainset.classes"
   ]
  },
  {
   "cell_type": "markdown",
   "metadata": {},
   "source": [
    "Exploring test set:"
   ]
  },
  {
   "cell_type": "code",
   "execution_count": 5,
   "metadata": {},
   "outputs": [
    {
     "output_type": "execute_result",
     "data": {
      "text/plain": "torch.Size([10000, 28, 28])"
     },
     "metadata": {},
     "execution_count": 5
    }
   ],
   "source": [
    "testloader.dataset.data.shape"
   ]
  },
  {
   "cell_type": "code",
   "execution_count": 6,
   "metadata": {
    "tags": []
   },
   "outputs": [
    {
     "output_type": "stream",
     "name": "stdout",
     "text": "Class 0 has 5923 training images and 980 test images\nClass 1 has 6742 training images and 1135 test images\nClass 2 has 5958 training images and 1032 test images\nClass 3 has 6131 training images and 1010 test images\nClass 4 has 5842 training images and 982 test images\nClass 5 has 5421 training images and 892 test images\nClass 6 has 5918 training images and 958 test images\nClass 7 has 6265 training images and 1028 test images\nClass 8 has 5851 training images and 974 test images\nClass 9 has 5949 training images and 1009 test images\n"
    }
   ],
   "source": [
    "for i in np.unique(np.asarray(trainloader.dataset.targets)):\n",
    "    print(\"Class {0} has {1} training images and {2} test images\".format(i, (trainloader.dataset.targets == i).sum(), (testloader.dataset.targets == i).sum()))"
   ]
  },
  {
   "cell_type": "markdown",
   "metadata": {},
   "source": [
    "## Sample example image batch"
   ]
  },
  {
   "cell_type": "code",
   "execution_count": 7,
   "metadata": {
    "tags": []
   },
   "outputs": [
    {
     "output_type": "display_data",
     "data": {
      "text/plain": "<Figure size 432x288 with 1 Axes>",
      "image/svg+xml": "<?xml version=\"1.0\" encoding=\"utf-8\" standalone=\"no\"?>\n<!DOCTYPE svg PUBLIC \"-//W3C//DTD SVG 1.1//EN\"\n  \"http://www.w3.org/Graphics/SVG/1.1/DTD/svg11.dtd\">\n<!-- Created with matplotlib (https://matplotlib.org/) -->\n<svg height=\"121.321606pt\" version=\"1.1\" viewBox=\"0 0 374.352357 121.321606\" width=\"374.352357pt\" xmlns=\"http://www.w3.org/2000/svg\" xmlns:xlink=\"http://www.w3.org/1999/xlink\">\n <defs>\n  <style type=\"text/css\">\n*{stroke-linecap:butt;stroke-linejoin:round;}\n  </style>\n </defs>\n <g id=\"figure_1\">\n  <g id=\"patch_1\">\n   <path d=\"M -0 121.321606 \nL 374.352357 121.321606 \nL 374.352357 0 \nL -0 0 \nz\n\" style=\"fill:none;\"/>\n  </g>\n  <g id=\"axes_1\">\n   <g id=\"patch_2\">\n    <path d=\"M 26.925 97.443481 \nL 361.725 97.443481 \nL 361.725 9.627088 \nL 26.925 9.627088 \nz\n\" style=\"fill:#ffffff;\"/>\n   </g>\n   <g clip-path=\"url(#p8c19e072d3)\">\n    <image height=\"88\" id=\"imageb5ddbcdfea\" transform=\"scale(1 -1)translate(0 -88)\" width=\"335\" x=\"26.925\" xlink:href=\"data:image/png;base64,\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\" y=\"-9.443481\"/>\n   </g>\n   <g id=\"matplotlib.axis_1\">\n    <g id=\"xtick_1\">\n     <g id=\"line2d_1\">\n      <defs>\n       <path d=\"M 0 0 \nL 0 3.5 \n\" id=\"m32091612bf\" style=\"stroke:#000000;stroke-width:0.8;\"/>\n      </defs>\n      <g>\n       <use style=\"stroke:#000000;stroke-width:0.8;\" x=\"28.297131\" xlink:href=\"#m32091612bf\" y=\"97.443481\"/>\n      </g>\n     </g>\n     <g id=\"text_1\">\n      <!-- 0 -->\n      <defs>\n       <path d=\"M 31.78125 66.40625 \nQ 24.171875 66.40625 20.328125 58.90625 \nQ 16.5 51.421875 16.5 36.375 \nQ 16.5 21.390625 20.328125 13.890625 \nQ 24.171875 6.390625 31.78125 6.390625 \nQ 39.453125 6.390625 43.28125 13.890625 \nQ 47.125 21.390625 47.125 36.375 \nQ 47.125 51.421875 43.28125 58.90625 \nQ 39.453125 66.40625 31.78125 66.40625 \nz\nM 31.78125 74.21875 \nQ 44.046875 74.21875 50.515625 64.515625 \nQ 56.984375 54.828125 56.984375 36.375 \nQ 56.984375 17.96875 50.515625 8.265625 \nQ 44.046875 -1.421875 31.78125 -1.421875 \nQ 19.53125 -1.421875 13.0625 8.265625 \nQ 6.59375 17.96875 6.59375 36.375 \nQ 6.59375 54.828125 13.0625 64.515625 \nQ 19.53125 74.21875 31.78125 74.21875 \nz\n\" id=\"DejaVuSans-48\"/>\n      </defs>\n      <g transform=\"translate(25.115881 112.041919)scale(0.1 -0.1)\">\n       <use xlink:href=\"#DejaVuSans-48\"/>\n      </g>\n     </g>\n    </g>\n    <g id=\"xtick_2\">\n     <g id=\"line2d_2\">\n      <g>\n       <use style=\"stroke:#000000;stroke-width:0.8;\" x=\"83.182377\" xlink:href=\"#m32091612bf\" y=\"97.443481\"/>\n      </g>\n     </g>\n     <g id=\"text_2\">\n      <!-- 20 -->\n      <defs>\n       <path d=\"M 19.1875 8.296875 \nL 53.609375 8.296875 \nL 53.609375 0 \nL 7.328125 0 \nL 7.328125 8.296875 \nQ 12.9375 14.109375 22.625 23.890625 \nQ 32.328125 33.6875 34.8125 36.53125 \nQ 39.546875 41.84375 41.421875 45.53125 \nQ 43.3125 49.21875 43.3125 52.78125 \nQ 43.3125 58.59375 39.234375 62.25 \nQ 35.15625 65.921875 28.609375 65.921875 \nQ 23.96875 65.921875 18.8125 64.3125 \nQ 13.671875 62.703125 7.8125 59.421875 \nL 7.8125 69.390625 \nQ 13.765625 71.78125 18.9375 73 \nQ 24.125 74.21875 28.421875 74.21875 \nQ 39.75 74.21875 46.484375 68.546875 \nQ 53.21875 62.890625 53.21875 53.421875 \nQ 53.21875 48.921875 51.53125 44.890625 \nQ 49.859375 40.875 45.40625 35.40625 \nQ 44.1875 33.984375 37.640625 27.21875 \nQ 31.109375 20.453125 19.1875 8.296875 \nz\n\" id=\"DejaVuSans-50\"/>\n      </defs>\n      <g transform=\"translate(76.819877 112.041919)scale(0.1 -0.1)\">\n       <use xlink:href=\"#DejaVuSans-50\"/>\n       <use x=\"63.623047\" xlink:href=\"#DejaVuSans-48\"/>\n      </g>\n     </g>\n    </g>\n    <g id=\"xtick_3\">\n     <g id=\"line2d_3\">\n      <g>\n       <use style=\"stroke:#000000;stroke-width:0.8;\" x=\"138.067623\" xlink:href=\"#m32091612bf\" y=\"97.443481\"/>\n      </g>\n     </g>\n     <g id=\"text_3\">\n      <!-- 40 -->\n      <defs>\n       <path d=\"M 37.796875 64.3125 \nL 12.890625 25.390625 \nL 37.796875 25.390625 \nz\nM 35.203125 72.90625 \nL 47.609375 72.90625 \nL 47.609375 25.390625 \nL 58.015625 25.390625 \nL 58.015625 17.1875 \nL 47.609375 17.1875 \nL 47.609375 0 \nL 37.796875 0 \nL 37.796875 17.1875 \nL 4.890625 17.1875 \nL 4.890625 26.703125 \nz\n\" id=\"DejaVuSans-52\"/>\n      </defs>\n      <g transform=\"translate(131.705123 112.041919)scale(0.1 -0.1)\">\n       <use xlink:href=\"#DejaVuSans-52\"/>\n       <use x=\"63.623047\" xlink:href=\"#DejaVuSans-48\"/>\n      </g>\n     </g>\n    </g>\n    <g id=\"xtick_4\">\n     <g id=\"line2d_4\">\n      <g>\n       <use style=\"stroke:#000000;stroke-width:0.8;\" x=\"192.952869\" xlink:href=\"#m32091612bf\" y=\"97.443481\"/>\n      </g>\n     </g>\n     <g id=\"text_4\">\n      <!-- 60 -->\n      <defs>\n       <path d=\"M 33.015625 40.375 \nQ 26.375 40.375 22.484375 35.828125 \nQ 18.609375 31.296875 18.609375 23.390625 \nQ 18.609375 15.53125 22.484375 10.953125 \nQ 26.375 6.390625 33.015625 6.390625 \nQ 39.65625 6.390625 43.53125 10.953125 \nQ 47.40625 15.53125 47.40625 23.390625 \nQ 47.40625 31.296875 43.53125 35.828125 \nQ 39.65625 40.375 33.015625 40.375 \nz\nM 52.59375 71.296875 \nL 52.59375 62.3125 \nQ 48.875 64.0625 45.09375 64.984375 \nQ 41.3125 65.921875 37.59375 65.921875 \nQ 27.828125 65.921875 22.671875 59.328125 \nQ 17.53125 52.734375 16.796875 39.40625 \nQ 19.671875 43.65625 24.015625 45.921875 \nQ 28.375 48.1875 33.59375 48.1875 \nQ 44.578125 48.1875 50.953125 41.515625 \nQ 57.328125 34.859375 57.328125 23.390625 \nQ 57.328125 12.15625 50.6875 5.359375 \nQ 44.046875 -1.421875 33.015625 -1.421875 \nQ 20.359375 -1.421875 13.671875 8.265625 \nQ 6.984375 17.96875 6.984375 36.375 \nQ 6.984375 53.65625 15.1875 63.9375 \nQ 23.390625 74.21875 37.203125 74.21875 \nQ 40.921875 74.21875 44.703125 73.484375 \nQ 48.484375 72.75 52.59375 71.296875 \nz\n\" id=\"DejaVuSans-54\"/>\n      </defs>\n      <g transform=\"translate(186.590369 112.041919)scale(0.1 -0.1)\">\n       <use xlink:href=\"#DejaVuSans-54\"/>\n       <use x=\"63.623047\" xlink:href=\"#DejaVuSans-48\"/>\n      </g>\n     </g>\n    </g>\n    <g id=\"xtick_5\">\n     <g id=\"line2d_5\">\n      <g>\n       <use style=\"stroke:#000000;stroke-width:0.8;\" x=\"247.838115\" xlink:href=\"#m32091612bf\" y=\"97.443481\"/>\n      </g>\n     </g>\n     <g id=\"text_5\">\n      <!-- 80 -->\n      <defs>\n       <path d=\"M 31.78125 34.625 \nQ 24.75 34.625 20.71875 30.859375 \nQ 16.703125 27.09375 16.703125 20.515625 \nQ 16.703125 13.921875 20.71875 10.15625 \nQ 24.75 6.390625 31.78125 6.390625 \nQ 38.8125 6.390625 42.859375 10.171875 \nQ 46.921875 13.96875 46.921875 20.515625 \nQ 46.921875 27.09375 42.890625 30.859375 \nQ 38.875 34.625 31.78125 34.625 \nz\nM 21.921875 38.8125 \nQ 15.578125 40.375 12.03125 44.71875 \nQ 8.5 49.078125 8.5 55.328125 \nQ 8.5 64.0625 14.71875 69.140625 \nQ 20.953125 74.21875 31.78125 74.21875 \nQ 42.671875 74.21875 48.875 69.140625 \nQ 55.078125 64.0625 55.078125 55.328125 \nQ 55.078125 49.078125 51.53125 44.71875 \nQ 48 40.375 41.703125 38.8125 \nQ 48.828125 37.15625 52.796875 32.3125 \nQ 56.78125 27.484375 56.78125 20.515625 \nQ 56.78125 9.90625 50.3125 4.234375 \nQ 43.84375 -1.421875 31.78125 -1.421875 \nQ 19.734375 -1.421875 13.25 4.234375 \nQ 6.78125 9.90625 6.78125 20.515625 \nQ 6.78125 27.484375 10.78125 32.3125 \nQ 14.796875 37.15625 21.921875 38.8125 \nz\nM 18.3125 54.390625 \nQ 18.3125 48.734375 21.84375 45.5625 \nQ 25.390625 42.390625 31.78125 42.390625 \nQ 38.140625 42.390625 41.71875 45.5625 \nQ 45.3125 48.734375 45.3125 54.390625 \nQ 45.3125 60.0625 41.71875 63.234375 \nQ 38.140625 66.40625 31.78125 66.40625 \nQ 25.390625 66.40625 21.84375 63.234375 \nQ 18.3125 60.0625 18.3125 54.390625 \nz\n\" id=\"DejaVuSans-56\"/>\n      </defs>\n      <g transform=\"translate(241.475615 112.041919)scale(0.1 -0.1)\">\n       <use xlink:href=\"#DejaVuSans-56\"/>\n       <use x=\"63.623047\" xlink:href=\"#DejaVuSans-48\"/>\n      </g>\n     </g>\n    </g>\n    <g id=\"xtick_6\">\n     <g id=\"line2d_6\">\n      <g>\n       <use style=\"stroke:#000000;stroke-width:0.8;\" x=\"302.723361\" xlink:href=\"#m32091612bf\" y=\"97.443481\"/>\n      </g>\n     </g>\n     <g id=\"text_6\">\n      <!-- 100 -->\n      <defs>\n       <path d=\"M 12.40625 8.296875 \nL 28.515625 8.296875 \nL 28.515625 63.921875 \nL 10.984375 60.40625 \nL 10.984375 69.390625 \nL 28.421875 72.90625 \nL 38.28125 72.90625 \nL 38.28125 8.296875 \nL 54.390625 8.296875 \nL 54.390625 0 \nL 12.40625 0 \nz\n\" id=\"DejaVuSans-49\"/>\n      </defs>\n      <g transform=\"translate(293.179611 112.041919)scale(0.1 -0.1)\">\n       <use xlink:href=\"#DejaVuSans-49\"/>\n       <use x=\"63.623047\" xlink:href=\"#DejaVuSans-48\"/>\n       <use x=\"127.246094\" xlink:href=\"#DejaVuSans-48\"/>\n      </g>\n     </g>\n    </g>\n    <g id=\"xtick_7\">\n     <g id=\"line2d_7\">\n      <g>\n       <use style=\"stroke:#000000;stroke-width:0.8;\" x=\"357.608607\" xlink:href=\"#m32091612bf\" y=\"97.443481\"/>\n      </g>\n     </g>\n     <g id=\"text_7\">\n      <!-- 120 -->\n      <g transform=\"translate(348.064857 112.041919)scale(0.1 -0.1)\">\n       <use xlink:href=\"#DejaVuSans-49\"/>\n       <use x=\"63.623047\" xlink:href=\"#DejaVuSans-50\"/>\n       <use x=\"127.246094\" xlink:href=\"#DejaVuSans-48\"/>\n      </g>\n     </g>\n    </g>\n   </g>\n   <g id=\"matplotlib.axis_2\">\n    <g id=\"ytick_1\">\n     <g id=\"line2d_8\">\n      <defs>\n       <path d=\"M 0 0 \nL -3.5 0 \n\" id=\"m65845ccdf1\" style=\"stroke:#000000;stroke-width:0.8;\"/>\n      </defs>\n      <g>\n       <use style=\"stroke:#000000;stroke-width:0.8;\" x=\"26.925\" xlink:href=\"#m65845ccdf1\" y=\"10.999219\"/>\n      </g>\n     </g>\n     <g id=\"text_8\">\n      <!-- 0 -->\n      <g transform=\"translate(13.5625 14.798437)scale(0.1 -0.1)\">\n       <use xlink:href=\"#DejaVuSans-48\"/>\n      </g>\n     </g>\n    </g>\n    <g id=\"ytick_2\">\n     <g id=\"line2d_9\">\n      <g>\n       <use style=\"stroke:#000000;stroke-width:0.8;\" x=\"26.925\" xlink:href=\"#m65845ccdf1\" y=\"38.441842\"/>\n      </g>\n     </g>\n     <g id=\"text_9\">\n      <!-- 10 -->\n      <g transform=\"translate(7.2 42.24106)scale(0.1 -0.1)\">\n       <use xlink:href=\"#DejaVuSans-49\"/>\n       <use x=\"63.623047\" xlink:href=\"#DejaVuSans-48\"/>\n      </g>\n     </g>\n    </g>\n    <g id=\"ytick_3\">\n     <g id=\"line2d_10\">\n      <g>\n       <use style=\"stroke:#000000;stroke-width:0.8;\" x=\"26.925\" xlink:href=\"#m65845ccdf1\" y=\"65.884465\"/>\n      </g>\n     </g>\n     <g id=\"text_10\">\n      <!-- 20 -->\n      <g transform=\"translate(7.2 69.683683)scale(0.1 -0.1)\">\n       <use xlink:href=\"#DejaVuSans-50\"/>\n       <use x=\"63.623047\" xlink:href=\"#DejaVuSans-48\"/>\n      </g>\n     </g>\n    </g>\n    <g id=\"ytick_4\">\n     <g id=\"line2d_11\">\n      <g>\n       <use style=\"stroke:#000000;stroke-width:0.8;\" x=\"26.925\" xlink:href=\"#m65845ccdf1\" y=\"93.327088\"/>\n      </g>\n     </g>\n     <g id=\"text_11\">\n      <!-- 30 -->\n      <defs>\n       <path d=\"M 40.578125 39.3125 \nQ 47.65625 37.796875 51.625 33 \nQ 55.609375 28.21875 55.609375 21.1875 \nQ 55.609375 10.40625 48.1875 4.484375 \nQ 40.765625 -1.421875 27.09375 -1.421875 \nQ 22.515625 -1.421875 17.65625 -0.515625 \nQ 12.796875 0.390625 7.625 2.203125 \nL 7.625 11.71875 \nQ 11.71875 9.328125 16.59375 8.109375 \nQ 21.484375 6.890625 26.8125 6.890625 \nQ 36.078125 6.890625 40.9375 10.546875 \nQ 45.796875 14.203125 45.796875 21.1875 \nQ 45.796875 27.640625 41.28125 31.265625 \nQ 36.765625 34.90625 28.71875 34.90625 \nL 20.21875 34.90625 \nL 20.21875 43.015625 \nL 29.109375 43.015625 \nQ 36.375 43.015625 40.234375 45.921875 \nQ 44.09375 48.828125 44.09375 54.296875 \nQ 44.09375 59.90625 40.109375 62.90625 \nQ 36.140625 65.921875 28.71875 65.921875 \nQ 24.65625 65.921875 20.015625 65.03125 \nQ 15.375 64.15625 9.8125 62.3125 \nL 9.8125 71.09375 \nQ 15.4375 72.65625 20.34375 73.4375 \nQ 25.25 74.21875 29.59375 74.21875 \nQ 40.828125 74.21875 47.359375 69.109375 \nQ 53.90625 64.015625 53.90625 55.328125 \nQ 53.90625 49.265625 50.4375 45.09375 \nQ 46.96875 40.921875 40.578125 39.3125 \nz\n\" id=\"DejaVuSans-51\"/>\n      </defs>\n      <g transform=\"translate(7.2 97.126306)scale(0.1 -0.1)\">\n       <use xlink:href=\"#DejaVuSans-51\"/>\n       <use x=\"63.623047\" xlink:href=\"#DejaVuSans-48\"/>\n      </g>\n     </g>\n    </g>\n   </g>\n   <g id=\"patch_3\">\n    <path d=\"M 26.925 97.443481 \nL 26.925 9.627088 \n\" style=\"fill:none;stroke:#000000;stroke-linecap:square;stroke-linejoin:miter;stroke-width:0.8;\"/>\n   </g>\n   <g id=\"patch_4\">\n    <path d=\"M 361.725 97.443481 \nL 361.725 9.627088 \n\" style=\"fill:none;stroke:#000000;stroke-linecap:square;stroke-linejoin:miter;stroke-width:0.8;\"/>\n   </g>\n   <g id=\"patch_5\">\n    <path d=\"M 26.925 97.443481 \nL 361.725 97.443481 \n\" style=\"fill:none;stroke:#000000;stroke-linecap:square;stroke-linejoin:miter;stroke-width:0.8;\"/>\n   </g>\n   <g id=\"patch_6\">\n    <path d=\"M 26.925 9.627088 \nL 361.725 9.627088 \n\" style=\"fill:none;stroke:#000000;stroke-linecap:square;stroke-linejoin:miter;stroke-width:0.8;\"/>\n   </g>\n  </g>\n </g>\n <defs>\n  <clipPath id=\"p8c19e072d3\">\n   <rect height=\"87.816393\" width=\"334.8\" x=\"26.925\" y=\"9.627088\"/>\n  </clipPath>\n </defs>\n</svg>\n",
      "image/png": "[encoded data removed]"
     },
     "metadata": {
      "needs_background": "light"
     }
    },
    {
     "output_type": "stream",
     "name": "stdout",
     "text": "8     1     3     1\n"
    }
   ],
   "source": [
    "import matplotlib.pyplot as plt\n",
    "import numpy as np\n",
    "\n",
    "# functions to show an image\n",
    "\n",
    "\n",
    "def imshow(img):\n",
    "    img = img / 2 + 0.5     # unnormalize\n",
    "    npimg = img.numpy()\n",
    "    plt.imshow(np.transpose(npimg, (1, 2, 0)))\n",
    "    plt.show()\n",
    "\n",
    "\n",
    "#Get some random training images:\n",
    "#Make trainloader iteraterable (over batches, so 4 images are fetched): \n",
    "dataiter = iter(trainloader)\n",
    "#returns random next element:\n",
    "images, labels = dataiter.next()\n",
    "\n",
    "#Show images:\n",
    "imshow(torchvision.utils.make_grid(images))\n",
    "#Print labels:\n",
    "print(' '.join('%5s' % classes[labels[j]] for j in range(4)))\n",
    "\n",
    "#images, labels = dataiter.next"
   ]
  },
  {
   "cell_type": "markdown",
   "metadata": {},
   "source": [
    "## NN architecture"
   ]
  },
  {
   "cell_type": "code",
   "execution_count": 8,
   "metadata": {},
   "outputs": [
    {
     "output_type": "execute_result",
     "data": {
      "text/plain": "Net(\n  (fc1): Linear(in_features=784, out_features=50, bias=True)\n  (fc2): Linear(in_features=50, out_features=50, bias=True)\n  (fc3): Linear(in_features=50, out_features=10, bias=True)\n)"
     },
     "metadata": {},
     "execution_count": 8
    }
   ],
   "source": [
    "#Define CNN architecture:\n",
    "\n",
    "import torch.nn as nn\n",
    "import torch.nn.functional as F\n",
    "\n",
    "#Define Net as child class of nn.Module:\n",
    "class Net(nn.Module):\n",
    "    def __init__(self):\n",
    "        super(Net, self).__init__()\n",
    "        \n",
    "        self.fc1 = nn.Linear(28*28, 50)\n",
    "        self.fc2 = nn.Linear(50, 50)\n",
    "        self.fc3 = nn.Linear(50, 10)\n",
    "\n",
    "    def forward(self, x):\n",
    "        #reshape input data x to be 1*784 vector:\n",
    "        x = x.view(-1, 28 * 28)\n",
    "        x = F.relu(self.fc1(x))\n",
    "        x = F.relu(self.fc2(x))\n",
    "        x = F.log_softmax(self.fc3(x))\n",
    "        return x\n",
    "\n",
    "\n",
    "net = Net()\n",
    "net.to(device)"
   ]
  },
  {
   "cell_type": "markdown",
   "metadata": {},
   "source": [
    "## Loss function"
   ]
  },
  {
   "cell_type": "code",
   "execution_count": 9,
   "metadata": {},
   "outputs": [],
   "source": [
    "#Define Loss function:\n",
    "\n",
    "import torch.optim as optim\n",
    "\n",
    "criterion = nn.NLLLoss()\n",
    "optimizer = optim.SGD(net.parameters(), lr=0.01, momentum=0.5)"
   ]
  },
  {
   "cell_type": "markdown",
   "metadata": {},
   "source": [
    "## Training"
   ]
  },
  {
   "cell_type": "code",
   "execution_count": 10,
   "metadata": {
    "tags": []
   },
   "outputs": [
    {
     "output_type": "stream",
     "name": "stdout",
     "text": "Train Epoch: 1 [3998/60000 (13%)]\tLoss: 0.738985\nTrain Epoch: 1 [7998/60000 (27%)]\tLoss: 0.370905\nTrain Epoch: 1 [11998/60000 (40%)]\tLoss: 0.333343\nTrain Epoch: 1 [15998/60000 (53%)]\tLoss: 0.291035\nTrain Epoch: 1 [19998/60000 (67%)]\tLoss: 0.259213\nTrain Epoch: 1 [23998/60000 (80%)]\tLoss: 0.239909\nTrain Epoch: 1 [27998/60000 (93%)]\tLoss: 0.207426\nTrain Epoch: 2 [3998/60000 (13%)]\tLoss: 0.187909\nTrain Epoch: 2 [7998/60000 (27%)]\tLoss: 0.200968\nTrain Epoch: 2 [11998/60000 (40%)]\tLoss: 0.188403\nTrain Epoch: 2 [15998/60000 (53%)]\tLoss: 0.195353\nTrain Epoch: 2 [19998/60000 (67%)]\tLoss: 0.181245\nTrain Epoch: 2 [23998/60000 (80%)]\tLoss: 0.177897\nTrain Epoch: 2 [27998/60000 (93%)]\tLoss: 0.168188\nFinished Training\nCPU times: user 53.4 s, sys: 6.07 s, total: 59.5 s\nWall time: 1min 3s\n"
    }
   ],
   "source": [
    "%%time\n",
    "\n",
    "#Training:\n",
    "epochs = 2\n",
    "\n",
    "#loop over the dataset \"epochs\" times:\n",
    "for epoch in range(epochs):\n",
    "\n",
    "    running_loss = 0.0\n",
    "    #enumerate(trainloader,0): make trainloader iterable and start the index at 0:\n",
    "    for i, data in enumerate(trainloader, 0):\n",
    "        #get the inputs; data is a list of [inputs, labels]:\n",
    "        inputs, labels = data[0].to(device), data[1].to(device)\n",
    "\n",
    "        inputs = inputs.view(-1, 28 * 28)\n",
    "        \n",
    "        #zero the parameter gradients (just to be save):\n",
    "        optimizer.zero_grad()\n",
    "\n",
    "        #forward:\n",
    "        outputs = net(inputs)\n",
    "\n",
    "        #loss += F.nll_loss(outputs, labels, reduction='sum').item()\n",
    "\n",
    "        #loss:\n",
    "        loss = criterion(outputs, labels)\n",
    "\n",
    "        #backward:\n",
    "        loss.backward()\n",
    "        #optimize:\n",
    "        optimizer.step()\n",
    "\n",
    "        #print statistics:\n",
    "        running_loss += loss.item()\n",
    "\n",
    "        #loss /= len(trainloader.dataset)\n",
    "\n",
    "        #print every 2000 mini-batches:\n",
    "        if i % 2000 == 1999:\n",
    "            print('Train Epoch: {} [{}/{} ({:.0f}%)]\\tLoss: {:.6f}'.format(epoch+1, i * len(data), len(trainloader.dataset), 100. * i / len(trainloader), running_loss / 2000))\n",
    "            running_loss = 0.0\n",
    "\n",
    "print('Finished Training')"
   ]
  },
  {
   "cell_type": "code",
   "execution_count": 11,
   "metadata": {},
   "outputs": [],
   "source": [
    "#Save trained model parameters:\n",
    "\n",
    "PATH = './mnist_nn_net.pth'\n",
    "torch.save(net.state_dict(), PATH)"
   ]
  },
  {
   "cell_type": "markdown",
   "metadata": {},
   "source": [
    "## Calculate accuracy on test set:"
   ]
  },
  {
   "cell_type": "code",
   "execution_count": 12,
   "metadata": {
    "tags": []
   },
   "outputs": [
    {
     "output_type": "stream",
     "name": "stdout",
     "text": "Accuracy of the network on the test images: 95 %\n"
    }
   ],
   "source": [
    "#Count correctly classified images of trained data set:\n",
    "\n",
    "correct = 0\n",
    "total = 0\n",
    "with torch.no_grad():\n",
    "    for data in testloader:\n",
    "        \n",
    "        images, labels = data[0].to(device), data[1].to(device)\n",
    "\n",
    "        #do predicts on test set:\n",
    "        outputs = net(images)\n",
    "        _, predicted = torch.max(outputs.data, 1)\n",
    "        #add the number of predicted images to \"total\", so we can keep track of how many images we have classified so far:\n",
    "        total += labels.size(0)\n",
    "        #add how many of the predicted labels are the same as the ground-truth labels:\n",
    "        #(predicted == labels): predicted is tensor with integers, as well as labels; check if all integers are the same\n",
    "        #(predicted == labels).sum(): sum up of how many were the same\n",
    "        #(predicted == labels).sum().item(): give that number as a single value;\n",
    "        #add it to the number of correctly classified instances:\n",
    "        correct += (predicted == labels).sum().item()\n",
    "\n",
    "#Print percentage of correctly classified instances:\n",
    "print('Accuracy of the network on the test images: %d %%' % (\n",
    "    100 * correct / total))\n"
   ]
  },
  {
   "cell_type": "code",
   "execution_count": 13,
   "metadata": {
    "tags": []
   },
   "outputs": [
    {
     "output_type": "stream",
     "name": "stdout",
     "text": "Accuracy of     0 : 98 %\nAccuracy of     1 : 98 %\nAccuracy of     2 : 91 %\nAccuracy of     3 : 93 %\nAccuracy of     4 : 91 %\nAccuracy of     5 : 94 %\nAccuracy of     6 : 97 %\nAccuracy of     7 : 97 %\nAccuracy of     8 : 96 %\nAccuracy of     9 : 94 %\n"
    }
   ],
   "source": [
    "#Classes that performed well vs. classes that did not perform well:\n",
    "\n",
    "#Initialize lists pf ten values of 0.0:\n",
    "class_correct = list(0. for i in range(10))\n",
    "class_total = list(0. for i in range(10))\n",
    "with torch.no_grad():\n",
    "    for data in testloader:\n",
    "        images, labels = data[0].to(device), data[1].to(device)\n",
    "\n",
    "        #do predictions on test set:\n",
    "        outputs = net(images)\n",
    "        _, predicted = torch.max(outputs, 1)\n",
    "        #store correctly predicted classes (where prediction matches label) in \"c\":\n",
    "        c = (predicted == labels)\n",
    "\n",
    "        for i in range(4):\n",
    "            label = labels[i]\n",
    "            #count up how a certain class was predicted (true of false):\n",
    "            class_correct[label] += c[i].item()\n",
    "            #count up how often this class was predicted:\n",
    "            class_total[label] += 1\n",
    "\n",
    "#Print percentage of correctly classifications of each class:\n",
    "for i in range(10):\n",
    "    print('Accuracy of %5s : %2d %%' % (\n",
    "        classes[i], 100 * class_correct[i] / class_total[i]))"
   ]
  },
  {
   "cell_type": "markdown",
   "metadata": {},
   "source": [
    "## Run predictions on test samples\n",
    "\n",
    "Run these 4 cells below to sample 4 random images of test set (with ground-truth labels) and run the NN predictions on them:"
   ]
  },
  {
   "cell_type": "code",
   "execution_count": 18,
   "metadata": {},
   "outputs": [
    {
     "output_type": "execute_result",
     "data": {
      "text/plain": "<All keys matched successfully>"
     },
     "metadata": {},
     "execution_count": 18
    }
   ],
   "source": [
    "#Load back model:\n",
    "PATH = './mnist_nn_net.pth'\n",
    "\n",
    "net = Net()\n",
    "net.load_state_dict(torch.load(PATH))"
   ]
  },
  {
   "cell_type": "code",
   "execution_count": 19,
   "metadata": {
    "tags": []
   },
   "outputs": [
    {
     "output_type": "display_data",
     "data": {
      "text/plain": "<Figure size 432x288 with 1 Axes>",
      "image/svg+xml": "<?xml version=\"1.0\" encoding=\"utf-8\" standalone=\"no\"?>\n<!DOCTYPE svg PUBLIC \"-//W3C//DTD SVG 1.1//EN\"\n  \"http://www.w3.org/Graphics/SVG/1.1/DTD/svg11.dtd\">\n<!-- Created with matplotlib (https://matplotlib.org/) -->\n<svg height=\"121.321606pt\" version=\"1.1\" viewBox=\"0 0 374.352357 121.321606\" width=\"374.352357pt\" xmlns=\"http://www.w3.org/2000/svg\" xmlns:xlink=\"http://www.w3.org/1999/xlink\">\n <defs>\n  <style type=\"text/css\">\n*{stroke-linecap:butt;stroke-linejoin:round;}\n  </style>\n </defs>\n <g id=\"figure_1\">\n  <g id=\"patch_1\">\n   <path d=\"M -0 121.321606 \nL 374.352357 121.321606 \nL 374.352357 0 \nL -0 0 \nz\n\" style=\"fill:none;\"/>\n  </g>\n  <g id=\"axes_1\">\n   <g id=\"patch_2\">\n    <path d=\"M 26.925 97.443481 \nL 361.725 97.443481 \nL 361.725 9.627088 \nL 26.925 9.627088 \nz\n\" style=\"fill:#ffffff;\"/>\n   </g>\n   <g clip-path=\"url(#p59b6b49145)\">\n    <image height=\"88\" id=\"image6116523f10\" transform=\"scale(1 -1)translate(0 -88)\" width=\"335\" x=\"26.925\" xlink:href=\"data:image/png;base64,\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\" y=\"-9.443481\"/>\n   </g>\n   <g id=\"matplotlib.axis_1\">\n    <g id=\"xtick_1\">\n     <g id=\"line2d_1\">\n      <defs>\n       <path d=\"M 0 0 \nL 0 3.5 \n\" id=\"m021364c5fb\" style=\"stroke:#000000;stroke-width:0.8;\"/>\n      </defs>\n      <g>\n       <use style=\"stroke:#000000;stroke-width:0.8;\" x=\"28.297131\" xlink:href=\"#m021364c5fb\" y=\"97.443481\"/>\n      </g>\n     </g>\n     <g id=\"text_1\">\n      <!-- 0 -->\n      <defs>\n       <path d=\"M 31.78125 66.40625 \nQ 24.171875 66.40625 20.328125 58.90625 \nQ 16.5 51.421875 16.5 36.375 \nQ 16.5 21.390625 20.328125 13.890625 \nQ 24.171875 6.390625 31.78125 6.390625 \nQ 39.453125 6.390625 43.28125 13.890625 \nQ 47.125 21.390625 47.125 36.375 \nQ 47.125 51.421875 43.28125 58.90625 \nQ 39.453125 66.40625 31.78125 66.40625 \nz\nM 31.78125 74.21875 \nQ 44.046875 74.21875 50.515625 64.515625 \nQ 56.984375 54.828125 56.984375 36.375 \nQ 56.984375 17.96875 50.515625 8.265625 \nQ 44.046875 -1.421875 31.78125 -1.421875 \nQ 19.53125 -1.421875 13.0625 8.265625 \nQ 6.59375 17.96875 6.59375 36.375 \nQ 6.59375 54.828125 13.0625 64.515625 \nQ 19.53125 74.21875 31.78125 74.21875 \nz\n\" id=\"DejaVuSans-48\"/>\n      </defs>\n      <g transform=\"translate(25.115881 112.041919)scale(0.1 -0.1)\">\n       <use xlink:href=\"#DejaVuSans-48\"/>\n      </g>\n     </g>\n    </g>\n    <g id=\"xtick_2\">\n     <g id=\"line2d_2\">\n      <g>\n       <use style=\"stroke:#000000;stroke-width:0.8;\" x=\"83.182377\" xlink:href=\"#m021364c5fb\" y=\"97.443481\"/>\n      </g>\n     </g>\n     <g id=\"text_2\">\n      <!-- 20 -->\n      <defs>\n       <path d=\"M 19.1875 8.296875 \nL 53.609375 8.296875 \nL 53.609375 0 \nL 7.328125 0 \nL 7.328125 8.296875 \nQ 12.9375 14.109375 22.625 23.890625 \nQ 32.328125 33.6875 34.8125 36.53125 \nQ 39.546875 41.84375 41.421875 45.53125 \nQ 43.3125 49.21875 43.3125 52.78125 \nQ 43.3125 58.59375 39.234375 62.25 \nQ 35.15625 65.921875 28.609375 65.921875 \nQ 23.96875 65.921875 18.8125 64.3125 \nQ 13.671875 62.703125 7.8125 59.421875 \nL 7.8125 69.390625 \nQ 13.765625 71.78125 18.9375 73 \nQ 24.125 74.21875 28.421875 74.21875 \nQ 39.75 74.21875 46.484375 68.546875 \nQ 53.21875 62.890625 53.21875 53.421875 \nQ 53.21875 48.921875 51.53125 44.890625 \nQ 49.859375 40.875 45.40625 35.40625 \nQ 44.1875 33.984375 37.640625 27.21875 \nQ 31.109375 20.453125 19.1875 8.296875 \nz\n\" id=\"DejaVuSans-50\"/>\n      </defs>\n      <g transform=\"translate(76.819877 112.041919)scale(0.1 -0.1)\">\n       <use xlink:href=\"#DejaVuSans-50\"/>\n       <use x=\"63.623047\" xlink:href=\"#DejaVuSans-48\"/>\n      </g>\n     </g>\n    </g>\n    <g id=\"xtick_3\">\n     <g id=\"line2d_3\">\n      <g>\n       <use style=\"stroke:#000000;stroke-width:0.8;\" x=\"138.067623\" xlink:href=\"#m021364c5fb\" y=\"97.443481\"/>\n      </g>\n     </g>\n     <g id=\"text_3\">\n      <!-- 40 -->\n      <defs>\n       <path d=\"M 37.796875 64.3125 \nL 12.890625 25.390625 \nL 37.796875 25.390625 \nz\nM 35.203125 72.90625 \nL 47.609375 72.90625 \nL 47.609375 25.390625 \nL 58.015625 25.390625 \nL 58.015625 17.1875 \nL 47.609375 17.1875 \nL 47.609375 0 \nL 37.796875 0 \nL 37.796875 17.1875 \nL 4.890625 17.1875 \nL 4.890625 26.703125 \nz\n\" id=\"DejaVuSans-52\"/>\n      </defs>\n      <g transform=\"translate(131.705123 112.041919)scale(0.1 -0.1)\">\n       <use xlink:href=\"#DejaVuSans-52\"/>\n       <use x=\"63.623047\" xlink:href=\"#DejaVuSans-48\"/>\n      </g>\n     </g>\n    </g>\n    <g id=\"xtick_4\">\n     <g id=\"line2d_4\">\n      <g>\n       <use style=\"stroke:#000000;stroke-width:0.8;\" x=\"192.952869\" xlink:href=\"#m021364c5fb\" y=\"97.443481\"/>\n      </g>\n     </g>\n     <g id=\"text_4\">\n      <!-- 60 -->\n      <defs>\n       <path d=\"M 33.015625 40.375 \nQ 26.375 40.375 22.484375 35.828125 \nQ 18.609375 31.296875 18.609375 23.390625 \nQ 18.609375 15.53125 22.484375 10.953125 \nQ 26.375 6.390625 33.015625 6.390625 \nQ 39.65625 6.390625 43.53125 10.953125 \nQ 47.40625 15.53125 47.40625 23.390625 \nQ 47.40625 31.296875 43.53125 35.828125 \nQ 39.65625 40.375 33.015625 40.375 \nz\nM 52.59375 71.296875 \nL 52.59375 62.3125 \nQ 48.875 64.0625 45.09375 64.984375 \nQ 41.3125 65.921875 37.59375 65.921875 \nQ 27.828125 65.921875 22.671875 59.328125 \nQ 17.53125 52.734375 16.796875 39.40625 \nQ 19.671875 43.65625 24.015625 45.921875 \nQ 28.375 48.1875 33.59375 48.1875 \nQ 44.578125 48.1875 50.953125 41.515625 \nQ 57.328125 34.859375 57.328125 23.390625 \nQ 57.328125 12.15625 50.6875 5.359375 \nQ 44.046875 -1.421875 33.015625 -1.421875 \nQ 20.359375 -1.421875 13.671875 8.265625 \nQ 6.984375 17.96875 6.984375 36.375 \nQ 6.984375 53.65625 15.1875 63.9375 \nQ 23.390625 74.21875 37.203125 74.21875 \nQ 40.921875 74.21875 44.703125 73.484375 \nQ 48.484375 72.75 52.59375 71.296875 \nz\n\" id=\"DejaVuSans-54\"/>\n      </defs>\n      <g transform=\"translate(186.590369 112.041919)scale(0.1 -0.1)\">\n       <use xlink:href=\"#DejaVuSans-54\"/>\n       <use x=\"63.623047\" xlink:href=\"#DejaVuSans-48\"/>\n      </g>\n     </g>\n    </g>\n    <g id=\"xtick_5\">\n     <g id=\"line2d_5\">\n      <g>\n       <use style=\"stroke:#000000;stroke-width:0.8;\" x=\"247.838115\" xlink:href=\"#m021364c5fb\" y=\"97.443481\"/>\n      </g>\n     </g>\n     <g id=\"text_5\">\n      <!-- 80 -->\n      <defs>\n       <path d=\"M 31.78125 34.625 \nQ 24.75 34.625 20.71875 30.859375 \nQ 16.703125 27.09375 16.703125 20.515625 \nQ 16.703125 13.921875 20.71875 10.15625 \nQ 24.75 6.390625 31.78125 6.390625 \nQ 38.8125 6.390625 42.859375 10.171875 \nQ 46.921875 13.96875 46.921875 20.515625 \nQ 46.921875 27.09375 42.890625 30.859375 \nQ 38.875 34.625 31.78125 34.625 \nz\nM 21.921875 38.8125 \nQ 15.578125 40.375 12.03125 44.71875 \nQ 8.5 49.078125 8.5 55.328125 \nQ 8.5 64.0625 14.71875 69.140625 \nQ 20.953125 74.21875 31.78125 74.21875 \nQ 42.671875 74.21875 48.875 69.140625 \nQ 55.078125 64.0625 55.078125 55.328125 \nQ 55.078125 49.078125 51.53125 44.71875 \nQ 48 40.375 41.703125 38.8125 \nQ 48.828125 37.15625 52.796875 32.3125 \nQ 56.78125 27.484375 56.78125 20.515625 \nQ 56.78125 9.90625 50.3125 4.234375 \nQ 43.84375 -1.421875 31.78125 -1.421875 \nQ 19.734375 -1.421875 13.25 4.234375 \nQ 6.78125 9.90625 6.78125 20.515625 \nQ 6.78125 27.484375 10.78125 32.3125 \nQ 14.796875 37.15625 21.921875 38.8125 \nz\nM 18.3125 54.390625 \nQ 18.3125 48.734375 21.84375 45.5625 \nQ 25.390625 42.390625 31.78125 42.390625 \nQ 38.140625 42.390625 41.71875 45.5625 \nQ 45.3125 48.734375 45.3125 54.390625 \nQ 45.3125 60.0625 41.71875 63.234375 \nQ 38.140625 66.40625 31.78125 66.40625 \nQ 25.390625 66.40625 21.84375 63.234375 \nQ 18.3125 60.0625 18.3125 54.390625 \nz\n\" id=\"DejaVuSans-56\"/>\n      </defs>\n      <g transform=\"translate(241.475615 112.041919)scale(0.1 -0.1)\">\n       <use xlink:href=\"#DejaVuSans-56\"/>\n       <use x=\"63.623047\" xlink:href=\"#DejaVuSans-48\"/>\n      </g>\n     </g>\n    </g>\n    <g id=\"xtick_6\">\n     <g id=\"line2d_6\">\n      <g>\n       <use style=\"stroke:#000000;stroke-width:0.8;\" x=\"302.723361\" xlink:href=\"#m021364c5fb\" y=\"97.443481\"/>\n      </g>\n     </g>\n     <g id=\"text_6\">\n      <!-- 100 -->\n      <defs>\n       <path d=\"M 12.40625 8.296875 \nL 28.515625 8.296875 \nL 28.515625 63.921875 \nL 10.984375 60.40625 \nL 10.984375 69.390625 \nL 28.421875 72.90625 \nL 38.28125 72.90625 \nL 38.28125 8.296875 \nL 54.390625 8.296875 \nL 54.390625 0 \nL 12.40625 0 \nz\n\" id=\"DejaVuSans-49\"/>\n      </defs>\n      <g transform=\"translate(293.179611 112.041919)scale(0.1 -0.1)\">\n       <use xlink:href=\"#DejaVuSans-49\"/>\n       <use x=\"63.623047\" xlink:href=\"#DejaVuSans-48\"/>\n       <use x=\"127.246094\" xlink:href=\"#DejaVuSans-48\"/>\n      </g>\n     </g>\n    </g>\n    <g id=\"xtick_7\">\n     <g id=\"line2d_7\">\n      <g>\n       <use style=\"stroke:#000000;stroke-width:0.8;\" x=\"357.608607\" xlink:href=\"#m021364c5fb\" y=\"97.443481\"/>\n      </g>\n     </g>\n     <g id=\"text_7\">\n      <!-- 120 -->\n      <g transform=\"translate(348.064857 112.041919)scale(0.1 -0.1)\">\n       <use xlink:href=\"#DejaVuSans-49\"/>\n       <use x=\"63.623047\" xlink:href=\"#DejaVuSans-50\"/>\n       <use x=\"127.246094\" xlink:href=\"#DejaVuSans-48\"/>\n      </g>\n     </g>\n    </g>\n   </g>\n   <g id=\"matplotlib.axis_2\">\n    <g id=\"ytick_1\">\n     <g id=\"line2d_8\">\n      <defs>\n       <path d=\"M 0 0 \nL -3.5 0 \n\" id=\"m7736f48322\" style=\"stroke:#000000;stroke-width:0.8;\"/>\n      </defs>\n      <g>\n       <use style=\"stroke:#000000;stroke-width:0.8;\" x=\"26.925\" xlink:href=\"#m7736f48322\" y=\"10.999219\"/>\n      </g>\n     </g>\n     <g id=\"text_8\">\n      <!-- 0 -->\n      <g transform=\"translate(13.5625 14.798437)scale(0.1 -0.1)\">\n       <use xlink:href=\"#DejaVuSans-48\"/>\n      </g>\n     </g>\n    </g>\n    <g id=\"ytick_2\">\n     <g id=\"line2d_9\">\n      <g>\n       <use style=\"stroke:#000000;stroke-width:0.8;\" x=\"26.925\" xlink:href=\"#m7736f48322\" y=\"38.441842\"/>\n      </g>\n     </g>\n     <g id=\"text_9\">\n      <!-- 10 -->\n      <g transform=\"translate(7.2 42.24106)scale(0.1 -0.1)\">\n       <use xlink:href=\"#DejaVuSans-49\"/>\n       <use x=\"63.623047\" xlink:href=\"#DejaVuSans-48\"/>\n      </g>\n     </g>\n    </g>\n    <g id=\"ytick_3\">\n     <g id=\"line2d_10\">\n      <g>\n       <use style=\"stroke:#000000;stroke-width:0.8;\" x=\"26.925\" xlink:href=\"#m7736f48322\" y=\"65.884465\"/>\n      </g>\n     </g>\n     <g id=\"text_10\">\n      <!-- 20 -->\n      <g transform=\"translate(7.2 69.683683)scale(0.1 -0.1)\">\n       <use xlink:href=\"#DejaVuSans-50\"/>\n       <use x=\"63.623047\" xlink:href=\"#DejaVuSans-48\"/>\n      </g>\n     </g>\n    </g>\n    <g id=\"ytick_4\">\n     <g id=\"line2d_11\">\n      <g>\n       <use style=\"stroke:#000000;stroke-width:0.8;\" x=\"26.925\" xlink:href=\"#m7736f48322\" y=\"93.327088\"/>\n      </g>\n     </g>\n     <g id=\"text_11\">\n      <!-- 30 -->\n      <defs>\n       <path d=\"M 40.578125 39.3125 \nQ 47.65625 37.796875 51.625 33 \nQ 55.609375 28.21875 55.609375 21.1875 \nQ 55.609375 10.40625 48.1875 4.484375 \nQ 40.765625 -1.421875 27.09375 -1.421875 \nQ 22.515625 -1.421875 17.65625 -0.515625 \nQ 12.796875 0.390625 7.625 2.203125 \nL 7.625 11.71875 \nQ 11.71875 9.328125 16.59375 8.109375 \nQ 21.484375 6.890625 26.8125 6.890625 \nQ 36.078125 6.890625 40.9375 10.546875 \nQ 45.796875 14.203125 45.796875 21.1875 \nQ 45.796875 27.640625 41.28125 31.265625 \nQ 36.765625 34.90625 28.71875 34.90625 \nL 20.21875 34.90625 \nL 20.21875 43.015625 \nL 29.109375 43.015625 \nQ 36.375 43.015625 40.234375 45.921875 \nQ 44.09375 48.828125 44.09375 54.296875 \nQ 44.09375 59.90625 40.109375 62.90625 \nQ 36.140625 65.921875 28.71875 65.921875 \nQ 24.65625 65.921875 20.015625 65.03125 \nQ 15.375 64.15625 9.8125 62.3125 \nL 9.8125 71.09375 \nQ 15.4375 72.65625 20.34375 73.4375 \nQ 25.25 74.21875 29.59375 74.21875 \nQ 40.828125 74.21875 47.359375 69.109375 \nQ 53.90625 64.015625 53.90625 55.328125 \nQ 53.90625 49.265625 50.4375 45.09375 \nQ 46.96875 40.921875 40.578125 39.3125 \nz\n\" id=\"DejaVuSans-51\"/>\n      </defs>\n      <g transform=\"translate(7.2 97.126306)scale(0.1 -0.1)\">\n       <use xlink:href=\"#DejaVuSans-51\"/>\n       <use x=\"63.623047\" xlink:href=\"#DejaVuSans-48\"/>\n      </g>\n     </g>\n    </g>\n   </g>\n   <g id=\"patch_3\">\n    <path d=\"M 26.925 97.443481 \nL 26.925 9.627088 \n\" style=\"fill:none;stroke:#000000;stroke-linecap:square;stroke-linejoin:miter;stroke-width:0.8;\"/>\n   </g>\n   <g id=\"patch_4\">\n    <path d=\"M 361.725 97.443481 \nL 361.725 9.627088 \n\" style=\"fill:none;stroke:#000000;stroke-linecap:square;stroke-linejoin:miter;stroke-width:0.8;\"/>\n   </g>\n   <g id=\"patch_5\">\n    <path d=\"M 26.925 97.443481 \nL 361.725 97.443481 \n\" style=\"fill:none;stroke:#000000;stroke-linecap:square;stroke-linejoin:miter;stroke-width:0.8;\"/>\n   </g>\n   <g id=\"patch_6\">\n    <path d=\"M 26.925 9.627088 \nL 361.725 9.627088 \n\" style=\"fill:none;stroke:#000000;stroke-linecap:square;stroke-linejoin:miter;stroke-width:0.8;\"/>\n   </g>\n  </g>\n </g>\n <defs>\n  <clipPath id=\"p59b6b49145\">\n   <rect height=\"87.816393\" width=\"334.8\" x=\"26.925\" y=\"9.627088\"/>\n  </clipPath>\n </defs>\n</svg>\n",
      "image/png": "[encoded data removed]"
     },
     "metadata": {
      "needs_background": "light"
     }
    },
    {
     "output_type": "stream",
     "name": "stdout",
     "text": "GroundTruth:      0     4     6     3\n"
    }
   ],
   "source": [
    "#Fetch random batch image of test set:\n",
    "\n",
    "dataiter = iter(testloader)\n",
    "images, labels = dataiter.next()\n",
    "\n",
    "#Show images:\n",
    "imshow(torchvision.utils.make_grid(images))\n",
    "print('GroundTruth: ', ' '.join('%5s' % classes[labels[j]] for j in range(4)))"
   ]
  },
  {
   "cell_type": "code",
   "execution_count": 20,
   "metadata": {},
   "outputs": [],
   "source": [
    "#Run predictions:\n",
    "\n",
    "#this returns one-hot-encoding:\n",
    "outputs = net(images)"
   ]
  },
  {
   "cell_type": "code",
   "execution_count": 21,
   "metadata": {
    "tags": []
   },
   "outputs": [
    {
     "output_type": "stream",
     "name": "stdout",
     "text": "Predicted:      0     4     6     3\n"
    }
   ],
   "source": [
    "#max(outputs,1) will give the indices of the max values of the one-hot-encoding (our predictions), and also a gradient object that we ignore by storing in \"_\":\n",
    "_ , predicted = torch.max(outputs, 1)\n",
    "\n",
    "print('Predicted: ', ' '.join('%5s' % classes[predicted[j]] for j in range(4)))"
   ]
  }
 ],
 "metadata": {
  "language_info": {
   "codemirror_mode": {
    "name": "ipython",
    "version": 3
   },
   "file_extension": ".py",
   "mimetype": "text/x-python",
   "name": "python",
   "nbconvert_exporter": "python",
   "pygments_lexer": "ipython3",
   "version": "3.8.3-final"
  },
  "orig_nbformat": 2,
  "kernelspec": {
   "name": "python38364bitenvdlcondaac906d774a66413a80b27a36627fa0d1",
   "display_name": "Python 3.8.3 64-bit ('env_dl': conda)"
  }
 },
 "nbformat": 4,
 "nbformat_minor": 2
}