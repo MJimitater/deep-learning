{
 "cells": [
  {
   "cell_type": "markdown",
   "metadata": {},
   "source": [
    "## MNIST data set download/import"
   ]
  },
  {
   "cell_type": "code",
   "execution_count": 1,
   "metadata": {
    "tags": []
   },
   "outputs": [
    {
     "output_type": "stream",
     "name": "stdout",
     "text": "cuda:0\n"
    }
   ],
   "source": [
    "import torch\n",
    "import torchvision\n",
    "import torchvision.transforms as transforms\n",
    "import numpy as np\n",
    "\n",
    "\n",
    "#Select NVIDIA if available, otherwise cpu:\n",
    "#device = torch.device(\"cuda:0\" if torch.cuda.is_available() else \"cpu\")\n",
    "\n",
    "device = torch.device(\"cuda:0\")\n",
    "#device = torch.device(\"cpu\")\n",
    "\n",
    "print(device)"
   ]
  },
  {
   "cell_type": "code",
   "execution_count": 2,
   "metadata": {},
   "outputs": [],
   "source": [
    "#Common image transformations:\n",
    "transform = transforms.Compose(\n",
    "    #convert PIL image to tensor array:\n",
    "    [transforms.ToTensor(),\n",
    "    #each of the three pixel maps is centered to have mean 0.5 and std 0.5:\n",
    "     transforms.Normalize((0.5,), (0.5,))])\n",
    "\n",
    "#Download MNIST data:\n",
    "#root: where data to be stored, if not exists already\n",
    "#train=True: data is used for training (otherwise test set is created)\n",
    "#download=True: downloads data, if not exists in root already\n",
    "#transform: applies transformations to image\n",
    "trainset = torchvision.datasets.MNIST(root='./data', train=True, download=True, transform=transform)\n",
    "\n",
    "#Dataloader makes dataset an iterable object\n",
    "#batch_size: how many samples per batch to load\n",
    "#shuffle: have data reshuffled at every epoch\n",
    "#num_workers: how many subprocesses to use for data loading (0 means data is loaded into main process)\n",
    "trainloader = torch.utils.data.DataLoader(trainset, batch_size=4, shuffle=True, num_workers=2)\n",
    "\n",
    "#Load test data set:\n",
    "testset = torchvision.datasets.MNIST(root='./data', train=False,\n",
    "                                       download=True, transform=transform)\n",
    "#Dataloader for test set:\n",
    "testloader = torch.utils.data.DataLoader(testset, batch_size=4,\n",
    "                                         shuffle=True, num_workers=2)\n",
    "\n",
    "#Set classes:\n",
    "#class_label[0]=0, ..., class_label[9]=9:\n",
    "classes = (0,1,2,3,4,5,6,7,8,9)"
   ]
  },
  {
   "cell_type": "markdown",
   "metadata": {},
   "source": [
    "Exploring data set:"
   ]
  },
  {
   "cell_type": "code",
   "execution_count": 3,
   "metadata": {},
   "outputs": [
    {
     "output_type": "execute_result",
     "data": {
      "text/plain": "torch.Size([60000, 28, 28])"
     },
     "metadata": {},
     "execution_count": 3
    }
   ],
   "source": [
    "trainloader.dataset.data.shape"
   ]
  },
  {
   "cell_type": "code",
   "execution_count": 4,
   "metadata": {},
   "outputs": [
    {
     "output_type": "execute_result",
     "data": {
      "text/plain": "['0 - zero',\n '1 - one',\n '2 - two',\n '3 - three',\n '4 - four',\n '5 - five',\n '6 - six',\n '7 - seven',\n '8 - eight',\n '9 - nine']"
     },
     "metadata": {},
     "execution_count": 4
    }
   ],
   "source": [
    "trainset.classes"
   ]
  },
  {
   "cell_type": "markdown",
   "metadata": {},
   "source": [
    "Exploring test set:"
   ]
  },
  {
   "cell_type": "code",
   "execution_count": 5,
   "metadata": {},
   "outputs": [
    {
     "output_type": "execute_result",
     "data": {
      "text/plain": "torch.Size([10000, 28, 28])"
     },
     "metadata": {},
     "execution_count": 5
    }
   ],
   "source": [
    "testloader.dataset.data.shape"
   ]
  },
  {
   "cell_type": "code",
   "execution_count": 6,
   "metadata": {
    "tags": []
   },
   "outputs": [
    {
     "output_type": "stream",
     "name": "stdout",
     "text": "Class 0 has 5923 training images and 980 test images\nClass 1 has 6742 training images and 1135 test images\nClass 2 has 5958 training images and 1032 test images\nClass 3 has 6131 training images and 1010 test images\nClass 4 has 5842 training images and 982 test images\nClass 5 has 5421 training images and 892 test images\nClass 6 has 5918 training images and 958 test images\nClass 7 has 6265 training images and 1028 test images\nClass 8 has 5851 training images and 974 test images\nClass 9 has 5949 training images and 1009 test images\n"
    }
   ],
   "source": [
    "for i in np.unique(np.asarray(trainloader.dataset.targets)):\n",
    "    print(\"Class {0} has {1} training images and {2} test images\".format(i, (trainloader.dataset.targets == i).sum(), (testloader.dataset.targets == i).sum()))"
   ]
  },
  {
   "cell_type": "markdown",
   "metadata": {},
   "source": [
    "## Sample example image batch"
   ]
  },
  {
   "cell_type": "code",
   "execution_count": 7,
   "metadata": {
    "tags": []
   },
   "outputs": [
    {
     "output_type": "display_data",
     "data": {
      "text/plain": "<Figure size 432x288 with 1 Axes>",
      "image/svg+xml": "<?xml version=\"1.0\" encoding=\"utf-8\" standalone=\"no\"?>\n<!DOCTYPE svg PUBLIC \"-//W3C//DTD SVG 1.1//EN\"\n  \"http://www.w3.org/Graphics/SVG/1.1/DTD/svg11.dtd\">\n<!-- Created with matplotlib (https://matplotlib.org/) -->\n<svg height=\"121.321606pt\" version=\"1.1\" viewBox=\"0 0 374.352357 121.321606\" width=\"374.352357pt\" xmlns=\"http://www.w3.org/2000/svg\" xmlns:xlink=\"http://www.w3.org/1999/xlink\">\n <defs>\n  <style type=\"text/css\">\n*{stroke-linecap:butt;stroke-linejoin:round;}\n  </style>\n </defs>\n <g id=\"figure_1\">\n  <g id=\"patch_1\">\n   <path d=\"M -0 121.321606 \nL 374.352357 121.321606 \nL 374.352357 0 \nL -0 0 \nz\n\" style=\"fill:none;\"/>\n  </g>\n  <g id=\"axes_1\">\n   <g id=\"patch_2\">\n    <path d=\"M 26.925 97.443481 \nL 361.725 97.443481 \nL 361.725 9.627088 \nL 26.925 9.627088 \nz\n\" style=\"fill:#ffffff;\"/>\n   </g>\n   <g clip-path=\"url(#p49f4e0f0ba)\">\n    <image height=\"88\" id=\"imaged5ca19fe53\" transform=\"scale(1 -1)translate(0 -88)\" width=\"335\" x=\"26.925\" xlink:href=\"data:image/png;base64,\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\" y=\"-9.443481\"/>\n   </g>\n   <g id=\"matplotlib.axis_1\">\n    <g id=\"xtick_1\">\n     <g id=\"line2d_1\">\n      <defs>\n       <path d=\"M 0 0 \nL 0 3.5 \n\" id=\"mbba0587dff\" style=\"stroke:#000000;stroke-width:0.8;\"/>\n      </defs>\n      <g>\n       <use style=\"stroke:#000000;stroke-width:0.8;\" x=\"28.297131\" xlink:href=\"#mbba0587dff\" y=\"97.443481\"/>\n      </g>\n     </g>\n     <g id=\"text_1\">\n      <!-- 0 -->\n      <defs>\n       <path d=\"M 31.78125 66.40625 \nQ 24.171875 66.40625 20.328125 58.90625 \nQ 16.5 51.421875 16.5 36.375 \nQ 16.5 21.390625 20.328125 13.890625 \nQ 24.171875 6.390625 31.78125 6.390625 \nQ 39.453125 6.390625 43.28125 13.890625 \nQ 47.125 21.390625 47.125 36.375 \nQ 47.125 51.421875 43.28125 58.90625 \nQ 39.453125 66.40625 31.78125 66.40625 \nz\nM 31.78125 74.21875 \nQ 44.046875 74.21875 50.515625 64.515625 \nQ 56.984375 54.828125 56.984375 36.375 \nQ 56.984375 17.96875 50.515625 8.265625 \nQ 44.046875 -1.421875 31.78125 -1.421875 \nQ 19.53125 -1.421875 13.0625 8.265625 \nQ 6.59375 17.96875 6.59375 36.375 \nQ 6.59375 54.828125 13.0625 64.515625 \nQ 19.53125 74.21875 31.78125 74.21875 \nz\n\" id=\"DejaVuSans-48\"/>\n      </defs>\n      <g transform=\"translate(25.115881 112.041919)scale(0.1 -0.1)\">\n       <use xlink:href=\"#DejaVuSans-48\"/>\n      </g>\n     </g>\n    </g>\n    <g id=\"xtick_2\">\n     <g id=\"line2d_2\">\n      <g>\n       <use style=\"stroke:#000000;stroke-width:0.8;\" x=\"83.182377\" xlink:href=\"#mbba0587dff\" y=\"97.443481\"/>\n      </g>\n     </g>\n     <g id=\"text_2\">\n      <!-- 20 -->\n      <defs>\n       <path d=\"M 19.1875 8.296875 \nL 53.609375 8.296875 \nL 53.609375 0 \nL 7.328125 0 \nL 7.328125 8.296875 \nQ 12.9375 14.109375 22.625 23.890625 \nQ 32.328125 33.6875 34.8125 36.53125 \nQ 39.546875 41.84375 41.421875 45.53125 \nQ 43.3125 49.21875 43.3125 52.78125 \nQ 43.3125 58.59375 39.234375 62.25 \nQ 35.15625 65.921875 28.609375 65.921875 \nQ 23.96875 65.921875 18.8125 64.3125 \nQ 13.671875 62.703125 7.8125 59.421875 \nL 7.8125 69.390625 \nQ 13.765625 71.78125 18.9375 73 \nQ 24.125 74.21875 28.421875 74.21875 \nQ 39.75 74.21875 46.484375 68.546875 \nQ 53.21875 62.890625 53.21875 53.421875 \nQ 53.21875 48.921875 51.53125 44.890625 \nQ 49.859375 40.875 45.40625 35.40625 \nQ 44.1875 33.984375 37.640625 27.21875 \nQ 31.109375 20.453125 19.1875 8.296875 \nz\n\" id=\"DejaVuSans-50\"/>\n      </defs>\n      <g transform=\"translate(76.819877 112.041919)scale(0.1 -0.1)\">\n       <use xlink:href=\"#DejaVuSans-50\"/>\n       <use x=\"63.623047\" xlink:href=\"#DejaVuSans-48\"/>\n      </g>\n     </g>\n    </g>\n    <g id=\"xtick_3\">\n     <g id=\"line2d_3\">\n      <g>\n       <use style=\"stroke:#000000;stroke-width:0.8;\" x=\"138.067623\" xlink:href=\"#mbba0587dff\" y=\"97.443481\"/>\n      </g>\n     </g>\n     <g id=\"text_3\">\n      <!-- 40 -->\n      <defs>\n       <path d=\"M 37.796875 64.3125 \nL 12.890625 25.390625 \nL 37.796875 25.390625 \nz\nM 35.203125 72.90625 \nL 47.609375 72.90625 \nL 47.609375 25.390625 \nL 58.015625 25.390625 \nL 58.015625 17.1875 \nL 47.609375 17.1875 \nL 47.609375 0 \nL 37.796875 0 \nL 37.796875 17.1875 \nL 4.890625 17.1875 \nL 4.890625 26.703125 \nz\n\" id=\"DejaVuSans-52\"/>\n      </defs>\n      <g transform=\"translate(131.705123 112.041919)scale(0.1 -0.1)\">\n       <use xlink:href=\"#DejaVuSans-52\"/>\n       <use x=\"63.623047\" xlink:href=\"#DejaVuSans-48\"/>\n      </g>\n     </g>\n    </g>\n    <g id=\"xtick_4\">\n     <g id=\"line2d_4\">\n      <g>\n       <use style=\"stroke:#000000;stroke-width:0.8;\" x=\"192.952869\" xlink:href=\"#mbba0587dff\" y=\"97.443481\"/>\n      </g>\n     </g>\n     <g id=\"text_4\">\n      <!-- 60 -->\n      <defs>\n       <path d=\"M 33.015625 40.375 \nQ 26.375 40.375 22.484375 35.828125 \nQ 18.609375 31.296875 18.609375 23.390625 \nQ 18.609375 15.53125 22.484375 10.953125 \nQ 26.375 6.390625 33.015625 6.390625 \nQ 39.65625 6.390625 43.53125 10.953125 \nQ 47.40625 15.53125 47.40625 23.390625 \nQ 47.40625 31.296875 43.53125 35.828125 \nQ 39.65625 40.375 33.015625 40.375 \nz\nM 52.59375 71.296875 \nL 52.59375 62.3125 \nQ 48.875 64.0625 45.09375 64.984375 \nQ 41.3125 65.921875 37.59375 65.921875 \nQ 27.828125 65.921875 22.671875 59.328125 \nQ 17.53125 52.734375 16.796875 39.40625 \nQ 19.671875 43.65625 24.015625 45.921875 \nQ 28.375 48.1875 33.59375 48.1875 \nQ 44.578125 48.1875 50.953125 41.515625 \nQ 57.328125 34.859375 57.328125 23.390625 \nQ 57.328125 12.15625 50.6875 5.359375 \nQ 44.046875 -1.421875 33.015625 -1.421875 \nQ 20.359375 -1.421875 13.671875 8.265625 \nQ 6.984375 17.96875 6.984375 36.375 \nQ 6.984375 53.65625 15.1875 63.9375 \nQ 23.390625 74.21875 37.203125 74.21875 \nQ 40.921875 74.21875 44.703125 73.484375 \nQ 48.484375 72.75 52.59375 71.296875 \nz\n\" id=\"DejaVuSans-54\"/>\n      </defs>\n      <g transform=\"translate(186.590369 112.041919)scale(0.1 -0.1)\">\n       <use xlink:href=\"#DejaVuSans-54\"/>\n       <use x=\"63.623047\" xlink:href=\"#DejaVuSans-48\"/>\n      </g>\n     </g>\n    </g>\n    <g id=\"xtick_5\">\n     <g id=\"line2d_5\">\n      <g>\n       <use style=\"stroke:#000000;stroke-width:0.8;\" x=\"247.838115\" xlink:href=\"#mbba0587dff\" y=\"97.443481\"/>\n      </g>\n     </g>\n     <g id=\"text_5\">\n      <!-- 80 -->\n      <defs>\n       <path d=\"M 31.78125 34.625 \nQ 24.75 34.625 20.71875 30.859375 \nQ 16.703125 27.09375 16.703125 20.515625 \nQ 16.703125 13.921875 20.71875 10.15625 \nQ 24.75 6.390625 31.78125 6.390625 \nQ 38.8125 6.390625 42.859375 10.171875 \nQ 46.921875 13.96875 46.921875 20.515625 \nQ 46.921875 27.09375 42.890625 30.859375 \nQ 38.875 34.625 31.78125 34.625 \nz\nM 21.921875 38.8125 \nQ 15.578125 40.375 12.03125 44.71875 \nQ 8.5 49.078125 8.5 55.328125 \nQ 8.5 64.0625 14.71875 69.140625 \nQ 20.953125 74.21875 31.78125 74.21875 \nQ 42.671875 74.21875 48.875 69.140625 \nQ 55.078125 64.0625 55.078125 55.328125 \nQ 55.078125 49.078125 51.53125 44.71875 \nQ 48 40.375 41.703125 38.8125 \nQ 48.828125 37.15625 52.796875 32.3125 \nQ 56.78125 27.484375 56.78125 20.515625 \nQ 56.78125 9.90625 50.3125 4.234375 \nQ 43.84375 -1.421875 31.78125 -1.421875 \nQ 19.734375 -1.421875 13.25 4.234375 \nQ 6.78125 9.90625 6.78125 20.515625 \nQ 6.78125 27.484375 10.78125 32.3125 \nQ 14.796875 37.15625 21.921875 38.8125 \nz\nM 18.3125 54.390625 \nQ 18.3125 48.734375 21.84375 45.5625 \nQ 25.390625 42.390625 31.78125 42.390625 \nQ 38.140625 42.390625 41.71875 45.5625 \nQ 45.3125 48.734375 45.3125 54.390625 \nQ 45.3125 60.0625 41.71875 63.234375 \nQ 38.140625 66.40625 31.78125 66.40625 \nQ 25.390625 66.40625 21.84375 63.234375 \nQ 18.3125 60.0625 18.3125 54.390625 \nz\n\" id=\"DejaVuSans-56\"/>\n      </defs>\n      <g transform=\"translate(241.475615 112.041919)scale(0.1 -0.1)\">\n       <use xlink:href=\"#DejaVuSans-56\"/>\n       <use x=\"63.623047\" xlink:href=\"#DejaVuSans-48\"/>\n      </g>\n     </g>\n    </g>\n    <g id=\"xtick_6\">\n     <g id=\"line2d_6\">\n      <g>\n       <use style=\"stroke:#000000;stroke-width:0.8;\" x=\"302.723361\" xlink:href=\"#mbba0587dff\" y=\"97.443481\"/>\n      </g>\n     </g>\n     <g id=\"text_6\">\n      <!-- 100 -->\n      <defs>\n       <path d=\"M 12.40625 8.296875 \nL 28.515625 8.296875 \nL 28.515625 63.921875 \nL 10.984375 60.40625 \nL 10.984375 69.390625 \nL 28.421875 72.90625 \nL 38.28125 72.90625 \nL 38.28125 8.296875 \nL 54.390625 8.296875 \nL 54.390625 0 \nL 12.40625 0 \nz\n\" id=\"DejaVuSans-49\"/>\n      </defs>\n      <g transform=\"translate(293.179611 112.041919)scale(0.1 -0.1)\">\n       <use xlink:href=\"#DejaVuSans-49\"/>\n       <use x=\"63.623047\" xlink:href=\"#DejaVuSans-48\"/>\n       <use x=\"127.246094\" xlink:href=\"#DejaVuSans-48\"/>\n      </g>\n     </g>\n    </g>\n    <g id=\"xtick_7\">\n     <g id=\"line2d_7\">\n      <g>\n       <use style=\"stroke:#000000;stroke-width:0.8;\" x=\"357.608607\" xlink:href=\"#mbba0587dff\" y=\"97.443481\"/>\n      </g>\n     </g>\n     <g id=\"text_7\">\n      <!-- 120 -->\n      <g transform=\"translate(348.064857 112.041919)scale(0.1 -0.1)\">\n       <use xlink:href=\"#DejaVuSans-49\"/>\n       <use x=\"63.623047\" xlink:href=\"#DejaVuSans-50\"/>\n       <use x=\"127.246094\" xlink:href=\"#DejaVuSans-48\"/>\n      </g>\n     </g>\n    </g>\n   </g>\n   <g id=\"matplotlib.axis_2\">\n    <g id=\"ytick_1\">\n     <g id=\"line2d_8\">\n      <defs>\n       <path d=\"M 0 0 \nL -3.5 0 \n\" id=\"m37510e9511\" style=\"stroke:#000000;stroke-width:0.8;\"/>\n      </defs>\n      <g>\n       <use style=\"stroke:#000000;stroke-width:0.8;\" x=\"26.925\" xlink:href=\"#m37510e9511\" y=\"10.999219\"/>\n      </g>\n     </g>\n     <g id=\"text_8\">\n      <!-- 0 -->\n      <g transform=\"translate(13.5625 14.798437)scale(0.1 -0.1)\">\n       <use xlink:href=\"#DejaVuSans-48\"/>\n      </g>\n     </g>\n    </g>\n    <g id=\"ytick_2\">\n     <g id=\"line2d_9\">\n      <g>\n       <use style=\"stroke:#000000;stroke-width:0.8;\" x=\"26.925\" xlink:href=\"#m37510e9511\" y=\"38.441842\"/>\n      </g>\n     </g>\n     <g id=\"text_9\">\n      <!-- 10 -->\n      <g transform=\"translate(7.2 42.24106)scale(0.1 -0.1)\">\n       <use xlink:href=\"#DejaVuSans-49\"/>\n       <use x=\"63.623047\" xlink:href=\"#DejaVuSans-48\"/>\n      </g>\n     </g>\n    </g>\n    <g id=\"ytick_3\">\n     <g id=\"line2d_10\">\n      <g>\n       <use style=\"stroke:#000000;stroke-width:0.8;\" x=\"26.925\" xlink:href=\"#m37510e9511\" y=\"65.884465\"/>\n      </g>\n     </g>\n     <g id=\"text_10\">\n      <!-- 20 -->\n      <g transform=\"translate(7.2 69.683683)scale(0.1 -0.1)\">\n       <use xlink:href=\"#DejaVuSans-50\"/>\n       <use x=\"63.623047\" xlink:href=\"#DejaVuSans-48\"/>\n      </g>\n     </g>\n    </g>\n    <g id=\"ytick_4\">\n     <g id=\"line2d_11\">\n      <g>\n       <use style=\"stroke:#000000;stroke-width:0.8;\" x=\"26.925\" xlink:href=\"#m37510e9511\" y=\"93.327088\"/>\n      </g>\n     </g>\n     <g id=\"text_11\">\n      <!-- 30 -->\n      <defs>\n       <path d=\"M 40.578125 39.3125 \nQ 47.65625 37.796875 51.625 33 \nQ 55.609375 28.21875 55.609375 21.1875 \nQ 55.609375 10.40625 48.1875 4.484375 \nQ 40.765625 -1.421875 27.09375 -1.421875 \nQ 22.515625 -1.421875 17.65625 -0.515625 \nQ 12.796875 0.390625 7.625 2.203125 \nL 7.625 11.71875 \nQ 11.71875 9.328125 16.59375 8.109375 \nQ 21.484375 6.890625 26.8125 6.890625 \nQ 36.078125 6.890625 40.9375 10.546875 \nQ 45.796875 14.203125 45.796875 21.1875 \nQ 45.796875 27.640625 41.28125 31.265625 \nQ 36.765625 34.90625 28.71875 34.90625 \nL 20.21875 34.90625 \nL 20.21875 43.015625 \nL 29.109375 43.015625 \nQ 36.375 43.015625 40.234375 45.921875 \nQ 44.09375 48.828125 44.09375 54.296875 \nQ 44.09375 59.90625 40.109375 62.90625 \nQ 36.140625 65.921875 28.71875 65.921875 \nQ 24.65625 65.921875 20.015625 65.03125 \nQ 15.375 64.15625 9.8125 62.3125 \nL 9.8125 71.09375 \nQ 15.4375 72.65625 20.34375 73.4375 \nQ 25.25 74.21875 29.59375 74.21875 \nQ 40.828125 74.21875 47.359375 69.109375 \nQ 53.90625 64.015625 53.90625 55.328125 \nQ 53.90625 49.265625 50.4375 45.09375 \nQ 46.96875 40.921875 40.578125 39.3125 \nz\n\" id=\"DejaVuSans-51\"/>\n      </defs>\n      <g transform=\"translate(7.2 97.126306)scale(0.1 -0.1)\">\n       <use xlink:href=\"#DejaVuSans-51\"/>\n       <use x=\"63.623047\" xlink:href=\"#DejaVuSans-48\"/>\n      </g>\n     </g>\n    </g>\n   </g>\n   <g id=\"patch_3\">\n    <path d=\"M 26.925 97.443481 \nL 26.925 9.627088 \n\" style=\"fill:none;stroke:#000000;stroke-linecap:square;stroke-linejoin:miter;stroke-width:0.8;\"/>\n   </g>\n   <g id=\"patch_4\">\n    <path d=\"M 361.725 97.443481 \nL 361.725 9.627088 \n\" style=\"fill:none;stroke:#000000;stroke-linecap:square;stroke-linejoin:miter;stroke-width:0.8;\"/>\n   </g>\n   <g id=\"patch_5\">\n    <path d=\"M 26.925 97.443481 \nL 361.725 97.443481 \n\" style=\"fill:none;stroke:#000000;stroke-linecap:square;stroke-linejoin:miter;stroke-width:0.8;\"/>\n   </g>\n   <g id=\"patch_6\">\n    <path d=\"M 26.925 9.627088 \nL 361.725 9.627088 \n\" style=\"fill:none;stroke:#000000;stroke-linecap:square;stroke-linejoin:miter;stroke-width:0.8;\"/>\n   </g>\n  </g>\n </g>\n <defs>\n  <clipPath id=\"p49f4e0f0ba\">\n   <rect height=\"87.816393\" width=\"334.8\" x=\"26.925\" y=\"9.627088\"/>\n  </clipPath>\n </defs>\n</svg>\n",
      "image/png": "[encoded data removed]"
     },
     "metadata": {
      "needs_background": "light"
     }
    },
    {
     "output_type": "stream",
     "name": "stdout",
     "text": "6     9     1     0\n"
    }
   ],
   "source": [
    "import matplotlib.pyplot as plt\n",
    "import numpy as np\n",
    "\n",
    "# functions to show an image\n",
    "\n",
    "\n",
    "def imshow(img):\n",
    "    img = img / 2 + 0.5     # unnormalize\n",
    "    npimg = img.numpy()\n",
    "    plt.imshow(np.transpose(npimg, (1, 2, 0)))\n",
    "    plt.show()\n",
    "\n",
    "\n",
    "#Get some random training images:\n",
    "#Make trainloader iteraterable (over batches, so 4 images are fetched): \n",
    "dataiter = iter(trainloader)\n",
    "#returns random next element:\n",
    "images, labels = dataiter.next()\n",
    "\n",
    "#Show images:\n",
    "imshow(torchvision.utils.make_grid(images))\n",
    "#Print labels:\n",
    "print(' '.join('%5s' % classes[labels[j]] for j in range(4)))\n",
    "\n",
    "#images, labels = dataiter.next"
   ]
  },
  {
   "cell_type": "markdown",
   "metadata": {},
   "source": [
    "## NN architecture"
   ]
  },
  {
   "cell_type": "code",
   "execution_count": 8,
   "metadata": {},
   "outputs": [
    {
     "output_type": "execute_result",
     "data": {
      "text/plain": "Net(\n  (fc1): Linear(in_features=784, out_features=50, bias=True)\n  (fc2): Linear(in_features=50, out_features=50, bias=True)\n  (fc3): Linear(in_features=50, out_features=10, bias=True)\n)"
     },
     "metadata": {},
     "execution_count": 8
    }
   ],
   "source": [
    "#Define CNN architecture:\n",
    "\n",
    "import torch.nn as nn\n",
    "import torch.nn.functional as F\n",
    "\n",
    "#Define Net as child class of nn.Module:\n",
    "class Net(nn.Module):\n",
    "    def __init__(self):\n",
    "        super(Net, self).__init__()\n",
    "        \n",
    "        self.fc1 = nn.Linear(28*28, 50)\n",
    "        self.fc2 = nn.Linear(50, 50)\n",
    "        self.fc3 = nn.Linear(50, 10)\n",
    "\n",
    "    def forward(self, x):\n",
    "        #reshape input data x to be 1*784 vector:\n",
    "        x = x.view(-1, 28 * 28)\n",
    "        x = F.relu(self.fc1(x))\n",
    "        x = F.relu(self.fc2(x))\n",
    "        x = F.log_softmax(self.fc3(x))\n",
    "        return x\n",
    "\n",
    "\n",
    "net = Net()\n",
    "net.to(device)"
   ]
  },
  {
   "cell_type": "markdown",
   "metadata": {},
   "source": [
    "## Loss function"
   ]
  },
  {
   "cell_type": "code",
   "execution_count": 9,
   "metadata": {},
   "outputs": [],
   "source": [
    "#Define Loss function:\n",
    "\n",
    "import torch.optim as optim\n",
    "\n",
    "criterion = nn.NLLLoss()\n",
    "optimizer = optim.SGD(net.parameters(), lr=0.01, momentum=0.5)"
   ]
  },
  {
   "cell_type": "markdown",
   "metadata": {},
   "source": [
    "## Training"
   ]
  },
  {
   "cell_type": "code",
   "execution_count": 10,
   "metadata": {
    "tags": []
   },
   "outputs": [
    {
     "output_type": "stream",
     "name": "stdout",
     "text": "Train Epoch: 0 [3998/60000 (13%)]\tLoss: 0.713586\nTrain Epoch: 0 [7998/60000 (27%)]\tLoss: 0.393134\nTrain Epoch: 0 [11998/60000 (40%)]\tLoss: 0.351723\nTrain Epoch: 0 [15998/60000 (53%)]\tLoss: 0.284899\nTrain Epoch: 0 [19998/60000 (67%)]\tLoss: 0.281056\nTrain Epoch: 0 [23998/60000 (80%)]\tLoss: 0.256824\nTrain Epoch: 0 [27998/60000 (93%)]\tLoss: 0.219431\nTrain Epoch: 1 [3998/60000 (13%)]\tLoss: 0.219745\nTrain Epoch: 1 [7998/60000 (27%)]\tLoss: 0.209243\nTrain Epoch: 1 [11998/60000 (40%)]\tLoss: 0.202722\nTrain Epoch: 1 [15998/60000 (53%)]\tLoss: 0.185178\nTrain Epoch: 1 [19998/60000 (67%)]\tLoss: 0.190199\nTrain Epoch: 1 [23998/60000 (80%)]\tLoss: 0.199248\nTrain Epoch: 1 [27998/60000 (93%)]\tLoss: 0.184465\nFinished Training\nCPU times: user 59.4 s, sys: 6.61 s, total: 1min 6s\nWall time: 1min 10s\n"
    }
   ],
   "source": [
    "%%time\n",
    "\n",
    "#Training:\n",
    "epochs = 2\n",
    "\n",
    "#loop over the dataset \"epochs\" times:\n",
    "for epoch in range(epochs):\n",
    "\n",
    "    running_loss = 0.0\n",
    "    #enumerate(trainloader,0): make trainloader iterable and start the index at 0:\n",
    "    for i, data in enumerate(trainloader, 0):\n",
    "        #get the inputs; data is a list of [inputs, labels]:\n",
    "        inputs, labels = data[0].to(device), data[1].to(device)\n",
    "\n",
    "        inputs = inputs.view(-1, 28 * 28)\n",
    "        \n",
    "        #zero the parameter gradients (just to be save):\n",
    "        optimizer.zero_grad()\n",
    "\n",
    "        #forward:\n",
    "        outputs = net(inputs)\n",
    "\n",
    "        #loss += F.nll_loss(outputs, labels, reduction='sum').item()\n",
    "\n",
    "        #loss:\n",
    "        loss = criterion(outputs, labels)\n",
    "\n",
    "        #backward:\n",
    "        loss.backward()\n",
    "        #optimize:\n",
    "        optimizer.step()\n",
    "\n",
    "        #print statistics:\n",
    "        running_loss += loss.item()\n",
    "\n",
    "        #loss /= len(trainloader.dataset)\n",
    "\n",
    "        #print every 2000 mini-batches:\n",
    "        if i % 2000 == 1999:\n",
    "            print('Train Epoch: {} [{}/{} ({:.0f}%)]\\tLoss: {:.6f}'.format(epoch, i * len(data), len(trainloader.dataset), 100. * i / len(trainloader), running_loss / 2000))\n",
    "            running_loss = 0.0\n",
    "\n",
    "print('Finished Training')"
   ]
  },
  {
   "cell_type": "code",
   "execution_count": 11,
   "metadata": {},
   "outputs": [],
   "source": [
    "#Save trained model parameters:\n",
    "\n",
    "PATH = './mnist_net.pth'\n",
    "torch.save(net.state_dict(), PATH)"
   ]
  },
  {
   "cell_type": "markdown",
   "metadata": {},
   "source": [
    "## Calculate accuracy on test set:"
   ]
  },
  {
   "cell_type": "code",
   "execution_count": 12,
   "metadata": {
    "tags": []
   },
   "outputs": [
    {
     "output_type": "stream",
     "name": "stdout",
     "text": "Accuracy of the network on the test images: 95 %\n"
    }
   ],
   "source": [
    "#Count correctly classified images of trained data set:\n",
    "\n",
    "correct = 0\n",
    "total = 0\n",
    "with torch.no_grad():\n",
    "    for data in testloader:\n",
    "        \n",
    "        images, labels = data[0].to(device), data[1].to(device)\n",
    "\n",
    "        #do predicts on test set:\n",
    "        outputs = net(images)\n",
    "        _, predicted = torch.max(outputs.data, 1)\n",
    "        #add the number of predicted images to \"total\", so we can keep track of how many images we have classified so far:\n",
    "        total += labels.size(0)\n",
    "        #add how many of the predicted labels are the same as the ground-truth labels:\n",
    "        #(predicted == labels): predicted is tensor with integers, as well as labels; check if all integers are the same\n",
    "        #(predicted == labels).sum(): sum up of how many were the same\n",
    "        #(predicted == labels).sum().item(): give that number as a single value;\n",
    "        #add it to the number of correctly classified instances:\n",
    "        correct += (predicted == labels).sum().item()\n",
    "\n",
    "#Print percentage of correctly classified instances:\n",
    "print('Accuracy of the network on the test images: %d %%' % (\n",
    "    100 * correct / total))\n"
   ]
  },
  {
   "cell_type": "code",
   "execution_count": 13,
   "metadata": {
    "tags": []
   },
   "outputs": [
    {
     "output_type": "stream",
     "name": "stdout",
     "text": "Accuracy of     0 : 95 %\nAccuracy of     1 : 97 %\nAccuracy of     2 : 96 %\nAccuracy of     3 : 93 %\nAccuracy of     4 : 95 %\nAccuracy of     5 : 95 %\nAccuracy of     6 : 97 %\nAccuracy of     7 : 93 %\nAccuracy of     8 : 97 %\nAccuracy of     9 : 92 %\n"
    }
   ],
   "source": [
    "#Classes that performed well vs. classes that did not perform well:\n",
    "\n",
    "#Initialize lists pf ten values of 0.0:\n",
    "class_correct = list(0. for i in range(10))\n",
    "class_total = list(0. for i in range(10))\n",
    "with torch.no_grad():\n",
    "    for data in testloader:\n",
    "        images, labels = data[0].to(device), data[1].to(device)\n",
    "\n",
    "        #do predictions on test set:\n",
    "        outputs = net(images)\n",
    "        _, predicted = torch.max(outputs, 1)\n",
    "        #store correctly predicted classes (where prediction matches label) in \"c\":\n",
    "        c = (predicted == labels)\n",
    "\n",
    "        for i in range(4):\n",
    "            label = labels[i]\n",
    "            #count up how a certain class was predicted (true of false):\n",
    "            class_correct[label] += c[i].item()\n",
    "            #count up how often this class was predicted:\n",
    "            class_total[label] += 1\n",
    "\n",
    "#Print percentage of correctly classifications of each class:\n",
    "for i in range(10):\n",
    "    print('Accuracy of %5s : %2d %%' % (\n",
    "        classes[i], 100 * class_correct[i] / class_total[i]))"
   ]
  },
  {
   "cell_type": "markdown",
   "metadata": {},
   "source": [
    "## Run predictions on test samples\n",
    "\n",
    "Run these 4 cells below to sample 4 random images of test set (with ground-truth labels) and run the NN predictions on them:"
   ]
  },
  {
   "cell_type": "code",
   "execution_count": 14,
   "metadata": {},
   "outputs": [
    {
     "output_type": "execute_result",
     "data": {
      "text/plain": "<All keys matched successfully>"
     },
     "metadata": {},
     "execution_count": 14
    }
   ],
   "source": [
    "#Load back model:\n",
    "PATH = './mnist_net.pth'\n",
    "\n",
    "net = Net()\n",
    "net.load_state_dict(torch.load(PATH))"
   ]
  },
  {
   "cell_type": "code",
   "execution_count": 15,
   "metadata": {
    "tags": []
   },
   "outputs": [
    {
     "output_type": "display_data",
     "data": {
      "text/plain": "<Figure size 432x288 with 1 Axes>",
      "image/svg+xml": "<?xml version=\"1.0\" encoding=\"utf-8\" standalone=\"no\"?>\n<!DOCTYPE svg PUBLIC \"-//W3C//DTD SVG 1.1//EN\"\n  \"http://www.w3.org/Graphics/SVG/1.1/DTD/svg11.dtd\">\n<!-- Created with matplotlib (https://matplotlib.org/) -->\n<svg height=\"121.321606pt\" version=\"1.1\" viewBox=\"0 0 374.352357 121.321606\" width=\"374.352357pt\" xmlns=\"http://www.w3.org/2000/svg\" xmlns:xlink=\"http://www.w3.org/1999/xlink\">\n <defs>\n  <style type=\"text/css\">\n*{stroke-linecap:butt;stroke-linejoin:round;}\n  </style>\n </defs>\n <g id=\"figure_1\">\n  <g id=\"patch_1\">\n   <path d=\"M -0 121.321606 \nL 374.352357 121.321606 \nL 374.352357 0 \nL -0 0 \nz\n\" style=\"fill:none;\"/>\n  </g>\n  <g id=\"axes_1\">\n   <g id=\"patch_2\">\n    <path d=\"M 26.925 97.443481 \nL 361.725 97.443481 \nL 361.725 9.627088 \nL 26.925 9.627088 \nz\n\" style=\"fill:#ffffff;\"/>\n   </g>\n   <g clip-path=\"url(#p40ae5d6fa0)\">\n    <image height=\"88\" id=\"image582ae54151\" transform=\"scale(1 -1)translate(0 -88)\" width=\"335\" x=\"26.925\" xlink:href=\"data:image/png;base64,\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\" y=\"-9.443481\"/>\n   </g>\n   <g id=\"matplotlib.axis_1\">\n    <g id=\"xtick_1\">\n     <g id=\"line2d_1\">\n      <defs>\n       <path d=\"M 0 0 \nL 0 3.5 \n\" id=\"mbb49f351b8\" style=\"stroke:#000000;stroke-width:0.8;\"/>\n      </defs>\n      <g>\n       <use style=\"stroke:#000000;stroke-width:0.8;\" x=\"28.297131\" xlink:href=\"#mbb49f351b8\" y=\"97.443481\"/>\n      </g>\n     </g>\n     <g id=\"text_1\">\n      <!-- 0 -->\n      <defs>\n       <path d=\"M 31.78125 66.40625 \nQ 24.171875 66.40625 20.328125 58.90625 \nQ 16.5 51.421875 16.5 36.375 \nQ 16.5 21.390625 20.328125 13.890625 \nQ 24.171875 6.390625 31.78125 6.390625 \nQ 39.453125 6.390625 43.28125 13.890625 \nQ 47.125 21.390625 47.125 36.375 \nQ 47.125 51.421875 43.28125 58.90625 \nQ 39.453125 66.40625 31.78125 66.40625 \nz\nM 31.78125 74.21875 \nQ 44.046875 74.21875 50.515625 64.515625 \nQ 56.984375 54.828125 56.984375 36.375 \nQ 56.984375 17.96875 50.515625 8.265625 \nQ 44.046875 -1.421875 31.78125 -1.421875 \nQ 19.53125 -1.421875 13.0625 8.265625 \nQ 6.59375 17.96875 6.59375 36.375 \nQ 6.59375 54.828125 13.0625 64.515625 \nQ 19.53125 74.21875 31.78125 74.21875 \nz\n\" id=\"DejaVuSans-48\"/>\n      </defs>\n      <g transform=\"translate(25.115881 112.041919)scale(0.1 -0.1)\">\n       <use xlink:href=\"#DejaVuSans-48\"/>\n      </g>\n     </g>\n    </g>\n    <g id=\"xtick_2\">\n     <g id=\"line2d_2\">\n      <g>\n       <use style=\"stroke:#000000;stroke-width:0.8;\" x=\"83.182377\" xlink:href=\"#mbb49f351b8\" y=\"97.443481\"/>\n      </g>\n     </g>\n     <g id=\"text_2\">\n      <!-- 20 -->\n      <defs>\n       <path d=\"M 19.1875 8.296875 \nL 53.609375 8.296875 \nL 53.609375 0 \nL 7.328125 0 \nL 7.328125 8.296875 \nQ 12.9375 14.109375 22.625 23.890625 \nQ 32.328125 33.6875 34.8125 36.53125 \nQ 39.546875 41.84375 41.421875 45.53125 \nQ 43.3125 49.21875 43.3125 52.78125 \nQ 43.3125 58.59375 39.234375 62.25 \nQ 35.15625 65.921875 28.609375 65.921875 \nQ 23.96875 65.921875 18.8125 64.3125 \nQ 13.671875 62.703125 7.8125 59.421875 \nL 7.8125 69.390625 \nQ 13.765625 71.78125 18.9375 73 \nQ 24.125 74.21875 28.421875 74.21875 \nQ 39.75 74.21875 46.484375 68.546875 \nQ 53.21875 62.890625 53.21875 53.421875 \nQ 53.21875 48.921875 51.53125 44.890625 \nQ 49.859375 40.875 45.40625 35.40625 \nQ 44.1875 33.984375 37.640625 27.21875 \nQ 31.109375 20.453125 19.1875 8.296875 \nz\n\" id=\"DejaVuSans-50\"/>\n      </defs>\n      <g transform=\"translate(76.819877 112.041919)scale(0.1 -0.1)\">\n       <use xlink:href=\"#DejaVuSans-50\"/>\n       <use x=\"63.623047\" xlink:href=\"#DejaVuSans-48\"/>\n      </g>\n     </g>\n    </g>\n    <g id=\"xtick_3\">\n     <g id=\"line2d_3\">\n      <g>\n       <use style=\"stroke:#000000;stroke-width:0.8;\" x=\"138.067623\" xlink:href=\"#mbb49f351b8\" y=\"97.443481\"/>\n      </g>\n     </g>\n     <g id=\"text_3\">\n      <!-- 40 -->\n      <defs>\n       <path d=\"M 37.796875 64.3125 \nL 12.890625 25.390625 \nL 37.796875 25.390625 \nz\nM 35.203125 72.90625 \nL 47.609375 72.90625 \nL 47.609375 25.390625 \nL 58.015625 25.390625 \nL 58.015625 17.1875 \nL 47.609375 17.1875 \nL 47.609375 0 \nL 37.796875 0 \nL 37.796875 17.1875 \nL 4.890625 17.1875 \nL 4.890625 26.703125 \nz\n\" id=\"DejaVuSans-52\"/>\n      </defs>\n      <g transform=\"translate(131.705123 112.041919)scale(0.1 -0.1)\">\n       <use xlink:href=\"#DejaVuSans-52\"/>\n       <use x=\"63.623047\" xlink:href=\"#DejaVuSans-48\"/>\n      </g>\n     </g>\n    </g>\n    <g id=\"xtick_4\">\n     <g id=\"line2d_4\">\n      <g>\n       <use style=\"stroke:#000000;stroke-width:0.8;\" x=\"192.952869\" xlink:href=\"#mbb49f351b8\" y=\"97.443481\"/>\n      </g>\n     </g>\n     <g id=\"text_4\">\n      <!-- 60 -->\n      <defs>\n       <path d=\"M 33.015625 40.375 \nQ 26.375 40.375 22.484375 35.828125 \nQ 18.609375 31.296875 18.609375 23.390625 \nQ 18.609375 15.53125 22.484375 10.953125 \nQ 26.375 6.390625 33.015625 6.390625 \nQ 39.65625 6.390625 43.53125 10.953125 \nQ 47.40625 15.53125 47.40625 23.390625 \nQ 47.40625 31.296875 43.53125 35.828125 \nQ 39.65625 40.375 33.015625 40.375 \nz\nM 52.59375 71.296875 \nL 52.59375 62.3125 \nQ 48.875 64.0625 45.09375 64.984375 \nQ 41.3125 65.921875 37.59375 65.921875 \nQ 27.828125 65.921875 22.671875 59.328125 \nQ 17.53125 52.734375 16.796875 39.40625 \nQ 19.671875 43.65625 24.015625 45.921875 \nQ 28.375 48.1875 33.59375 48.1875 \nQ 44.578125 48.1875 50.953125 41.515625 \nQ 57.328125 34.859375 57.328125 23.390625 \nQ 57.328125 12.15625 50.6875 5.359375 \nQ 44.046875 -1.421875 33.015625 -1.421875 \nQ 20.359375 -1.421875 13.671875 8.265625 \nQ 6.984375 17.96875 6.984375 36.375 \nQ 6.984375 53.65625 15.1875 63.9375 \nQ 23.390625 74.21875 37.203125 74.21875 \nQ 40.921875 74.21875 44.703125 73.484375 \nQ 48.484375 72.75 52.59375 71.296875 \nz\n\" id=\"DejaVuSans-54\"/>\n      </defs>\n      <g transform=\"translate(186.590369 112.041919)scale(0.1 -0.1)\">\n       <use xlink:href=\"#DejaVuSans-54\"/>\n       <use x=\"63.623047\" xlink:href=\"#DejaVuSans-48\"/>\n      </g>\n     </g>\n    </g>\n    <g id=\"xtick_5\">\n     <g id=\"line2d_5\">\n      <g>\n       <use style=\"stroke:#000000;stroke-width:0.8;\" x=\"247.838115\" xlink:href=\"#mbb49f351b8\" y=\"97.443481\"/>\n      </g>\n     </g>\n     <g id=\"text_5\">\n      <!-- 80 -->\n      <defs>\n       <path d=\"M 31.78125 34.625 \nQ 24.75 34.625 20.71875 30.859375 \nQ 16.703125 27.09375 16.703125 20.515625 \nQ 16.703125 13.921875 20.71875 10.15625 \nQ 24.75 6.390625 31.78125 6.390625 \nQ 38.8125 6.390625 42.859375 10.171875 \nQ 46.921875 13.96875 46.921875 20.515625 \nQ 46.921875 27.09375 42.890625 30.859375 \nQ 38.875 34.625 31.78125 34.625 \nz\nM 21.921875 38.8125 \nQ 15.578125 40.375 12.03125 44.71875 \nQ 8.5 49.078125 8.5 55.328125 \nQ 8.5 64.0625 14.71875 69.140625 \nQ 20.953125 74.21875 31.78125 74.21875 \nQ 42.671875 74.21875 48.875 69.140625 \nQ 55.078125 64.0625 55.078125 55.328125 \nQ 55.078125 49.078125 51.53125 44.71875 \nQ 48 40.375 41.703125 38.8125 \nQ 48.828125 37.15625 52.796875 32.3125 \nQ 56.78125 27.484375 56.78125 20.515625 \nQ 56.78125 9.90625 50.3125 4.234375 \nQ 43.84375 -1.421875 31.78125 -1.421875 \nQ 19.734375 -1.421875 13.25 4.234375 \nQ 6.78125 9.90625 6.78125 20.515625 \nQ 6.78125 27.484375 10.78125 32.3125 \nQ 14.796875 37.15625 21.921875 38.8125 \nz\nM 18.3125 54.390625 \nQ 18.3125 48.734375 21.84375 45.5625 \nQ 25.390625 42.390625 31.78125 42.390625 \nQ 38.140625 42.390625 41.71875 45.5625 \nQ 45.3125 48.734375 45.3125 54.390625 \nQ 45.3125 60.0625 41.71875 63.234375 \nQ 38.140625 66.40625 31.78125 66.40625 \nQ 25.390625 66.40625 21.84375 63.234375 \nQ 18.3125 60.0625 18.3125 54.390625 \nz\n\" id=\"DejaVuSans-56\"/>\n      </defs>\n      <g transform=\"translate(241.475615 112.041919)scale(0.1 -0.1)\">\n       <use xlink:href=\"#DejaVuSans-56\"/>\n       <use x=\"63.623047\" xlink:href=\"#DejaVuSans-48\"/>\n      </g>\n     </g>\n    </g>\n    <g id=\"xtick_6\">\n     <g id=\"line2d_6\">\n      <g>\n       <use style=\"stroke:#000000;stroke-width:0.8;\" x=\"302.723361\" xlink:href=\"#mbb49f351b8\" y=\"97.443481\"/>\n      </g>\n     </g>\n     <g id=\"text_6\">\n      <!-- 100 -->\n      <defs>\n       <path d=\"M 12.40625 8.296875 \nL 28.515625 8.296875 \nL 28.515625 63.921875 \nL 10.984375 60.40625 \nL 10.984375 69.390625 \nL 28.421875 72.90625 \nL 38.28125 72.90625 \nL 38.28125 8.296875 \nL 54.390625 8.296875 \nL 54.390625 0 \nL 12.40625 0 \nz\n\" id=\"DejaVuSans-49\"/>\n      </defs>\n      <g transform=\"translate(293.179611 112.041919)scale(0.1 -0.1)\">\n       <use xlink:href=\"#DejaVuSans-49\"/>\n       <use x=\"63.623047\" xlink:href=\"#DejaVuSans-48\"/>\n       <use x=\"127.246094\" xlink:href=\"#DejaVuSans-48\"/>\n      </g>\n     </g>\n    </g>\n    <g id=\"xtick_7\">\n     <g id=\"line2d_7\">\n      <g>\n       <use style=\"stroke:#000000;stroke-width:0.8;\" x=\"357.608607\" xlink:href=\"#mbb49f351b8\" y=\"97.443481\"/>\n      </g>\n     </g>\n     <g id=\"text_7\">\n      <!-- 120 -->\n      <g transform=\"translate(348.064857 112.041919)scale(0.1 -0.1)\">\n       <use xlink:href=\"#DejaVuSans-49\"/>\n       <use x=\"63.623047\" xlink:href=\"#DejaVuSans-50\"/>\n       <use x=\"127.246094\" xlink:href=\"#DejaVuSans-48\"/>\n      </g>\n     </g>\n    </g>\n   </g>\n   <g id=\"matplotlib.axis_2\">\n    <g id=\"ytick_1\">\n     <g id=\"line2d_8\">\n      <defs>\n       <path d=\"M 0 0 \nL -3.5 0 \n\" id=\"m7d6c5b2b69\" style=\"stroke:#000000;stroke-width:0.8;\"/>\n      </defs>\n      <g>\n       <use style=\"stroke:#000000;stroke-width:0.8;\" x=\"26.925\" xlink:href=\"#m7d6c5b2b69\" y=\"10.999219\"/>\n      </g>\n     </g>\n     <g id=\"text_8\">\n      <!-- 0 -->\n      <g transform=\"translate(13.5625 14.798437)scale(0.1 -0.1)\">\n       <use xlink:href=\"#DejaVuSans-48\"/>\n      </g>\n     </g>\n    </g>\n    <g id=\"ytick_2\">\n     <g id=\"line2d_9\">\n      <g>\n       <use style=\"stroke:#000000;stroke-width:0.8;\" x=\"26.925\" xlink:href=\"#m7d6c5b2b69\" y=\"38.441842\"/>\n      </g>\n     </g>\n     <g id=\"text_9\">\n      <!-- 10 -->\n      <g transform=\"translate(7.2 42.24106)scale(0.1 -0.1)\">\n       <use xlink:href=\"#DejaVuSans-49\"/>\n       <use x=\"63.623047\" xlink:href=\"#DejaVuSans-48\"/>\n      </g>\n     </g>\n    </g>\n    <g id=\"ytick_3\">\n     <g id=\"line2d_10\">\n      <g>\n       <use style=\"stroke:#000000;stroke-width:0.8;\" x=\"26.925\" xlink:href=\"#m7d6c5b2b69\" y=\"65.884465\"/>\n      </g>\n     </g>\n     <g id=\"text_10\">\n      <!-- 20 -->\n      <g transform=\"translate(7.2 69.683683)scale(0.1 -0.1)\">\n       <use xlink:href=\"#DejaVuSans-50\"/>\n       <use x=\"63.623047\" xlink:href=\"#DejaVuSans-48\"/>\n      </g>\n     </g>\n    </g>\n    <g id=\"ytick_4\">\n     <g id=\"line2d_11\">\n      <g>\n       <use style=\"stroke:#000000;stroke-width:0.8;\" x=\"26.925\" xlink:href=\"#m7d6c5b2b69\" y=\"93.327088\"/>\n      </g>\n     </g>\n     <g id=\"text_11\">\n      <!-- 30 -->\n      <defs>\n       <path d=\"M 40.578125 39.3125 \nQ 47.65625 37.796875 51.625 33 \nQ 55.609375 28.21875 55.609375 21.1875 \nQ 55.609375 10.40625 48.1875 4.484375 \nQ 40.765625 -1.421875 27.09375 -1.421875 \nQ 22.515625 -1.421875 17.65625 -0.515625 \nQ 12.796875 0.390625 7.625 2.203125 \nL 7.625 11.71875 \nQ 11.71875 9.328125 16.59375 8.109375 \nQ 21.484375 6.890625 26.8125 6.890625 \nQ 36.078125 6.890625 40.9375 10.546875 \nQ 45.796875 14.203125 45.796875 21.1875 \nQ 45.796875 27.640625 41.28125 31.265625 \nQ 36.765625 34.90625 28.71875 34.90625 \nL 20.21875 34.90625 \nL 20.21875 43.015625 \nL 29.109375 43.015625 \nQ 36.375 43.015625 40.234375 45.921875 \nQ 44.09375 48.828125 44.09375 54.296875 \nQ 44.09375 59.90625 40.109375 62.90625 \nQ 36.140625 65.921875 28.71875 65.921875 \nQ 24.65625 65.921875 20.015625 65.03125 \nQ 15.375 64.15625 9.8125 62.3125 \nL 9.8125 71.09375 \nQ 15.4375 72.65625 20.34375 73.4375 \nQ 25.25 74.21875 29.59375 74.21875 \nQ 40.828125 74.21875 47.359375 69.109375 \nQ 53.90625 64.015625 53.90625 55.328125 \nQ 53.90625 49.265625 50.4375 45.09375 \nQ 46.96875 40.921875 40.578125 39.3125 \nz\n\" id=\"DejaVuSans-51\"/>\n      </defs>\n      <g transform=\"translate(7.2 97.126306)scale(0.1 -0.1)\">\n       <use xlink:href=\"#DejaVuSans-51\"/>\n       <use x=\"63.623047\" xlink:href=\"#DejaVuSans-48\"/>\n      </g>\n     </g>\n    </g>\n   </g>\n   <g id=\"patch_3\">\n    <path d=\"M 26.925 97.443481 \nL 26.925 9.627088 \n\" style=\"fill:none;stroke:#000000;stroke-linecap:square;stroke-linejoin:miter;stroke-width:0.8;\"/>\n   </g>\n   <g id=\"patch_4\">\n    <path d=\"M 361.725 97.443481 \nL 361.725 9.627088 \n\" style=\"fill:none;stroke:#000000;stroke-linecap:square;stroke-linejoin:miter;stroke-width:0.8;\"/>\n   </g>\n   <g id=\"patch_5\">\n    <path d=\"M 26.925 97.443481 \nL 361.725 97.443481 \n\" style=\"fill:none;stroke:#000000;stroke-linecap:square;stroke-linejoin:miter;stroke-width:0.8;\"/>\n   </g>\n   <g id=\"patch_6\">\n    <path d=\"M 26.925 9.627088 \nL 361.725 9.627088 \n\" style=\"fill:none;stroke:#000000;stroke-linecap:square;stroke-linejoin:miter;stroke-width:0.8;\"/>\n   </g>\n  </g>\n </g>\n <defs>\n  <clipPath id=\"p40ae5d6fa0\">\n   <rect height=\"87.816393\" width=\"334.8\" x=\"26.925\" y=\"9.627088\"/>\n  </clipPath>\n </defs>\n</svg>\n",
      "image/png": "[encoded data removed]"
     },
     "metadata": {
      "needs_background": "light"
     }
    },
    {
     "output_type": "stream",
     "name": "stdout",
     "text": "GroundTruth:      7     5     8     0\n"
    }
   ],
   "source": [
    "#Fetch random batch image of test set:\n",
    "\n",
    "dataiter = iter(testloader)\n",
    "images, labels = dataiter.next()\n",
    "\n",
    "#Show images:\n",
    "imshow(torchvision.utils.make_grid(images))\n",
    "print('GroundTruth: ', ' '.join('%5s' % classes[labels[j]] for j in range(4)))"
   ]
  },
  {
   "cell_type": "code",
   "execution_count": 16,
   "metadata": {},
   "outputs": [],
   "source": [
    "#Run predictions:\n",
    "\n",
    "#this returns one-hot-encoding:\n",
    "outputs = net(images)"
   ]
  },
  {
   "cell_type": "code",
   "execution_count": 17,
   "metadata": {
    "tags": []
   },
   "outputs": [
    {
     "output_type": "stream",
     "name": "stdout",
     "text": "Predicted:      7     5     8     0\n"
    }
   ],
   "source": [
    "#max(outputs,1) will give the indices of the max values of the one-hot-encoding (our predictions), and also a gradient object that we ignore by storing in \"_\":\n",
    "_ , predicted = torch.max(outputs, 1)\n",
    "\n",
    "print('Predicted: ', ' '.join('%5s' % classes[predicted[j]] for j in range(4)))"
   ]
  }
 ],
 "metadata": {
  "language_info": {
   "codemirror_mode": {
    "name": "ipython",
    "version": 3
   },
   "file_extension": ".py",
   "mimetype": "text/x-python",
   "name": "python",
   "nbconvert_exporter": "python",
   "pygments_lexer": "ipython3",
   "version": "3.8.3-final"
  },
  "orig_nbformat": 2,
  "kernelspec": {
   "name": "python38364bitenvdlcondaac906d774a66413a80b27a36627fa0d1",
   "display_name": "Python 3.8.3 64-bit ('env_dl': conda)"
  }
 },
 "nbformat": 4,
 "nbformat_minor": 2
}