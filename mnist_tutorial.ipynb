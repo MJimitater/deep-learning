{
 "cells": [
  {
   "cell_type": "code",
   "execution_count": 1,
   "metadata": {
    "tags": []
   },
   "outputs": [
    {
     "output_type": "stream",
     "name": "stdout",
     "text": "cuda:0\n"
    }
   ],
   "source": [
    "import torch\n",
    "import torchvision\n",
    "import torchvision.transforms as transforms\n",
    "import numpy as np\n",
    "\n",
    "\n",
    "#Select NVIDIA if available, otherwise cpu:\n",
    "#device = torch.device(\"cuda:0\" if torch.cuda.is_available() else \"cpu\")\n",
    "\n",
    "device = torch.device(\"cuda:0\")\n",
    "#device = torch.device(\"cpu\")\n",
    "\n",
    "print(device)"
   ]
  },
  {
   "cell_type": "code",
   "execution_count": 2,
   "metadata": {},
   "outputs": [],
   "source": [
    "#Common image transformations:\n",
    "transform = transforms.Compose(\n",
    "    #convert PIL image to tensor array:\n",
    "    [transforms.ToTensor(),\n",
    "    #each of the three pixel maps is centered to have mean 0.5 and std 0.5:\n",
    "     transforms.Normalize((0.5,), (0.5,))])\n",
    "\n",
    "#Download CIFAR data:\n",
    "#root: where data to be stored, if not exists already\n",
    "#train=True: data is used for training (otherwise test set is created)\n",
    "#download=True: downloads data, if not exists in root already\n",
    "#transform: applies transformations to image\n",
    "trainset = torchvision.datasets.MNIST(root='./data', train=True, download=True, transform=transform)\n",
    "\n",
    "#Dataloader makes dataset an iterable object\n",
    "#batch_size: how many samples per batch to load\n",
    "#shuffle: have data reshuffled at every epoch\n",
    "#num_workers: how many subprocesses to use for data loading (0 means data is loaded into main process)\n",
    "trainloader = torch.utils.data.DataLoader(trainset, batch_size=4, shuffle=True, num_workers=2)\n",
    "\n",
    "#Load test data set:\n",
    "testset = torchvision.datasets.MNIST(root='./data', train=False,\n",
    "                                       download=True, transform=transform)\n",
    "#Dataloader for test set:\n",
    "testloader = torch.utils.data.DataLoader(testset, batch_size=4,\n",
    "                                         shuffle=True, num_workers=2)\n",
    "\n",
    "#Set classes:\n",
    "#class_label[0]=plane, ..., class_label[9]=truck:\n",
    "classes = (0,1,2,3,4,5,6,7,8,9)"
   ]
  },
  {
   "cell_type": "code",
   "execution_count": 3,
   "metadata": {},
   "outputs": [
    {
     "output_type": "execute_result",
     "data": {
      "text/plain": "torch.Size([60000, 28, 28])"
     },
     "metadata": {},
     "execution_count": 3
    }
   ],
   "source": [
    "trainloader.dataset.data.shape"
   ]
  },
  {
   "cell_type": "code",
   "execution_count": 4,
   "metadata": {},
   "outputs": [
    {
     "output_type": "execute_result",
     "data": {
      "text/plain": "['0 - zero',\n '1 - one',\n '2 - two',\n '3 - three',\n '4 - four',\n '5 - five',\n '6 - six',\n '7 - seven',\n '8 - eight',\n '9 - nine']"
     },
     "metadata": {},
     "execution_count": 4
    }
   ],
   "source": [
    "trainset.classes"
   ]
  },
  {
   "cell_type": "code",
   "execution_count": 5,
   "metadata": {},
   "outputs": [
    {
     "output_type": "execute_result",
     "data": {
      "text/plain": "torch.Size([10000, 28, 28])"
     },
     "metadata": {},
     "execution_count": 5
    }
   ],
   "source": [
    "testloader.dataset.data.shape"
   ]
  },
  {
   "cell_type": "code",
   "execution_count": 6,
   "metadata": {
    "tags": []
   },
   "outputs": [
    {
     "output_type": "stream",
     "name": "stdout",
     "text": "Die Klasse 0 hat 5923 Trainingsbilder und 980 Testbilder\nDie Klasse 1 hat 6742 Trainingsbilder und 1135 Testbilder\nDie Klasse 2 hat 5958 Trainingsbilder und 1032 Testbilder\nDie Klasse 3 hat 6131 Trainingsbilder und 1010 Testbilder\nDie Klasse 4 hat 5842 Trainingsbilder und 982 Testbilder\nDie Klasse 5 hat 5421 Trainingsbilder und 892 Testbilder\nDie Klasse 6 hat 5918 Trainingsbilder und 958 Testbilder\nDie Klasse 7 hat 6265 Trainingsbilder und 1028 Testbilder\nDie Klasse 8 hat 5851 Trainingsbilder und 974 Testbilder\nDie Klasse 9 hat 5949 Trainingsbilder und 1009 Testbilder\n"
    }
   ],
   "source": [
    "for i in np.unique(np.asarray(trainloader.dataset.targets)):\n",
    "    print(\"Die Klasse {0} hat {1} Trainingsbilder und {2} Testbilder\".format(i, (trainloader.dataset.targets == i).sum(), (testloader.dataset.targets == i).sum()))"
   ]
  },
  {
   "cell_type": "code",
   "execution_count": 7,
   "metadata": {
    "tags": []
   },
   "outputs": [
    {
     "output_type": "display_data",
     "data": {
      "text/plain": "<Figure size 432x288 with 1 Axes>",
      "image/svg+xml": "<?xml version=\"1.0\" encoding=\"utf-8\" standalone=\"no\"?>\n<!DOCTYPE svg PUBLIC \"-//W3C//DTD SVG 1.1//EN\"\n  \"http://www.w3.org/Graphics/SVG/1.1/DTD/svg11.dtd\">\n<!-- Created with matplotlib (https://matplotlib.org/) -->\n<svg height=\"121.321606pt\" version=\"1.1\" viewBox=\"0 0 374.352357 121.321606\" width=\"374.352357pt\" xmlns=\"http://www.w3.org/2000/svg\" xmlns:xlink=\"http://www.w3.org/1999/xlink\">\n <defs>\n  <style type=\"text/css\">\n*{stroke-linecap:butt;stroke-linejoin:round;}\n  </style>\n </defs>\n <g id=\"figure_1\">\n  <g id=\"patch_1\">\n   <path d=\"M -0 121.321606 \nL 374.352357 121.321606 \nL 374.352357 0 \nL -0 0 \nz\n\" style=\"fill:none;\"/>\n  </g>\n  <g id=\"axes_1\">\n   <g id=\"patch_2\">\n    <path d=\"M 26.925 97.443481 \nL 361.725 97.443481 \nL 361.725 9.627088 \nL 26.925 9.627088 \nz\n\" style=\"fill:#ffffff;\"/>\n   </g>\n   <g clip-path=\"url(#p6e4cb93cec)\">\n    <image height=\"88\" id=\"image329791c912\" transform=\"scale(1 -1)translate(0 -88)\" width=\"335\" x=\"26.925\" xlink:href=\"data:image/png;base64,\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\" y=\"-9.443481\"/>\n   </g>\n   <g id=\"matplotlib.axis_1\">\n    <g id=\"xtick_1\">\n     <g id=\"line2d_1\">\n      <defs>\n       <path d=\"M 0 0 \nL 0 3.5 \n\" id=\"mbbedb0b147\" style=\"stroke:#000000;stroke-width:0.8;\"/>\n      </defs>\n      <g>\n       <use style=\"stroke:#000000;stroke-width:0.8;\" x=\"28.297131\" xlink:href=\"#mbbedb0b147\" y=\"97.443481\"/>\n      </g>\n     </g>\n     <g id=\"text_1\">\n      <!-- 0 -->\n      <defs>\n       <path d=\"M 31.78125 66.40625 \nQ 24.171875 66.40625 20.328125 58.90625 \nQ 16.5 51.421875 16.5 36.375 \nQ 16.5 21.390625 20.328125 13.890625 \nQ 24.171875 6.390625 31.78125 6.390625 \nQ 39.453125 6.390625 43.28125 13.890625 \nQ 47.125 21.390625 47.125 36.375 \nQ 47.125 51.421875 43.28125 58.90625 \nQ 39.453125 66.40625 31.78125 66.40625 \nz\nM 31.78125 74.21875 \nQ 44.046875 74.21875 50.515625 64.515625 \nQ 56.984375 54.828125 56.984375 36.375 \nQ 56.984375 17.96875 50.515625 8.265625 \nQ 44.046875 -1.421875 31.78125 -1.421875 \nQ 19.53125 -1.421875 13.0625 8.265625 \nQ 6.59375 17.96875 6.59375 36.375 \nQ 6.59375 54.828125 13.0625 64.515625 \nQ 19.53125 74.21875 31.78125 74.21875 \nz\n\" id=\"DejaVuSans-48\"/>\n      </defs>\n      <g transform=\"translate(25.115881 112.041919)scale(0.1 -0.1)\">\n       <use xlink:href=\"#DejaVuSans-48\"/>\n      </g>\n     </g>\n    </g>\n    <g id=\"xtick_2\">\n     <g id=\"line2d_2\">\n      <g>\n       <use style=\"stroke:#000000;stroke-width:0.8;\" x=\"83.182377\" xlink:href=\"#mbbedb0b147\" y=\"97.443481\"/>\n      </g>\n     </g>\n     <g id=\"text_2\">\n      <!-- 20 -->\n      <defs>\n       <path d=\"M 19.1875 8.296875 \nL 53.609375 8.296875 \nL 53.609375 0 \nL 7.328125 0 \nL 7.328125 8.296875 \nQ 12.9375 14.109375 22.625 23.890625 \nQ 32.328125 33.6875 34.8125 36.53125 \nQ 39.546875 41.84375 41.421875 45.53125 \nQ 43.3125 49.21875 43.3125 52.78125 \nQ 43.3125 58.59375 39.234375 62.25 \nQ 35.15625 65.921875 28.609375 65.921875 \nQ 23.96875 65.921875 18.8125 64.3125 \nQ 13.671875 62.703125 7.8125 59.421875 \nL 7.8125 69.390625 \nQ 13.765625 71.78125 18.9375 73 \nQ 24.125 74.21875 28.421875 74.21875 \nQ 39.75 74.21875 46.484375 68.546875 \nQ 53.21875 62.890625 53.21875 53.421875 \nQ 53.21875 48.921875 51.53125 44.890625 \nQ 49.859375 40.875 45.40625 35.40625 \nQ 44.1875 33.984375 37.640625 27.21875 \nQ 31.109375 20.453125 19.1875 8.296875 \nz\n\" id=\"DejaVuSans-50\"/>\n      </defs>\n      <g transform=\"translate(76.819877 112.041919)scale(0.1 -0.1)\">\n       <use xlink:href=\"#DejaVuSans-50\"/>\n       <use x=\"63.623047\" xlink:href=\"#DejaVuSans-48\"/>\n      </g>\n     </g>\n    </g>\n    <g id=\"xtick_3\">\n     <g id=\"line2d_3\">\n      <g>\n       <use style=\"stroke:#000000;stroke-width:0.8;\" x=\"138.067623\" xlink:href=\"#mbbedb0b147\" y=\"97.443481\"/>\n      </g>\n     </g>\n     <g id=\"text_3\">\n      <!-- 40 -->\n      <defs>\n       <path d=\"M 37.796875 64.3125 \nL 12.890625 25.390625 \nL 37.796875 25.390625 \nz\nM 35.203125 72.90625 \nL 47.609375 72.90625 \nL 47.609375 25.390625 \nL 58.015625 25.390625 \nL 58.015625 17.1875 \nL 47.609375 17.1875 \nL 47.609375 0 \nL 37.796875 0 \nL 37.796875 17.1875 \nL 4.890625 17.1875 \nL 4.890625 26.703125 \nz\n\" id=\"DejaVuSans-52\"/>\n      </defs>\n      <g transform=\"translate(131.705123 112.041919)scale(0.1 -0.1)\">\n       <use xlink:href=\"#DejaVuSans-52\"/>\n       <use x=\"63.623047\" xlink:href=\"#DejaVuSans-48\"/>\n      </g>\n     </g>\n    </g>\n    <g id=\"xtick_4\">\n     <g id=\"line2d_4\">\n      <g>\n       <use style=\"stroke:#000000;stroke-width:0.8;\" x=\"192.952869\" xlink:href=\"#mbbedb0b147\" y=\"97.443481\"/>\n      </g>\n     </g>\n     <g id=\"text_4\">\n      <!-- 60 -->\n      <defs>\n       <path d=\"M 33.015625 40.375 \nQ 26.375 40.375 22.484375 35.828125 \nQ 18.609375 31.296875 18.609375 23.390625 \nQ 18.609375 15.53125 22.484375 10.953125 \nQ 26.375 6.390625 33.015625 6.390625 \nQ 39.65625 6.390625 43.53125 10.953125 \nQ 47.40625 15.53125 47.40625 23.390625 \nQ 47.40625 31.296875 43.53125 35.828125 \nQ 39.65625 40.375 33.015625 40.375 \nz\nM 52.59375 71.296875 \nL 52.59375 62.3125 \nQ 48.875 64.0625 45.09375 64.984375 \nQ 41.3125 65.921875 37.59375 65.921875 \nQ 27.828125 65.921875 22.671875 59.328125 \nQ 17.53125 52.734375 16.796875 39.40625 \nQ 19.671875 43.65625 24.015625 45.921875 \nQ 28.375 48.1875 33.59375 48.1875 \nQ 44.578125 48.1875 50.953125 41.515625 \nQ 57.328125 34.859375 57.328125 23.390625 \nQ 57.328125 12.15625 50.6875 5.359375 \nQ 44.046875 -1.421875 33.015625 -1.421875 \nQ 20.359375 -1.421875 13.671875 8.265625 \nQ 6.984375 17.96875 6.984375 36.375 \nQ 6.984375 53.65625 15.1875 63.9375 \nQ 23.390625 74.21875 37.203125 74.21875 \nQ 40.921875 74.21875 44.703125 73.484375 \nQ 48.484375 72.75 52.59375 71.296875 \nz\n\" id=\"DejaVuSans-54\"/>\n      </defs>\n      <g transform=\"translate(186.590369 112.041919)scale(0.1 -0.1)\">\n       <use xlink:href=\"#DejaVuSans-54\"/>\n       <use x=\"63.623047\" xlink:href=\"#DejaVuSans-48\"/>\n      </g>\n     </g>\n    </g>\n    <g id=\"xtick_5\">\n     <g id=\"line2d_5\">\n      <g>\n       <use style=\"stroke:#000000;stroke-width:0.8;\" x=\"247.838115\" xlink:href=\"#mbbedb0b147\" y=\"97.443481\"/>\n      </g>\n     </g>\n     <g id=\"text_5\">\n      <!-- 80 -->\n      <defs>\n       <path d=\"M 31.78125 34.625 \nQ 24.75 34.625 20.71875 30.859375 \nQ 16.703125 27.09375 16.703125 20.515625 \nQ 16.703125 13.921875 20.71875 10.15625 \nQ 24.75 6.390625 31.78125 6.390625 \nQ 38.8125 6.390625 42.859375 10.171875 \nQ 46.921875 13.96875 46.921875 20.515625 \nQ 46.921875 27.09375 42.890625 30.859375 \nQ 38.875 34.625 31.78125 34.625 \nz\nM 21.921875 38.8125 \nQ 15.578125 40.375 12.03125 44.71875 \nQ 8.5 49.078125 8.5 55.328125 \nQ 8.5 64.0625 14.71875 69.140625 \nQ 20.953125 74.21875 31.78125 74.21875 \nQ 42.671875 74.21875 48.875 69.140625 \nQ 55.078125 64.0625 55.078125 55.328125 \nQ 55.078125 49.078125 51.53125 44.71875 \nQ 48 40.375 41.703125 38.8125 \nQ 48.828125 37.15625 52.796875 32.3125 \nQ 56.78125 27.484375 56.78125 20.515625 \nQ 56.78125 9.90625 50.3125 4.234375 \nQ 43.84375 -1.421875 31.78125 -1.421875 \nQ 19.734375 -1.421875 13.25 4.234375 \nQ 6.78125 9.90625 6.78125 20.515625 \nQ 6.78125 27.484375 10.78125 32.3125 \nQ 14.796875 37.15625 21.921875 38.8125 \nz\nM 18.3125 54.390625 \nQ 18.3125 48.734375 21.84375 45.5625 \nQ 25.390625 42.390625 31.78125 42.390625 \nQ 38.140625 42.390625 41.71875 45.5625 \nQ 45.3125 48.734375 45.3125 54.390625 \nQ 45.3125 60.0625 41.71875 63.234375 \nQ 38.140625 66.40625 31.78125 66.40625 \nQ 25.390625 66.40625 21.84375 63.234375 \nQ 18.3125 60.0625 18.3125 54.390625 \nz\n\" id=\"DejaVuSans-56\"/>\n      </defs>\n      <g transform=\"translate(241.475615 112.041919)scale(0.1 -0.1)\">\n       <use xlink:href=\"#DejaVuSans-56\"/>\n       <use x=\"63.623047\" xlink:href=\"#DejaVuSans-48\"/>\n      </g>\n     </g>\n    </g>\n    <g id=\"xtick_6\">\n     <g id=\"line2d_6\">\n      <g>\n       <use style=\"stroke:#000000;stroke-width:0.8;\" x=\"302.723361\" xlink:href=\"#mbbedb0b147\" y=\"97.443481\"/>\n      </g>\n     </g>\n     <g id=\"text_6\">\n      <!-- 100 -->\n      <defs>\n       <path d=\"M 12.40625 8.296875 \nL 28.515625 8.296875 \nL 28.515625 63.921875 \nL 10.984375 60.40625 \nL 10.984375 69.390625 \nL 28.421875 72.90625 \nL 38.28125 72.90625 \nL 38.28125 8.296875 \nL 54.390625 8.296875 \nL 54.390625 0 \nL 12.40625 0 \nz\n\" id=\"DejaVuSans-49\"/>\n      </defs>\n      <g transform=\"translate(293.179611 112.041919)scale(0.1 -0.1)\">\n       <use xlink:href=\"#DejaVuSans-49\"/>\n       <use x=\"63.623047\" xlink:href=\"#DejaVuSans-48\"/>\n       <use x=\"127.246094\" xlink:href=\"#DejaVuSans-48\"/>\n      </g>\n     </g>\n    </g>\n    <g id=\"xtick_7\">\n     <g id=\"line2d_7\">\n      <g>\n       <use style=\"stroke:#000000;stroke-width:0.8;\" x=\"357.608607\" xlink:href=\"#mbbedb0b147\" y=\"97.443481\"/>\n      </g>\n     </g>\n     <g id=\"text_7\">\n      <!-- 120 -->\n      <g transform=\"translate(348.064857 112.041919)scale(0.1 -0.1)\">\n       <use xlink:href=\"#DejaVuSans-49\"/>\n       <use x=\"63.623047\" xlink:href=\"#DejaVuSans-50\"/>\n       <use x=\"127.246094\" xlink:href=\"#DejaVuSans-48\"/>\n      </g>\n     </g>\n    </g>\n   </g>\n   <g id=\"matplotlib.axis_2\">\n    <g id=\"ytick_1\">\n     <g id=\"line2d_8\">\n      <defs>\n       <path d=\"M 0 0 \nL -3.5 0 \n\" id=\"m5629db4418\" style=\"stroke:#000000;stroke-width:0.8;\"/>\n      </defs>\n      <g>\n       <use style=\"stroke:#000000;stroke-width:0.8;\" x=\"26.925\" xlink:href=\"#m5629db4418\" y=\"10.999219\"/>\n      </g>\n     </g>\n     <g id=\"text_8\">\n      <!-- 0 -->\n      <g transform=\"translate(13.5625 14.798437)scale(0.1 -0.1)\">\n       <use xlink:href=\"#DejaVuSans-48\"/>\n      </g>\n     </g>\n    </g>\n    <g id=\"ytick_2\">\n     <g id=\"line2d_9\">\n      <g>\n       <use style=\"stroke:#000000;stroke-width:0.8;\" x=\"26.925\" xlink:href=\"#m5629db4418\" y=\"38.441842\"/>\n      </g>\n     </g>\n     <g id=\"text_9\">\n      <!-- 10 -->\n      <g transform=\"translate(7.2 42.24106)scale(0.1 -0.1)\">\n       <use xlink:href=\"#DejaVuSans-49\"/>\n       <use x=\"63.623047\" xlink:href=\"#DejaVuSans-48\"/>\n      </g>\n     </g>\n    </g>\n    <g id=\"ytick_3\">\n     <g id=\"line2d_10\">\n      <g>\n       <use style=\"stroke:#000000;stroke-width:0.8;\" x=\"26.925\" xlink:href=\"#m5629db4418\" y=\"65.884465\"/>\n      </g>\n     </g>\n     <g id=\"text_10\">\n      <!-- 20 -->\n      <g transform=\"translate(7.2 69.683683)scale(0.1 -0.1)\">\n       <use xlink:href=\"#DejaVuSans-50\"/>\n       <use x=\"63.623047\" xlink:href=\"#DejaVuSans-48\"/>\n      </g>\n     </g>\n    </g>\n    <g id=\"ytick_4\">\n     <g id=\"line2d_11\">\n      <g>\n       <use style=\"stroke:#000000;stroke-width:0.8;\" x=\"26.925\" xlink:href=\"#m5629db4418\" y=\"93.327088\"/>\n      </g>\n     </g>\n     <g id=\"text_11\">\n      <!-- 30 -->\n      <defs>\n       <path d=\"M 40.578125 39.3125 \nQ 47.65625 37.796875 51.625 33 \nQ 55.609375 28.21875 55.609375 21.1875 \nQ 55.609375 10.40625 48.1875 4.484375 \nQ 40.765625 -1.421875 27.09375 -1.421875 \nQ 22.515625 -1.421875 17.65625 -0.515625 \nQ 12.796875 0.390625 7.625 2.203125 \nL 7.625 11.71875 \nQ 11.71875 9.328125 16.59375 8.109375 \nQ 21.484375 6.890625 26.8125 6.890625 \nQ 36.078125 6.890625 40.9375 10.546875 \nQ 45.796875 14.203125 45.796875 21.1875 \nQ 45.796875 27.640625 41.28125 31.265625 \nQ 36.765625 34.90625 28.71875 34.90625 \nL 20.21875 34.90625 \nL 20.21875 43.015625 \nL 29.109375 43.015625 \nQ 36.375 43.015625 40.234375 45.921875 \nQ 44.09375 48.828125 44.09375 54.296875 \nQ 44.09375 59.90625 40.109375 62.90625 \nQ 36.140625 65.921875 28.71875 65.921875 \nQ 24.65625 65.921875 20.015625 65.03125 \nQ 15.375 64.15625 9.8125 62.3125 \nL 9.8125 71.09375 \nQ 15.4375 72.65625 20.34375 73.4375 \nQ 25.25 74.21875 29.59375 74.21875 \nQ 40.828125 74.21875 47.359375 69.109375 \nQ 53.90625 64.015625 53.90625 55.328125 \nQ 53.90625 49.265625 50.4375 45.09375 \nQ 46.96875 40.921875 40.578125 39.3125 \nz\n\" id=\"DejaVuSans-51\"/>\n      </defs>\n      <g transform=\"translate(7.2 97.126306)scale(0.1 -0.1)\">\n       <use xlink:href=\"#DejaVuSans-51\"/>\n       <use x=\"63.623047\" xlink:href=\"#DejaVuSans-48\"/>\n      </g>\n     </g>\n    </g>\n   </g>\n   <g id=\"patch_3\">\n    <path d=\"M 26.925 97.443481 \nL 26.925 9.627088 \n\" style=\"fill:none;stroke:#000000;stroke-linecap:square;stroke-linejoin:miter;stroke-width:0.8;\"/>\n   </g>\n   <g id=\"patch_4\">\n    <path d=\"M 361.725 97.443481 \nL 361.725 9.627088 \n\" style=\"fill:none;stroke:#000000;stroke-linecap:square;stroke-linejoin:miter;stroke-width:0.8;\"/>\n   </g>\n   <g id=\"patch_5\">\n    <path d=\"M 26.925 97.443481 \nL 361.725 97.443481 \n\" style=\"fill:none;stroke:#000000;stroke-linecap:square;stroke-linejoin:miter;stroke-width:0.8;\"/>\n   </g>\n   <g id=\"patch_6\">\n    <path d=\"M 26.925 9.627088 \nL 361.725 9.627088 \n\" style=\"fill:none;stroke:#000000;stroke-linecap:square;stroke-linejoin:miter;stroke-width:0.8;\"/>\n   </g>\n  </g>\n </g>\n <defs>\n  <clipPath id=\"p6e4cb93cec\">\n   <rect height=\"87.816393\" width=\"334.8\" x=\"26.925\" y=\"9.627088\"/>\n  </clipPath>\n </defs>\n</svg>\n",
      "image/png": "[encoded data removed]"
     },
     "metadata": {
      "needs_background": "light"
     }
    },
    {
     "output_type": "stream",
     "name": "stdout",
     "text": "5     5     4     7\n"
    }
   ],
   "source": [
    "import matplotlib.pyplot as plt\n",
    "import numpy as np\n",
    "\n",
    "# functions to show an image\n",
    "\n",
    "\n",
    "def imshow(img):\n",
    "    img = img / 2 + 0.5     # unnormalize\n",
    "    npimg = img.numpy()\n",
    "    plt.imshow(np.transpose(npimg, (1, 2, 0)))\n",
    "    plt.show()\n",
    "\n",
    "\n",
    "#Get some random training images:\n",
    "#Make trainloader iteraterable (over batches, so 4 images are fetched): \n",
    "dataiter = iter(trainloader)\n",
    "#returns random next element:\n",
    "images, labels = dataiter.next()\n",
    "\n",
    "#Show images:\n",
    "imshow(torchvision.utils.make_grid(images))\n",
    "#Print labels:\n",
    "print(' '.join('%5s' % classes[labels[j]] for j in range(4)))\n",
    "\n",
    "#images, labels = dataiter.next"
   ]
  },
  {
   "cell_type": "code",
   "execution_count": 8,
   "metadata": {},
   "outputs": [
    {
     "output_type": "execute_result",
     "data": {
      "text/plain": "Net(\n  (fc1): Linear(in_features=784, out_features=50, bias=True)\n  (fc2): Linear(in_features=50, out_features=50, bias=True)\n  (fc3): Linear(in_features=50, out_features=10, bias=True)\n)"
     },
     "metadata": {},
     "execution_count": 8
    }
   ],
   "source": [
    "#Define CNN architecture:\n",
    "\n",
    "import torch.nn as nn\n",
    "import torch.nn.functional as F\n",
    "\n",
    "#Define Net as child class of nn.Module:\n",
    "class Net(nn.Module):\n",
    "    def __init__(self):\n",
    "        super(Net, self).__init__()\n",
    "        \n",
    "        self.fc1 = nn.Linear(28*28, 50)\n",
    "        self.fc2 = nn.Linear(50, 50)\n",
    "        self.fc3 = nn.Linear(50, 10)\n",
    "\n",
    "    def forward(self, x):\n",
    "        x = x.view(-1, 28 * 28)\n",
    "        x = F.relu(self.fc1(x))\n",
    "        x = F.relu(self.fc2(x))\n",
    "        x = F.log_softmax(self.fc3(x))\n",
    "        return x\n",
    "\n",
    "\n",
    "net = Net()\n",
    "net.to(device)"
   ]
  },
  {
   "cell_type": "code",
   "execution_count": 9,
   "metadata": {},
   "outputs": [],
   "source": [
    "#Define Loss function:\n",
    "\n",
    "import torch.optim as optim\n",
    "\n",
    "criterion = nn.NLLLoss()\n",
    "optimizer = optim.SGD(net.parameters(), lr=0.01, momentum=0.5)"
   ]
  },
  {
   "cell_type": "code",
   "execution_count": 10,
   "metadata": {
    "tags": []
   },
   "outputs": [
    {
     "output_type": "stream",
     "name": "stdout",
     "text": "Train Epoch: 0 [3998/60000 (13%)]\tLoss: 0.742803\nTrain Epoch: 0 [7998/60000 (27%)]\tLoss: 0.405635\nTrain Epoch: 0 [11998/60000 (40%)]\tLoss: 0.305014\nTrain Epoch: 0 [15998/60000 (53%)]\tLoss: 0.279381\nTrain Epoch: 0 [19998/60000 (67%)]\tLoss: 0.248606\nTrain Epoch: 0 [23998/60000 (80%)]\tLoss: 0.237571\nTrain Epoch: 0 [27998/60000 (93%)]\tLoss: 0.222507\nTrain Epoch: 1 [3998/60000 (13%)]\tLoss: 0.187698\nTrain Epoch: 1 [7998/60000 (27%)]\tLoss: 0.184848\nTrain Epoch: 1 [11998/60000 (40%)]\tLoss: 0.193160\nTrain Epoch: 1 [15998/60000 (53%)]\tLoss: 0.166727\nTrain Epoch: 1 [19998/60000 (67%)]\tLoss: 0.179984\nTrain Epoch: 1 [23998/60000 (80%)]\tLoss: 0.170179\nTrain Epoch: 1 [27998/60000 (93%)]\tLoss: 0.166872\nFinished Training\nCPU times: user 54 s, sys: 5.99 s, total: 1min\nWall time: 1min 3s\n"
    }
   ],
   "source": [
    "%%time\n",
    "\n",
    "#Training:\n",
    "epochs = 2\n",
    "loss = 0\n",
    "log_interval = 10\n",
    "\n",
    "#loop over the dataset \"epochs\" times:\n",
    "for epoch in range(epochs):\n",
    "\n",
    "    running_loss = 0.0\n",
    "    #enumerate(trainloader,0): make trainloader iterable and start the index at 0:\n",
    "    for i, data in enumerate(trainloader, 0):\n",
    "        #get the inputs; data is a list of [inputs, labels]:\n",
    "        inputs, labels = data[0].to(device), data[1].to(device)\n",
    "\n",
    "        inputs = inputs.view(-1, 28 * 28)\n",
    "        \n",
    "        #zero the parameter gradients (just to be save):\n",
    "        optimizer.zero_grad()\n",
    "\n",
    "        #forward:\n",
    "        outputs = net(inputs)\n",
    "\n",
    "        #loss += F.nll_loss(outputs, labels, reduction='sum').item()\n",
    "\n",
    "        #loss:\n",
    "        loss = criterion(outputs, labels)\n",
    "\n",
    "        #backward:\n",
    "        loss.backward()\n",
    "        #optimize:\n",
    "        optimizer.step()\n",
    "\n",
    "        #print statistics:\n",
    "        running_loss += loss.item()\n",
    "\n",
    "        #loss /= len(trainloader.dataset)\n",
    "\n",
    "        #print every 2000 mini-batches:\n",
    "        if i % 2000 == 1999:\n",
    "            print('Train Epoch: {} [{}/{} ({:.0f}%)]\\tLoss: {:.6f}'.format(epoch, i * len(data), len(trainloader.dataset), 100. * i / len(trainloader), running_loss / 2000))\n",
    "            running_loss = 0.0\n",
    "\n",
    "print('Finished Training')"
   ]
  },
  {
   "cell_type": "code",
   "execution_count": 11,
   "metadata": {},
   "outputs": [],
   "source": [
    "#Save trained model parameters:\n",
    "\n",
    "PATH = './mnist_net.pth'\n",
    "torch.save(net.state_dict(), PATH)"
   ]
  },
  {
   "cell_type": "code",
   "execution_count": 14,
   "metadata": {
    "tags": []
   },
   "outputs": [
    {
     "output_type": "stream",
     "name": "stdout",
     "text": "Accuracy of the network on the test images: 95 %\n"
    }
   ],
   "source": [
    "#Count correctly classified images of trained data set:\n",
    "\n",
    "correct = 0\n",
    "total = 0\n",
    "with torch.no_grad():\n",
    "    for data in testloader:\n",
    "        \n",
    "        images, labels = data[0].to(device), data[1].to(device)\n",
    "\n",
    "        #do predicts on test set:\n",
    "        outputs = net(images)\n",
    "        _, predicted = torch.max(outputs.data, 1)\n",
    "        #add the number of predicted images to \"total\", so we can keep track of how many images we have classified so far:\n",
    "        total += labels.size(0)\n",
    "        #add how many of the predicted labels are the same as the ground-truth labels:\n",
    "        #(predicted == labels): predicted is tensor with integers, as well as labels; check if all integers are the same\n",
    "        #(predicted == labels).sum(): sum up of how many were the same\n",
    "        #(predicted == labels).sum().item(): give that number as a single value;\n",
    "        #add it to the number of correctly classified instances:\n",
    "        correct += (predicted == labels).sum().item()\n",
    "\n",
    "#Print percentage of correctly classified instances:\n",
    "print('Accuracy of the network on the test images: %d %%' % (\n",
    "    100 * correct / total))\n"
   ]
  },
  {
   "cell_type": "code",
   "execution_count": 16,
   "metadata": {
    "tags": []
   },
   "outputs": [
    {
     "output_type": "stream",
     "name": "stdout",
     "text": "Accuracy of     0 : 98 %\nAccuracy of     1 : 98 %\nAccuracy of     2 : 96 %\nAccuracy of     3 : 96 %\nAccuracy of     4 : 96 %\nAccuracy of     5 : 93 %\nAccuracy of     6 : 97 %\nAccuracy of     7 : 94 %\nAccuracy of     8 : 94 %\nAccuracy of     9 : 92 %\n"
    }
   ],
   "source": [
    "#Classes that performed well vs. classes that did not perform well:\n",
    "\n",
    "#Initialize lists pf ten values of 0.0:\n",
    "class_correct = list(0. for i in range(10))\n",
    "class_total = list(0. for i in range(10))\n",
    "with torch.no_grad():\n",
    "    for data in testloader:\n",
    "        images, labels = data[0].to(device), data[1].to(device)\n",
    "\n",
    "        #do predictions on test set:\n",
    "        outputs = net(images)\n",
    "        _, predicted = torch.max(outputs, 1)\n",
    "        #store correctly predicted classes (where prediction matches label) in \"c\":\n",
    "        c = (predicted == labels)\n",
    "\n",
    "        for i in range(4):\n",
    "            label = labels[i]\n",
    "            #count up how a certain class was predicted (true of false):\n",
    "            class_correct[label] += c[i].item()\n",
    "            #count up how often this class was predicted:\n",
    "            class_total[label] += 1\n",
    "\n",
    "#Print percentage of correctly classifications of each class:\n",
    "for i in range(10):\n",
    "    print('Accuracy of %5s : %2d %%' % (\n",
    "        classes[i], 100 * class_correct[i] / class_total[i]))"
   ]
  }
 ],
 "metadata": {
  "language_info": {
   "codemirror_mode": {
    "name": "ipython",
    "version": 3
   },
   "file_extension": ".py",
   "mimetype": "text/x-python",
   "name": "python",
   "nbconvert_exporter": "python",
   "pygments_lexer": "ipython3",
   "version": "3.8.3-final"
  },
  "orig_nbformat": 2,
  "kernelspec": {
   "name": "python38364bitenvdlcondaac906d774a66413a80b27a36627fa0d1",
   "display_name": "Python 3.8.3 64-bit ('env_dl': conda)"
  }
 },
 "nbformat": 4,
 "nbformat_minor": 2
}